{
 "cells": [
  {
   "cell_type": "code",
   "execution_count": 1,
   "metadata": {},
   "outputs": [
    {
     "name": "stdout",
     "output_type": "stream",
     "text": [
      "Requirement already satisfied: gdown in /home/gabs/miniconda3/envs/atr/lib/python3.10/site-packages (from -r ../requirements.txt (line 1)) (5.2.0)\n",
      "Requirement already satisfied: numpy in /home/gabs/.local/lib/python3.10/site-packages (from -r ../requirements.txt (line 2)) (2.0.2)\n",
      "Requirement already satisfied: pandas in /home/gabs/.local/lib/python3.10/site-packages (from -r ../requirements.txt (line 3)) (2.2.3)\n",
      "Requirement already satisfied: matplotlib in /home/gabs/.local/lib/python3.10/site-packages (from -r ../requirements.txt (line 4)) (3.9.3)\n",
      "Requirement already satisfied: wandb in /home/gabs/.local/lib/python3.10/site-packages (from -r ../requirements.txt (line 5)) (0.19.1)\n",
      "Requirement already satisfied: kaggle in /home/gabs/miniconda3/envs/atr/lib/python3.10/site-packages (from -r ../requirements.txt (line 6)) (1.6.17)\n",
      "Requirement already satisfied: requests in /home/gabs/miniconda3/envs/atr/lib/python3.10/site-packages (from -r ../requirements.txt (line 7)) (2.32.3)\n",
      "Requirement already satisfied: scikit-learn in /home/gabs/.local/lib/python3.10/site-packages (from -r ../requirements.txt (line 8)) (1.5.2)\n",
      "Requirement already satisfied: spacy in /home/gabs/.local/lib/python3.10/site-packages (from -r ../requirements.txt (line 9)) (3.8.2)\n",
      "Requirement already satisfied: gradio in /home/gabs/.local/lib/python3.10/site-packages (from -r ../requirements.txt (line 10)) (5.4.0)\n",
      "Requirement already satisfied: tensorflow in /home/gabs/.local/lib/python3.10/site-packages (from -r ../requirements.txt (line 11)) (2.18.0)\n",
      "Collecting argparse (from -r ../requirements.txt (line 12))\n",
      "  Using cached argparse-1.4.0-py2.py3-none-any.whl.metadata (2.8 kB)\n",
      "Requirement already satisfied: transformers in /home/gabs/miniconda3/envs/atr/lib/python3.10/site-packages (from -r ../requirements.txt (line 13)) (4.48.0)\n",
      "Requirement already satisfied: torch in /home/gabs/.local/lib/python3.10/site-packages (from -r ../requirements.txt (line 14)) (2.5.1)\n",
      "Requirement already satisfied: seaborn in /home/gabs/miniconda3/envs/atr/lib/python3.10/site-packages (from -r ../requirements.txt (line 15)) (0.13.2)\n",
      "Requirement already satisfied: beautifulsoup4 in /home/gabs/miniconda3/envs/atr/lib/python3.10/site-packages (from gdown->-r ../requirements.txt (line 1)) (4.12.3)\n",
      "Requirement already satisfied: filelock in /home/gabs/miniconda3/envs/atr/lib/python3.10/site-packages (from gdown->-r ../requirements.txt (line 1)) (3.16.1)\n",
      "Requirement already satisfied: tqdm in /home/gabs/.local/lib/python3.10/site-packages (from gdown->-r ../requirements.txt (line 1)) (4.66.5)\n",
      "Requirement already satisfied: python-dateutil>=2.8.2 in /home/gabs/.local/lib/python3.10/site-packages (from pandas->-r ../requirements.txt (line 3)) (2.9.0.post0)\n",
      "Requirement already satisfied: pytz>=2020.1 in /home/gabs/.local/lib/python3.10/site-packages (from pandas->-r ../requirements.txt (line 3)) (2024.2)\n",
      "Requirement already satisfied: tzdata>=2022.7 in /home/gabs/.local/lib/python3.10/site-packages (from pandas->-r ../requirements.txt (line 3)) (2024.2)\n",
      "Requirement already satisfied: contourpy>=1.0.1 in /home/gabs/.local/lib/python3.10/site-packages (from matplotlib->-r ../requirements.txt (line 4)) (1.0.5)\n",
      "Requirement already satisfied: cycler>=0.10 in /home/gabs/.local/lib/python3.10/site-packages (from matplotlib->-r ../requirements.txt (line 4)) (0.11.0)\n",
      "Requirement already satisfied: fonttools>=4.22.0 in /home/gabs/.local/lib/python3.10/site-packages (from matplotlib->-r ../requirements.txt (line 4)) (4.37.3)\n",
      "Requirement already satisfied: kiwisolver>=1.3.1 in /home/gabs/.local/lib/python3.10/site-packages (from matplotlib->-r ../requirements.txt (line 4)) (1.4.4)\n",
      "Requirement already satisfied: packaging>=20.0 in /home/gabs/.local/lib/python3.10/site-packages (from matplotlib->-r ../requirements.txt (line 4)) (24.1)\n",
      "Requirement already satisfied: pillow>=8 in /home/gabs/miniconda3/envs/atr/lib/python3.10/site-packages (from matplotlib->-r ../requirements.txt (line 4)) (11.1.0)\n",
      "Requirement already satisfied: pyparsing>=2.3.1 in /home/gabs/miniconda3/envs/atr/lib/python3.10/site-packages (from matplotlib->-r ../requirements.txt (line 4)) (3.2.1)\n",
      "Requirement already satisfied: click!=8.0.0,>=7.1 in /home/gabs/miniconda3/envs/atr/lib/python3.10/site-packages (from wandb->-r ../requirements.txt (line 5)) (8.1.8)\n",
      "Requirement already satisfied: docker-pycreds>=0.4.0 in /home/gabs/.local/lib/python3.10/site-packages (from wandb->-r ../requirements.txt (line 5)) (0.4.0)\n",
      "Requirement already satisfied: gitpython!=3.1.29,>=1.0.0 in /home/gabs/.local/lib/python3.10/site-packages (from wandb->-r ../requirements.txt (line 5)) (3.1.43)\n",
      "Requirement already satisfied: platformdirs in /home/gabs/.local/lib/python3.10/site-packages (from wandb->-r ../requirements.txt (line 5)) (4.3.3)\n",
      "Requirement already satisfied: protobuf!=4.21.0,!=5.28.0,<6,>=3.19.0 in /home/gabs/.local/lib/python3.10/site-packages (from wandb->-r ../requirements.txt (line 5)) (5.29.1)\n",
      "Requirement already satisfied: psutil>=5.0.0 in /home/gabs/miniconda3/envs/atr/lib/python3.10/site-packages (from wandb->-r ../requirements.txt (line 5)) (5.9.0)\n",
      "Requirement already satisfied: pydantic<3,>=2.6 in /home/gabs/.local/lib/python3.10/site-packages (from wandb->-r ../requirements.txt (line 5)) (2.9.2)\n",
      "Requirement already satisfied: pyyaml in /home/gabs/miniconda3/envs/atr/lib/python3.10/site-packages (from wandb->-r ../requirements.txt (line 5)) (6.0.2)\n",
      "Requirement already satisfied: sentry-sdk>=2.0.0 in /home/gabs/.local/lib/python3.10/site-packages (from wandb->-r ../requirements.txt (line 5)) (2.19.1)\n",
      "Requirement already satisfied: setproctitle in /home/gabs/miniconda3/envs/atr/lib/python3.10/site-packages (from wandb->-r ../requirements.txt (line 5)) (1.3.4)\n",
      "Requirement already satisfied: setuptools in /home/gabs/miniconda3/envs/atr/lib/python3.10/site-packages (from wandb->-r ../requirements.txt (line 5)) (75.1.0)\n",
      "Requirement already satisfied: typing-extensions<5,>=4.4 in /home/gabs/.local/lib/python3.10/site-packages (from wandb->-r ../requirements.txt (line 5)) (4.12.2)\n",
      "Requirement already satisfied: six>=1.10 in /home/gabs/.local/lib/python3.10/site-packages (from kaggle->-r ../requirements.txt (line 6)) (1.16.0)\n",
      "Requirement already satisfied: certifi>=2023.7.22 in /home/gabs/miniconda3/envs/atr/lib/python3.10/site-packages (from kaggle->-r ../requirements.txt (line 6)) (2024.12.14)\n",
      "Requirement already satisfied: python-slugify in /home/gabs/miniconda3/envs/atr/lib/python3.10/site-packages (from kaggle->-r ../requirements.txt (line 6)) (8.0.4)\n",
      "Requirement already satisfied: urllib3 in /home/gabs/miniconda3/envs/atr/lib/python3.10/site-packages (from kaggle->-r ../requirements.txt (line 6)) (2.3.0)\n",
      "Requirement already satisfied: bleach in /home/gabs/miniconda3/envs/atr/lib/python3.10/site-packages (from kaggle->-r ../requirements.txt (line 6)) (6.2.0)\n",
      "Requirement already satisfied: charset-normalizer<4,>=2 in /home/gabs/miniconda3/envs/atr/lib/python3.10/site-packages (from requests->-r ../requirements.txt (line 7)) (3.4.1)\n",
      "Requirement already satisfied: idna<4,>=2.5 in /home/gabs/miniconda3/envs/atr/lib/python3.10/site-packages (from requests->-r ../requirements.txt (line 7)) (3.10)\n",
      "Requirement already satisfied: scipy>=1.6.0 in /home/gabs/.local/lib/python3.10/site-packages (from scikit-learn->-r ../requirements.txt (line 8)) (1.13.1)\n",
      "Requirement already satisfied: joblib>=1.2.0 in /home/gabs/.local/lib/python3.10/site-packages (from scikit-learn->-r ../requirements.txt (line 8)) (1.4.2)\n",
      "Requirement already satisfied: threadpoolctl>=3.1.0 in /home/gabs/.local/lib/python3.10/site-packages (from scikit-learn->-r ../requirements.txt (line 8)) (3.5.0)\n",
      "Requirement already satisfied: spacy-legacy<3.1.0,>=3.0.11 in /home/gabs/.local/lib/python3.10/site-packages (from spacy->-r ../requirements.txt (line 9)) (3.0.12)\n",
      "Requirement already satisfied: spacy-loggers<2.0.0,>=1.0.0 in /home/gabs/.local/lib/python3.10/site-packages (from spacy->-r ../requirements.txt (line 9)) (1.0.5)\n",
      "Requirement already satisfied: murmurhash<1.1.0,>=0.28.0 in /home/gabs/.local/lib/python3.10/site-packages (from spacy->-r ../requirements.txt (line 9)) (1.0.11)\n",
      "Requirement already satisfied: cymem<2.1.0,>=2.0.2 in /home/gabs/.local/lib/python3.10/site-packages (from spacy->-r ../requirements.txt (line 9)) (2.0.10)\n",
      "Requirement already satisfied: preshed<3.1.0,>=3.0.2 in /home/gabs/.local/lib/python3.10/site-packages (from spacy->-r ../requirements.txt (line 9)) (3.0.9)\n",
      "Requirement already satisfied: thinc<8.4.0,>=8.3.0 in /home/gabs/.local/lib/python3.10/site-packages (from spacy->-r ../requirements.txt (line 9)) (8.3.2)\n",
      "Requirement already satisfied: wasabi<1.2.0,>=0.9.1 in /home/gabs/.local/lib/python3.10/site-packages (from spacy->-r ../requirements.txt (line 9)) (1.1.3)\n",
      "Requirement already satisfied: srsly<3.0.0,>=2.4.3 in /home/gabs/.local/lib/python3.10/site-packages (from spacy->-r ../requirements.txt (line 9)) (2.4.8)\n",
      "Requirement already satisfied: catalogue<2.1.0,>=2.0.6 in /home/gabs/.local/lib/python3.10/site-packages (from spacy->-r ../requirements.txt (line 9)) (2.0.10)\n",
      "Requirement already satisfied: weasel<0.5.0,>=0.1.0 in /home/gabs/.local/lib/python3.10/site-packages (from spacy->-r ../requirements.txt (line 9)) (0.4.1)\n",
      "Requirement already satisfied: typer<1.0.0,>=0.3.0 in /home/gabs/.local/lib/python3.10/site-packages (from spacy->-r ../requirements.txt (line 9)) (0.12.5)\n",
      "Requirement already satisfied: jinja2 in /home/gabs/.local/lib/python3.10/site-packages (from spacy->-r ../requirements.txt (line 9)) (3.1.2)\n",
      "Requirement already satisfied: langcodes<4.0.0,>=3.2.0 in /home/gabs/.local/lib/python3.10/site-packages (from spacy->-r ../requirements.txt (line 9)) (3.5.0)\n",
      "Requirement already satisfied: aiofiles<24.0,>=22.0 in /home/gabs/.local/lib/python3.10/site-packages (from gradio->-r ../requirements.txt (line 10)) (23.2.1)\n",
      "Requirement already satisfied: anyio<5.0,>=3.0 in /home/gabs/.local/lib/python3.10/site-packages (from gradio->-r ../requirements.txt (line 10)) (4.6.2.post1)\n",
      "Requirement already satisfied: fastapi<1.0,>=0.115.2 in /home/gabs/.local/lib/python3.10/site-packages (from gradio->-r ../requirements.txt (line 10)) (0.115.3)\n",
      "Requirement already satisfied: ffmpy in /home/gabs/.local/lib/python3.10/site-packages (from gradio->-r ../requirements.txt (line 10)) (0.4.0)\n",
      "Requirement already satisfied: gradio-client==1.4.2 in /home/gabs/.local/lib/python3.10/site-packages (from gradio->-r ../requirements.txt (line 10)) (1.4.2)\n",
      "Requirement already satisfied: httpx>=0.24.1 in /home/gabs/.local/lib/python3.10/site-packages (from gradio->-r ../requirements.txt (line 10)) (0.27.2)\n",
      "Requirement already satisfied: huggingface-hub>=0.25.1 in /home/gabs/.local/lib/python3.10/site-packages (from gradio->-r ../requirements.txt (line 10)) (0.26.1)\n",
      "Requirement already satisfied: markupsafe~=2.0 in /home/gabs/.local/lib/python3.10/site-packages (from gradio->-r ../requirements.txt (line 10)) (2.1.1)\n",
      "Requirement already satisfied: orjson~=3.0 in /home/gabs/.local/lib/python3.10/site-packages (from gradio->-r ../requirements.txt (line 10)) (3.10.10)\n",
      "Requirement already satisfied: pydub in /home/gabs/.local/lib/python3.10/site-packages (from gradio->-r ../requirements.txt (line 10)) (0.25.1)\n",
      "Requirement already satisfied: python-multipart==0.0.12 in /home/gabs/.local/lib/python3.10/site-packages (from gradio->-r ../requirements.txt (line 10)) (0.0.12)\n",
      "Requirement already satisfied: ruff>=0.2.2 in /home/gabs/.local/lib/python3.10/site-packages (from gradio->-r ../requirements.txt (line 10)) (0.7.1)\n",
      "Requirement already satisfied: safehttpx<1.0,>=0.1.1 in /home/gabs/.local/lib/python3.10/site-packages (from gradio->-r ../requirements.txt (line 10)) (0.1.1)\n",
      "Requirement already satisfied: semantic-version~=2.0 in /home/gabs/.local/lib/python3.10/site-packages (from gradio->-r ../requirements.txt (line 10)) (2.10.0)\n",
      "Requirement already satisfied: starlette<1.0,>=0.40.0 in /home/gabs/.local/lib/python3.10/site-packages (from gradio->-r ../requirements.txt (line 10)) (0.41.2)\n",
      "Requirement already satisfied: tomlkit==0.12.0 in /home/gabs/.local/lib/python3.10/site-packages (from gradio->-r ../requirements.txt (line 10)) (0.12.0)\n",
      "Requirement already satisfied: uvicorn>=0.14.0 in /home/gabs/.local/lib/python3.10/site-packages (from gradio->-r ../requirements.txt (line 10)) (0.32.0)\n",
      "Requirement already satisfied: fsspec in /home/gabs/.local/lib/python3.10/site-packages (from gradio-client==1.4.2->gradio->-r ../requirements.txt (line 10)) (2024.10.0)\n",
      "Requirement already satisfied: websockets<13.0,>=10.0 in /home/gabs/.local/lib/python3.10/site-packages (from gradio-client==1.4.2->gradio->-r ../requirements.txt (line 10)) (12.0)\n",
      "Requirement already satisfied: absl-py>=1.0.0 in /home/gabs/.local/lib/python3.10/site-packages (from tensorflow->-r ../requirements.txt (line 11)) (1.2.0)\n",
      "Requirement already satisfied: astunparse>=1.6.0 in /home/gabs/.local/lib/python3.10/site-packages (from tensorflow->-r ../requirements.txt (line 11)) (1.6.3)\n",
      "Requirement already satisfied: flatbuffers>=24.3.25 in /home/gabs/.local/lib/python3.10/site-packages (from tensorflow->-r ../requirements.txt (line 11)) (24.12.23)\n",
      "Requirement already satisfied: gast!=0.5.0,!=0.5.1,!=0.5.2,>=0.2.1 in /home/gabs/.local/lib/python3.10/site-packages (from tensorflow->-r ../requirements.txt (line 11)) (0.4.0)\n",
      "Requirement already satisfied: google-pasta>=0.1.1 in /home/gabs/.local/lib/python3.10/site-packages (from tensorflow->-r ../requirements.txt (line 11)) (0.2.0)\n",
      "Requirement already satisfied: libclang>=13.0.0 in /home/gabs/.local/lib/python3.10/site-packages (from tensorflow->-r ../requirements.txt (line 11)) (14.0.6)\n",
      "Requirement already satisfied: opt-einsum>=2.3.2 in /home/gabs/.local/lib/python3.10/site-packages (from tensorflow->-r ../requirements.txt (line 11)) (3.3.0)\n",
      "Requirement already satisfied: termcolor>=1.1.0 in /home/gabs/.local/lib/python3.10/site-packages (from tensorflow->-r ../requirements.txt (line 11)) (2.0.1)\n",
      "Requirement already satisfied: wrapt>=1.11.0 in /home/gabs/.local/lib/python3.10/site-packages (from tensorflow->-r ../requirements.txt (line 11)) (1.14.1)\n",
      "Requirement already satisfied: grpcio<2.0,>=1.24.3 in /home/gabs/.local/lib/python3.10/site-packages (from tensorflow->-r ../requirements.txt (line 11)) (1.69.0)\n",
      "Requirement already satisfied: tensorboard<2.19,>=2.18 in /home/gabs/.local/lib/python3.10/site-packages (from tensorflow->-r ../requirements.txt (line 11)) (2.18.0)\n",
      "Requirement already satisfied: keras>=3.5.0 in /home/gabs/.local/lib/python3.10/site-packages (from tensorflow->-r ../requirements.txt (line 11)) (3.8.0)\n",
      "Requirement already satisfied: h5py>=3.11.0 in /home/gabs/.local/lib/python3.10/site-packages (from tensorflow->-r ../requirements.txt (line 11)) (3.12.1)\n",
      "Requirement already satisfied: ml-dtypes<0.5.0,>=0.4.0 in /home/gabs/.local/lib/python3.10/site-packages (from tensorflow->-r ../requirements.txt (line 11)) (0.4.1)\n",
      "Requirement already satisfied: tensorflow-io-gcs-filesystem>=0.23.1 in /home/gabs/.local/lib/python3.10/site-packages (from tensorflow->-r ../requirements.txt (line 11)) (0.27.0)\n",
      "Requirement already satisfied: regex!=2019.12.17 in /home/gabs/miniconda3/envs/atr/lib/python3.10/site-packages (from transformers->-r ../requirements.txt (line 13)) (2024.11.6)\n",
      "Requirement already satisfied: tokenizers<0.22,>=0.21 in /home/gabs/miniconda3/envs/atr/lib/python3.10/site-packages (from transformers->-r ../requirements.txt (line 13)) (0.21.0)\n",
      "Requirement already satisfied: safetensors>=0.4.1 in /home/gabs/miniconda3/envs/atr/lib/python3.10/site-packages (from transformers->-r ../requirements.txt (line 13)) (0.5.2)\n",
      "Requirement already satisfied: networkx in /home/gabs/.local/lib/python3.10/site-packages (from torch->-r ../requirements.txt (line 14)) (3.4.2)\n",
      "Requirement already satisfied: nvidia-cuda-nvrtc-cu12==12.4.127 in /home/gabs/.local/lib/python3.10/site-packages (from torch->-r ../requirements.txt (line 14)) (12.4.127)\n",
      "Requirement already satisfied: nvidia-cuda-runtime-cu12==12.4.127 in /home/gabs/.local/lib/python3.10/site-packages (from torch->-r ../requirements.txt (line 14)) (12.4.127)\n",
      "Requirement already satisfied: nvidia-cuda-cupti-cu12==12.4.127 in /home/gabs/.local/lib/python3.10/site-packages (from torch->-r ../requirements.txt (line 14)) (12.4.127)\n",
      "Requirement already satisfied: nvidia-cudnn-cu12==9.1.0.70 in /home/gabs/.local/lib/python3.10/site-packages (from torch->-r ../requirements.txt (line 14)) (9.1.0.70)\n",
      "Requirement already satisfied: nvidia-cublas-cu12==12.4.5.8 in /home/gabs/.local/lib/python3.10/site-packages (from torch->-r ../requirements.txt (line 14)) (12.4.5.8)\n",
      "Requirement already satisfied: nvidia-cufft-cu12==11.2.1.3 in /home/gabs/.local/lib/python3.10/site-packages (from torch->-r ../requirements.txt (line 14)) (11.2.1.3)\n",
      "Requirement already satisfied: nvidia-curand-cu12==10.3.5.147 in /home/gabs/.local/lib/python3.10/site-packages (from torch->-r ../requirements.txt (line 14)) (10.3.5.147)\n",
      "Requirement already satisfied: nvidia-cusolver-cu12==11.6.1.9 in /home/gabs/.local/lib/python3.10/site-packages (from torch->-r ../requirements.txt (line 14)) (11.6.1.9)\n",
      "Requirement already satisfied: nvidia-cusparse-cu12==12.3.1.170 in /home/gabs/.local/lib/python3.10/site-packages (from torch->-r ../requirements.txt (line 14)) (12.3.1.170)\n",
      "Requirement already satisfied: nvidia-nccl-cu12==2.21.5 in /home/gabs/.local/lib/python3.10/site-packages (from torch->-r ../requirements.txt (line 14)) (2.21.5)\n",
      "Requirement already satisfied: nvidia-nvtx-cu12==12.4.127 in /home/gabs/.local/lib/python3.10/site-packages (from torch->-r ../requirements.txt (line 14)) (12.4.127)\n",
      "Requirement already satisfied: nvidia-nvjitlink-cu12==12.4.127 in /home/gabs/.local/lib/python3.10/site-packages (from torch->-r ../requirements.txt (line 14)) (12.4.127)\n",
      "Requirement already satisfied: triton==3.1.0 in /home/gabs/.local/lib/python3.10/site-packages (from torch->-r ../requirements.txt (line 14)) (3.1.0)\n",
      "Requirement already satisfied: sympy==1.13.1 in /home/gabs/.local/lib/python3.10/site-packages (from torch->-r ../requirements.txt (line 14)) (1.13.1)\n",
      "Requirement already satisfied: mpmath<1.4,>=1.1.0 in /home/gabs/.local/lib/python3.10/site-packages (from sympy==1.13.1->torch->-r ../requirements.txt (line 14)) (1.3.0)\n",
      "Requirement already satisfied: sniffio>=1.1 in /home/gabs/.local/lib/python3.10/site-packages (from anyio<5.0,>=3.0->gradio->-r ../requirements.txt (line 10)) (1.3.1)\n",
      "Requirement already satisfied: exceptiongroup>=1.0.2 in /home/gabs/.local/lib/python3.10/site-packages (from anyio<5.0,>=3.0->gradio->-r ../requirements.txt (line 10)) (1.2.2)\n",
      "Requirement already satisfied: wheel<1.0,>=0.23.0 in /home/gabs/miniconda3/envs/atr/lib/python3.10/site-packages (from astunparse>=1.6.0->tensorflow->-r ../requirements.txt (line 11)) (0.44.0)\n",
      "Requirement already satisfied: gitdb<5,>=4.0.1 in /home/gabs/.local/lib/python3.10/site-packages (from gitpython!=3.1.29,>=1.0.0->wandb->-r ../requirements.txt (line 5)) (4.0.11)\n",
      "Requirement already satisfied: httpcore==1.* in /home/gabs/.local/lib/python3.10/site-packages (from httpx>=0.24.1->gradio->-r ../requirements.txt (line 10)) (1.0.6)\n",
      "Requirement already satisfied: h11<0.15,>=0.13 in /home/gabs/.local/lib/python3.10/site-packages (from httpcore==1.*->httpx>=0.24.1->gradio->-r ../requirements.txt (line 10)) (0.14.0)\n",
      "Requirement already satisfied: rich in /home/gabs/.local/lib/python3.10/site-packages (from keras>=3.5.0->tensorflow->-r ../requirements.txt (line 11)) (13.9.3)\n",
      "Requirement already satisfied: namex in /home/gabs/.local/lib/python3.10/site-packages (from keras>=3.5.0->tensorflow->-r ../requirements.txt (line 11)) (0.0.8)\n",
      "Requirement already satisfied: optree in /home/gabs/.local/lib/python3.10/site-packages (from keras>=3.5.0->tensorflow->-r ../requirements.txt (line 11)) (0.14.0)\n",
      "Requirement already satisfied: language-data>=1.2 in /home/gabs/.local/lib/python3.10/site-packages (from langcodes<4.0.0,>=3.2.0->spacy->-r ../requirements.txt (line 9)) (1.3.0)\n",
      "Requirement already satisfied: annotated-types>=0.6.0 in /home/gabs/.local/lib/python3.10/site-packages (from pydantic<3,>=2.6->wandb->-r ../requirements.txt (line 5)) (0.7.0)\n",
      "Requirement already satisfied: pydantic-core==2.23.4 in /home/gabs/.local/lib/python3.10/site-packages (from pydantic<3,>=2.6->wandb->-r ../requirements.txt (line 5)) (2.23.4)\n",
      "Requirement already satisfied: markdown>=2.6.8 in /home/gabs/.local/lib/python3.10/site-packages (from tensorboard<2.19,>=2.18->tensorflow->-r ../requirements.txt (line 11)) (3.4.1)\n",
      "Requirement already satisfied: tensorboard-data-server<0.8.0,>=0.7.0 in /home/gabs/.local/lib/python3.10/site-packages (from tensorboard<2.19,>=2.18->tensorflow->-r ../requirements.txt (line 11)) (0.7.2)\n",
      "Requirement already satisfied: werkzeug>=1.0.1 in /home/gabs/.local/lib/python3.10/site-packages (from tensorboard<2.19,>=2.18->tensorflow->-r ../requirements.txt (line 11)) (2.2.2)\n",
      "Requirement already satisfied: blis<1.1.0,>=1.0.0 in /home/gabs/.local/lib/python3.10/site-packages (from thinc<8.4.0,>=8.3.0->spacy->-r ../requirements.txt (line 9)) (1.0.1)\n",
      "Requirement already satisfied: confection<1.0.0,>=0.0.1 in /home/gabs/.local/lib/python3.10/site-packages (from thinc<8.4.0,>=8.3.0->spacy->-r ../requirements.txt (line 9)) (0.1.5)\n",
      "Requirement already satisfied: shellingham>=1.3.0 in /home/gabs/miniconda3/envs/atr/lib/python3.10/site-packages (from typer<1.0.0,>=0.3.0->spacy->-r ../requirements.txt (line 9)) (1.5.4)\n",
      "Requirement already satisfied: cloudpathlib<1.0.0,>=0.7.0 in /home/gabs/.local/lib/python3.10/site-packages (from weasel<0.5.0,>=0.1.0->spacy->-r ../requirements.txt (line 9)) (0.20.0)\n",
      "Requirement already satisfied: smart-open<8.0.0,>=5.2.1 in /home/gabs/.local/lib/python3.10/site-packages (from weasel<0.5.0,>=0.1.0->spacy->-r ../requirements.txt (line 9)) (7.0.5)\n",
      "Requirement already satisfied: soupsieve>1.2 in /home/gabs/miniconda3/envs/atr/lib/python3.10/site-packages (from beautifulsoup4->gdown->-r ../requirements.txt (line 1)) (2.6)\n",
      "Requirement already satisfied: webencodings in /home/gabs/miniconda3/envs/atr/lib/python3.10/site-packages (from bleach->kaggle->-r ../requirements.txt (line 6)) (0.5.1)\n",
      "Requirement already satisfied: text-unidecode>=1.3 in /home/gabs/miniconda3/envs/atr/lib/python3.10/site-packages (from python-slugify->kaggle->-r ../requirements.txt (line 6)) (1.3)\n",
      "Requirement already satisfied: PySocks!=1.5.7,>=1.5.6 in /home/gabs/miniconda3/envs/atr/lib/python3.10/site-packages (from requests[socks]->gdown->-r ../requirements.txt (line 1)) (1.7.1)\n",
      "Requirement already satisfied: smmap<6,>=3.0.1 in /home/gabs/.local/lib/python3.10/site-packages (from gitdb<5,>=4.0.1->gitpython!=3.1.29,>=1.0.0->wandb->-r ../requirements.txt (line 5)) (5.0.1)\n",
      "Requirement already satisfied: marisa-trie>=1.1.0 in /home/gabs/.local/lib/python3.10/site-packages (from language-data>=1.2->langcodes<4.0.0,>=3.2.0->spacy->-r ../requirements.txt (line 9)) (1.2.1)\n",
      "Requirement already satisfied: markdown-it-py>=2.2.0 in /home/gabs/.local/lib/python3.10/site-packages (from rich->keras>=3.5.0->tensorflow->-r ../requirements.txt (line 11)) (3.0.0)\n",
      "Requirement already satisfied: pygments<3.0.0,>=2.13.0 in /home/gabs/.local/lib/python3.10/site-packages (from rich->keras>=3.5.0->tensorflow->-r ../requirements.txt (line 11)) (2.13.0)\n",
      "Requirement already satisfied: mdurl~=0.1 in /home/gabs/.local/lib/python3.10/site-packages (from markdown-it-py>=2.2.0->rich->keras>=3.5.0->tensorflow->-r ../requirements.txt (line 11)) (0.1.2)\n",
      "Using cached argparse-1.4.0-py2.py3-none-any.whl (23 kB)\n",
      "Installing collected packages: argparse\n",
      "Successfully installed argparse-1.4.0\n",
      "\n",
      "\u001b[1m[\u001b[0m\u001b[34;49mnotice\u001b[0m\u001b[1;39;49m]\u001b[0m\u001b[39;49m A new release of pip is available: \u001b[0m\u001b[31;49m24.3.1\u001b[0m\u001b[39;49m -> \u001b[0m\u001b[32;49m25.0\u001b[0m\n",
      "\u001b[1m[\u001b[0m\u001b[34;49mnotice\u001b[0m\u001b[1;39;49m]\u001b[0m\u001b[39;49m To update, run: \u001b[0m\u001b[32;49mpip install --upgrade pip\u001b[0m\n",
      "Note: you may need to restart the kernel to use updated packages.\n"
     ]
    }
   ],
   "source": [
    "%pip install -r ../requirements.txt"
   ]
  },
  {
   "cell_type": "code",
   "execution_count": 2,
   "metadata": {},
   "outputs": [
    {
     "name": "stderr",
     "output_type": "stream",
     "text": [
      "2025-01-26 16:59:25.038772: E external/local_xla/xla/stream_executor/cuda/cuda_fft.cc:477] Unable to register cuFFT factory: Attempting to register factory for plugin cuFFT when one has already been registered\n",
      "WARNING: All log messages before absl::InitializeLog() is called are written to STDERR\n",
      "E0000 00:00:1737921565.104734    3679 cuda_dnn.cc:8310] Unable to register cuDNN factory: Attempting to register factory for plugin cuDNN when one has already been registered\n",
      "E0000 00:00:1737921565.126177    3679 cuda_blas.cc:1418] Unable to register cuBLAS factory: Attempting to register factory for plugin cuBLAS when one has already been registered\n",
      "2025-01-26 16:59:25.278773: I tensorflow/core/platform/cpu_feature_guard.cc:210] This TensorFlow binary is optimized to use available CPU instructions in performance-critical operations.\n",
      "To enable the following instructions: AVX2 FMA, in other operations, rebuild TensorFlow with the appropriate compiler flags.\n"
     ]
    }
   ],
   "source": [
    "from sklearn.feature_extraction.text import TfidfVectorizer\n",
    "from tensorflow.keras.models import Sequential\n",
    "from tensorflow.keras.layers import Dense, Dropout\n",
    "from sklearn.model_selection import train_test_split\n",
    "from sklearn.metrics import confusion_matrix\n",
    "import numpy as np\n",
    "import pandas as pd\n",
    "import matplotlib.pyplot as plt\n",
    "import seaborn as sns\n",
    "import joblib"
   ]
  },
  {
   "cell_type": "code",
   "execution_count": 3,
   "metadata": {},
   "outputs": [],
   "source": [
    "def get_data():\n",
    "    #TODO CRIAR A FUNÇÃO QUE BAIXA OS DADOS DO WANDB\n",
    "    data = pd.read_csv('../results/balanced.csv')\n",
    "    return data"
   ]
  },
  {
   "cell_type": "code",
   "execution_count": 4,
   "metadata": {},
   "outputs": [],
   "source": [
    "def vectorize_data(data):\n",
    "    vectorizer = TfidfVectorizer(max_features=5000)\n",
    "    X_tfidf = vectorizer.fit_transform(data).toarray()\n",
    "    joblib.dump(vectorizer, '../models/vectorizer.pkl')\n",
    "    return X_tfidf"
   ]
  },
  {
   "cell_type": "code",
   "execution_count": 5,
   "metadata": {},
   "outputs": [],
   "source": [
    "def create_model():\n",
    "    model = Sequential([\n",
    "        Dense(128, activation='relu', input_shape=(5000,)),\n",
    "        Dense(64, activation='relu'),\n",
    "        Dense(64, activation='relu'),\n",
    "        Dense(1, activation='sigmoid')\n",
    "    ])\n",
    "\n",
    "\n",
    "    model.compile(optimizer='adam',\n",
    "                loss='binary_crossentropy',\n",
    "                metrics=['accuracy'])\n",
    "\n",
    "    model.summary()\n",
    "    return model"
   ]
  },
  {
   "cell_type": "code",
   "execution_count": 6,
   "metadata": {},
   "outputs": [],
   "source": [
    "def train_model():\n",
    "    df = get_data()\n",
    "\n",
    "    X_Tfidf = vectorize_data(df['clean_text'])\n",
    "    X_train, X_test, y_train, y_test = train_test_split(X_Tfidf, df['label'], test_size=0.2, random_state=42)\n",
    "    model = create_model()\n",
    "\n",
    "    model.fit(X_train, y_train, validation_data=(X_test, y_test), epochs=10, batch_size=32)\n",
    "\n",
    "    y_pred = model.predict(X_test)\n",
    "    y_pred_classes = (y_pred > 0.5).astype(int)\n",
    "    cm = confusion_matrix(y_test, y_pred_classes)\n",
    "\n",
    "    return model, cm"
   ]
  },
  {
   "cell_type": "code",
   "execution_count": 7,
   "metadata": {},
   "outputs": [
    {
     "name": "stderr",
     "output_type": "stream",
     "text": [
      "/home/gabs/.local/lib/python3.10/site-packages/keras/src/layers/core/dense.py:87: UserWarning: Do not pass an `input_shape`/`input_dim` argument to a layer. When using Sequential models, prefer using an `Input(shape)` object as the first layer in the model instead.\n",
      "  super().__init__(activity_regularizer=activity_regularizer, **kwargs)\n",
      "2025-01-26 16:59:37.771377: E external/local_xla/xla/stream_executor/cuda/cuda_driver.cc:152] failed call to cuInit: INTERNAL: CUDA error: Failed call to cuInit: UNKNOWN ERROR (303)\n"
     ]
    },
    {
     "data": {
      "text/html": [
       "<pre style=\"white-space:pre;overflow-x:auto;line-height:normal;font-family:Menlo,'DejaVu Sans Mono',consolas,'Courier New',monospace\"><span style=\"font-weight: bold\">Model: \"sequential\"</span>\n",
       "</pre>\n"
      ],
      "text/plain": [
       "\u001b[1mModel: \"sequential\"\u001b[0m\n"
      ]
     },
     "metadata": {},
     "output_type": "display_data"
    },
    {
     "data": {
      "text/html": [
       "<pre style=\"white-space:pre;overflow-x:auto;line-height:normal;font-family:Menlo,'DejaVu Sans Mono',consolas,'Courier New',monospace\">┏━━━━━━━━━━━━━━━━━━━━━━━━━━━━━━━━━┳━━━━━━━━━━━━━━━━━━━━━━━━┳━━━━━━━━━━━━━━━┓\n",
       "┃<span style=\"font-weight: bold\"> Layer (type)                    </span>┃<span style=\"font-weight: bold\"> Output Shape           </span>┃<span style=\"font-weight: bold\">       Param # </span>┃\n",
       "┡━━━━━━━━━━━━━━━━━━━━━━━━━━━━━━━━━╇━━━━━━━━━━━━━━━━━━━━━━━━╇━━━━━━━━━━━━━━━┩\n",
       "│ dense (<span style=\"color: #0087ff; text-decoration-color: #0087ff\">Dense</span>)                   │ (<span style=\"color: #00d7ff; text-decoration-color: #00d7ff\">None</span>, <span style=\"color: #00af00; text-decoration-color: #00af00\">128</span>)            │       <span style=\"color: #00af00; text-decoration-color: #00af00\">640,128</span> │\n",
       "├─────────────────────────────────┼────────────────────────┼───────────────┤\n",
       "│ dense_1 (<span style=\"color: #0087ff; text-decoration-color: #0087ff\">Dense</span>)                 │ (<span style=\"color: #00d7ff; text-decoration-color: #00d7ff\">None</span>, <span style=\"color: #00af00; text-decoration-color: #00af00\">64</span>)             │         <span style=\"color: #00af00; text-decoration-color: #00af00\">8,256</span> │\n",
       "├─────────────────────────────────┼────────────────────────┼───────────────┤\n",
       "│ dense_2 (<span style=\"color: #0087ff; text-decoration-color: #0087ff\">Dense</span>)                 │ (<span style=\"color: #00d7ff; text-decoration-color: #00d7ff\">None</span>, <span style=\"color: #00af00; text-decoration-color: #00af00\">64</span>)             │         <span style=\"color: #00af00; text-decoration-color: #00af00\">4,160</span> │\n",
       "├─────────────────────────────────┼────────────────────────┼───────────────┤\n",
       "│ dense_3 (<span style=\"color: #0087ff; text-decoration-color: #0087ff\">Dense</span>)                 │ (<span style=\"color: #00d7ff; text-decoration-color: #00d7ff\">None</span>, <span style=\"color: #00af00; text-decoration-color: #00af00\">1</span>)              │            <span style=\"color: #00af00; text-decoration-color: #00af00\">65</span> │\n",
       "└─────────────────────────────────┴────────────────────────┴───────────────┘\n",
       "</pre>\n"
      ],
      "text/plain": [
       "┏━━━━━━━━━━━━━━━━━━━━━━━━━━━━━━━━━┳━━━━━━━━━━━━━━━━━━━━━━━━┳━━━━━━━━━━━━━━━┓\n",
       "┃\u001b[1m \u001b[0m\u001b[1mLayer (type)                   \u001b[0m\u001b[1m \u001b[0m┃\u001b[1m \u001b[0m\u001b[1mOutput Shape          \u001b[0m\u001b[1m \u001b[0m┃\u001b[1m \u001b[0m\u001b[1m      Param #\u001b[0m\u001b[1m \u001b[0m┃\n",
       "┡━━━━━━━━━━━━━━━━━━━━━━━━━━━━━━━━━╇━━━━━━━━━━━━━━━━━━━━━━━━╇━━━━━━━━━━━━━━━┩\n",
       "│ dense (\u001b[38;5;33mDense\u001b[0m)                   │ (\u001b[38;5;45mNone\u001b[0m, \u001b[38;5;34m128\u001b[0m)            │       \u001b[38;5;34m640,128\u001b[0m │\n",
       "├─────────────────────────────────┼────────────────────────┼───────────────┤\n",
       "│ dense_1 (\u001b[38;5;33mDense\u001b[0m)                 │ (\u001b[38;5;45mNone\u001b[0m, \u001b[38;5;34m64\u001b[0m)             │         \u001b[38;5;34m8,256\u001b[0m │\n",
       "├─────────────────────────────────┼────────────────────────┼───────────────┤\n",
       "│ dense_2 (\u001b[38;5;33mDense\u001b[0m)                 │ (\u001b[38;5;45mNone\u001b[0m, \u001b[38;5;34m64\u001b[0m)             │         \u001b[38;5;34m4,160\u001b[0m │\n",
       "├─────────────────────────────────┼────────────────────────┼───────────────┤\n",
       "│ dense_3 (\u001b[38;5;33mDense\u001b[0m)                 │ (\u001b[38;5;45mNone\u001b[0m, \u001b[38;5;34m1\u001b[0m)              │            \u001b[38;5;34m65\u001b[0m │\n",
       "└─────────────────────────────────┴────────────────────────┴───────────────┘\n"
      ]
     },
     "metadata": {},
     "output_type": "display_data"
    },
    {
     "data": {
      "text/html": [
       "<pre style=\"white-space:pre;overflow-x:auto;line-height:normal;font-family:Menlo,'DejaVu Sans Mono',consolas,'Courier New',monospace\"><span style=\"font-weight: bold\"> Total params: </span><span style=\"color: #00af00; text-decoration-color: #00af00\">652,609</span> (2.49 MB)\n",
       "</pre>\n"
      ],
      "text/plain": [
       "\u001b[1m Total params: \u001b[0m\u001b[38;5;34m652,609\u001b[0m (2.49 MB)\n"
      ]
     },
     "metadata": {},
     "output_type": "display_data"
    },
    {
     "data": {
      "text/html": [
       "<pre style=\"white-space:pre;overflow-x:auto;line-height:normal;font-family:Menlo,'DejaVu Sans Mono',consolas,'Courier New',monospace\"><span style=\"font-weight: bold\"> Trainable params: </span><span style=\"color: #00af00; text-decoration-color: #00af00\">652,609</span> (2.49 MB)\n",
       "</pre>\n"
      ],
      "text/plain": [
       "\u001b[1m Trainable params: \u001b[0m\u001b[38;5;34m652,609\u001b[0m (2.49 MB)\n"
      ]
     },
     "metadata": {},
     "output_type": "display_data"
    },
    {
     "data": {
      "text/html": [
       "<pre style=\"white-space:pre;overflow-x:auto;line-height:normal;font-family:Menlo,'DejaVu Sans Mono',consolas,'Courier New',monospace\"><span style=\"font-weight: bold\"> Non-trainable params: </span><span style=\"color: #00af00; text-decoration-color: #00af00\">0</span> (0.00 B)\n",
       "</pre>\n"
      ],
      "text/plain": [
       "\u001b[1m Non-trainable params: \u001b[0m\u001b[38;5;34m0\u001b[0m (0.00 B)\n"
      ]
     },
     "metadata": {},
     "output_type": "display_data"
    },
    {
     "name": "stderr",
     "output_type": "stream",
     "text": [
      "2025-01-26 16:59:41.801555: W external/local_xla/xla/tsl/framework/cpu_allocator_impl.cc:83] Allocation of 706280000 exceeds 10% of free system memory.\n"
     ]
    },
    {
     "name": "stdout",
     "output_type": "stream",
     "text": [
      "Epoch 1/10\n",
      "\u001b[1m1099/1104\u001b[0m \u001b[32m━━━━━━━━━━━━━━━━━━━\u001b[0m\u001b[37m━\u001b[0m \u001b[1m0s\u001b[0m 6ms/step - accuracy: 0.9348 - loss: 0.1396"
     ]
    },
    {
     "name": "stderr",
     "output_type": "stream",
     "text": [
      "2025-01-26 16:59:53.082820: W external/local_xla/xla/tsl/framework/cpu_allocator_impl.cc:83] Allocation of 176580000 exceeds 10% of free system memory.\n"
     ]
    },
    {
     "name": "stdout",
     "output_type": "stream",
     "text": [
      "\u001b[1m1104/1104\u001b[0m \u001b[32m━━━━━━━━━━━━━━━━━━━━\u001b[0m\u001b[37m\u001b[0m \u001b[1m9s\u001b[0m 7ms/step - accuracy: 0.9350 - loss: 0.1392 - val_accuracy: 0.9882 - val_loss: 0.0355\n",
      "Epoch 2/10\n",
      "\u001b[1m1104/1104\u001b[0m \u001b[32m━━━━━━━━━━━━━━━━━━━━\u001b[0m\u001b[37m\u001b[0m \u001b[1m8s\u001b[0m 7ms/step - accuracy: 0.9947 - loss: 0.0167 - val_accuracy: 0.9881 - val_loss: 0.0383\n",
      "Epoch 3/10\n",
      "\u001b[1m1104/1104\u001b[0m \u001b[32m━━━━━━━━━━━━━━━━━━━━\u001b[0m\u001b[37m\u001b[0m \u001b[1m8s\u001b[0m 7ms/step - accuracy: 0.9974 - loss: 0.0085 - val_accuracy: 0.9890 - val_loss: 0.0435\n",
      "Epoch 4/10\n",
      "\u001b[1m1104/1104\u001b[0m \u001b[32m━━━━━━━━━━━━━━━━━━━━\u001b[0m\u001b[37m\u001b[0m \u001b[1m8s\u001b[0m 7ms/step - accuracy: 0.9982 - loss: 0.0054 - val_accuracy: 0.9890 - val_loss: 0.0561\n",
      "Epoch 5/10\n",
      "\u001b[1m1104/1104\u001b[0m \u001b[32m━━━━━━━━━━━━━━━━━━━━\u001b[0m\u001b[37m\u001b[0m \u001b[1m8s\u001b[0m 7ms/step - accuracy: 0.9985 - loss: 0.0031 - val_accuracy: 0.9879 - val_loss: 0.0672\n",
      "Epoch 6/10\n",
      "\u001b[1m1104/1104\u001b[0m \u001b[32m━━━━━━━━━━━━━━━━━━━━\u001b[0m\u001b[37m\u001b[0m \u001b[1m8s\u001b[0m 7ms/step - accuracy: 0.9991 - loss: 0.0028 - val_accuracy: 0.9880 - val_loss: 0.0579\n",
      "Epoch 7/10\n",
      "\u001b[1m1104/1104\u001b[0m \u001b[32m━━━━━━━━━━━━━━━━━━━━\u001b[0m\u001b[37m\u001b[0m \u001b[1m8s\u001b[0m 7ms/step - accuracy: 0.9990 - loss: 0.0029 - val_accuracy: 0.9887 - val_loss: 0.0611\n",
      "Epoch 8/10\n",
      "\u001b[1m1104/1104\u001b[0m \u001b[32m━━━━━━━━━━━━━━━━━━━━\u001b[0m\u001b[37m\u001b[0m \u001b[1m8s\u001b[0m 7ms/step - accuracy: 0.9992 - loss: 0.0022 - val_accuracy: 0.9883 - val_loss: 0.0693\n",
      "Epoch 9/10\n",
      "\u001b[1m1104/1104\u001b[0m \u001b[32m━━━━━━━━━━━━━━━━━━━━\u001b[0m\u001b[37m\u001b[0m \u001b[1m8s\u001b[0m 7ms/step - accuracy: 0.9996 - loss: 0.0011 - val_accuracy: 0.9887 - val_loss: 0.0673\n",
      "Epoch 10/10\n",
      "\u001b[1m1104/1104\u001b[0m \u001b[32m━━━━━━━━━━━━━━━━━━━━\u001b[0m\u001b[37m\u001b[0m \u001b[1m8s\u001b[0m 7ms/step - accuracy: 0.9994 - loss: 0.0012 - val_accuracy: 0.9886 - val_loss: 0.0811\n",
      "\u001b[1m 68/276\u001b[0m \u001b[32m━━━━\u001b[0m\u001b[37m━━━━━━━━━━━━━━━━\u001b[0m \u001b[1m0s\u001b[0m 2ms/step"
     ]
    },
    {
     "name": "stderr",
     "output_type": "stream",
     "text": [
      "2025-01-26 17:01:04.421940: W external/local_xla/xla/tsl/framework/cpu_allocator_impl.cc:83] Allocation of 176580000 exceeds 10% of free system memory.\n"
     ]
    },
    {
     "name": "stdout",
     "output_type": "stream",
     "text": [
      "\u001b[1m276/276\u001b[0m \u001b[32m━━━━━━━━━━━━━━━━━━━━\u001b[0m\u001b[37m\u001b[0m \u001b[1m1s\u001b[0m 2ms/step\n"
     ]
    }
   ],
   "source": [
    "model, cm = train_model()"
   ]
  },
  {
   "cell_type": "code",
   "execution_count": 8,
   "metadata": {},
   "outputs": [
    {
     "data": {
      "image/png": "[encoded data removed]",
      "text/plain": [
       "<Figure size 600x600 with 2 Axes>"
      ]
     },
     "metadata": {},
     "output_type": "display_data"
    }
   ],
   "source": [
    "plt.figure(figsize=(6, 6))\n",
    "sns.heatmap(cm, annot=True, fmt='d', cmap='Blues', xticklabels=['Negativo', 'Positivo'], yticklabels=['Negativo', 'Positivo'])\n",
    "plt.xlabel('Predicted')\n",
    "plt.ylabel('True')\n",
    "plt.title('Confusion Matrix - Classificação Binária')\n",
    "plt.show()\n"
   ]
  },
  {
   "cell_type": "code",
   "execution_count": 9,
   "metadata": {},
   "outputs": [],
   "source": [
    "# data = get_data()\n",
    "# print(data.shape)\n",
    "# vec = vectorize_data(data[\"clean_text\"])\n",
    "# print(vec.shape)\n",
    "# X_train, X_test, y_train, y_test = train_test_split(vec, data['label'], test_size=0.2, random_state=42)\n",
    "# print(f\"X_train shape: {X_train.shape}\")\n",
    "# print(f\"X_test shape: {X_test.shape}\")\n",
    "# print(f\"y_train shape: {y_train.shape}\")\n",
    "# print(f\"y_test shape: {y_test.shape}\")"
   ]
  },
  {
   "cell_type": "code",
   "execution_count": 10,
   "metadata": {},
   "outputs": [
    {
     "data": {
      "text/plain": [
       "['../models/modelv2.pkl']"
      ]
     },
     "execution_count": 10,
     "metadata": {},
     "output_type": "execute_result"
    }
   ],
   "source": [
    "joblib.dump(model, '../models/modelv2.pkl')"
   ]
  }
 ],
 "metadata": {
  "kernelspec": {
   "display_name": "atr",
   "language": "python",
   "name": "python3"
  },
  "language_info": {
   "codemirror_mode": {
    "name": "ipython",
    "version": 3
   },
   "file_extension": ".py",
   "mimetype": "text/x-python",
   "name": "python",
   "nbconvert_exporter": "python",
   "pygments_lexer": "ipython3",
   "version": "3.10.16"
  }
 },
 "nbformat": 4,
 "nbformat_minor": 2
}
