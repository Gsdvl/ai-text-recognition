{
 "cells": [
  {
   "cell_type": "code",
   "execution_count": 1,
   "metadata": {},
   "outputs": [
    {
     "name": "stdout",
     "output_type": "stream",
     "text": [
      "Requirement already satisfied: gdown in /home/gabs/miniconda3/envs/atr/lib/python3.10/site-packages (from -r ../requirements.txt (line 1)) (5.2.0)\n",
      "Requirement already satisfied: numpy in /home/gabs/.local/lib/python3.10/site-packages (from -r ../requirements.txt (line 2)) (2.0.2)\n",
      "Requirement already satisfied: pandas in /home/gabs/.local/lib/python3.10/site-packages (from -r ../requirements.txt (line 3)) (2.2.3)\n",
      "Requirement already satisfied: matplotlib in /home/gabs/.local/lib/python3.10/site-packages (from -r ../requirements.txt (line 4)) (3.9.3)\n",
      "Requirement already satisfied: wandb in /home/gabs/.local/lib/python3.10/site-packages (from -r ../requirements.txt (line 5)) (0.19.1)\n",
      "Requirement already satisfied: kaggle in /home/gabs/miniconda3/envs/atr/lib/python3.10/site-packages (from -r ../requirements.txt (line 6)) (1.6.17)\n",
      "Requirement already satisfied: requests in /home/gabs/miniconda3/envs/atr/lib/python3.10/site-packages (from -r ../requirements.txt (line 7)) (2.32.3)\n",
      "Requirement already satisfied: scikit-learn in /home/gabs/.local/lib/python3.10/site-packages (from -r ../requirements.txt (line 8)) (1.5.2)\n",
      "Requirement already satisfied: spacy in /home/gabs/.local/lib/python3.10/site-packages (from -r ../requirements.txt (line 9)) (3.8.2)\n",
      "Requirement already satisfied: gradio in /home/gabs/.local/lib/python3.10/site-packages (from -r ../requirements.txt (line 10)) (5.4.0)\n",
      "Requirement already satisfied: tensorflow in /home/gabs/miniconda3/envs/atr/lib/python3.10/site-packages (from -r ../requirements.txt (line 11)) (2.18.0)\n",
      "Requirement already satisfied: beautifulsoup4 in /home/gabs/miniconda3/envs/atr/lib/python3.10/site-packages (from gdown->-r ../requirements.txt (line 1)) (4.12.3)\n",
      "Requirement already satisfied: filelock in /home/gabs/miniconda3/envs/atr/lib/python3.10/site-packages (from gdown->-r ../requirements.txt (line 1)) (3.16.1)\n",
      "Requirement already satisfied: tqdm in /home/gabs/.local/lib/python3.10/site-packages (from gdown->-r ../requirements.txt (line 1)) (4.66.5)\n",
      "Requirement already satisfied: python-dateutil>=2.8.2 in /home/gabs/.local/lib/python3.10/site-packages (from pandas->-r ../requirements.txt (line 3)) (2.9.0.post0)\n",
      "Requirement already satisfied: pytz>=2020.1 in /home/gabs/.local/lib/python3.10/site-packages (from pandas->-r ../requirements.txt (line 3)) (2024.2)\n",
      "Requirement already satisfied: tzdata>=2022.7 in /home/gabs/.local/lib/python3.10/site-packages (from pandas->-r ../requirements.txt (line 3)) (2024.2)\n",
      "Requirement already satisfied: contourpy>=1.0.1 in /home/gabs/.local/lib/python3.10/site-packages (from matplotlib->-r ../requirements.txt (line 4)) (1.0.5)\n",
      "Requirement already satisfied: cycler>=0.10 in /home/gabs/.local/lib/python3.10/site-packages (from matplotlib->-r ../requirements.txt (line 4)) (0.11.0)\n",
      "Requirement already satisfied: fonttools>=4.22.0 in /home/gabs/.local/lib/python3.10/site-packages (from matplotlib->-r ../requirements.txt (line 4)) (4.37.3)\n",
      "Requirement already satisfied: kiwisolver>=1.3.1 in /home/gabs/.local/lib/python3.10/site-packages (from matplotlib->-r ../requirements.txt (line 4)) (1.4.4)\n",
      "Requirement already satisfied: packaging>=20.0 in /home/gabs/.local/lib/python3.10/site-packages (from matplotlib->-r ../requirements.txt (line 4)) (24.1)\n",
      "Requirement already satisfied: pillow>=8 in /home/gabs/miniconda3/envs/atr/lib/python3.10/site-packages (from matplotlib->-r ../requirements.txt (line 4)) (11.1.0)\n",
      "Requirement already satisfied: pyparsing>=2.3.1 in /home/gabs/miniconda3/envs/atr/lib/python3.10/site-packages (from matplotlib->-r ../requirements.txt (line 4)) (3.2.1)\n",
      "Requirement already satisfied: click!=8.0.0,>=7.1 in /home/gabs/miniconda3/envs/atr/lib/python3.10/site-packages (from wandb->-r ../requirements.txt (line 5)) (8.1.8)\n",
      "Requirement already satisfied: docker-pycreds>=0.4.0 in /home/gabs/.local/lib/python3.10/site-packages (from wandb->-r ../requirements.txt (line 5)) (0.4.0)\n",
      "Requirement already satisfied: gitpython!=3.1.29,>=1.0.0 in /home/gabs/.local/lib/python3.10/site-packages (from wandb->-r ../requirements.txt (line 5)) (3.1.43)\n",
      "Requirement already satisfied: platformdirs in /home/gabs/.local/lib/python3.10/site-packages (from wandb->-r ../requirements.txt (line 5)) (4.3.6)\n",
      "Requirement already satisfied: protobuf!=4.21.0,!=5.28.0,<6,>=3.19.0 in /home/gabs/.local/lib/python3.10/site-packages (from wandb->-r ../requirements.txt (line 5)) (5.29.1)\n",
      "Requirement already satisfied: psutil>=5.0.0 in /home/gabs/miniconda3/envs/atr/lib/python3.10/site-packages (from wandb->-r ../requirements.txt (line 5)) (5.9.0)\n",
      "Requirement already satisfied: pydantic<3,>=2.6 in /home/gabs/.local/lib/python3.10/site-packages (from wandb->-r ../requirements.txt (line 5)) (2.9.2)\n",
      "Requirement already satisfied: pyyaml in /home/gabs/miniconda3/envs/atr/lib/python3.10/site-packages (from wandb->-r ../requirements.txt (line 5)) (6.0.2)\n",
      "Requirement already satisfied: sentry-sdk>=2.0.0 in /home/gabs/.local/lib/python3.10/site-packages (from wandb->-r ../requirements.txt (line 5)) (2.19.1)\n",
      "Requirement already satisfied: setproctitle in /home/gabs/miniconda3/envs/atr/lib/python3.10/site-packages (from wandb->-r ../requirements.txt (line 5)) (1.3.4)\n",
      "Requirement already satisfied: setuptools in /home/gabs/miniconda3/envs/atr/lib/python3.10/site-packages (from wandb->-r ../requirements.txt (line 5)) (75.1.0)\n",
      "Requirement already satisfied: typing-extensions<5,>=4.4 in /home/gabs/.local/lib/python3.10/site-packages (from wandb->-r ../requirements.txt (line 5)) (4.12.2)\n",
      "Requirement already satisfied: six>=1.10 in /home/gabs/.local/lib/python3.10/site-packages (from kaggle->-r ../requirements.txt (line 6)) (1.16.0)\n",
      "Requirement already satisfied: certifi>=2023.7.22 in /home/gabs/miniconda3/envs/atr/lib/python3.10/site-packages (from kaggle->-r ../requirements.txt (line 6)) (2024.12.14)\n",
      "Requirement already satisfied: python-slugify in /home/gabs/miniconda3/envs/atr/lib/python3.10/site-packages (from kaggle->-r ../requirements.txt (line 6)) (8.0.4)\n",
      "Requirement already satisfied: urllib3 in /home/gabs/miniconda3/envs/atr/lib/python3.10/site-packages (from kaggle->-r ../requirements.txt (line 6)) (2.3.0)\n",
      "Requirement already satisfied: bleach in /home/gabs/miniconda3/envs/atr/lib/python3.10/site-packages (from kaggle->-r ../requirements.txt (line 6)) (6.2.0)\n",
      "Requirement already satisfied: charset-normalizer<4,>=2 in /home/gabs/miniconda3/envs/atr/lib/python3.10/site-packages (from requests->-r ../requirements.txt (line 7)) (3.4.1)\n",
      "Requirement already satisfied: idna<4,>=2.5 in /home/gabs/miniconda3/envs/atr/lib/python3.10/site-packages (from requests->-r ../requirements.txt (line 7)) (3.10)\n",
      "Requirement already satisfied: scipy>=1.6.0 in /home/gabs/.local/lib/python3.10/site-packages (from scikit-learn->-r ../requirements.txt (line 8)) (1.13.1)\n",
      "Requirement already satisfied: joblib>=1.2.0 in /home/gabs/.local/lib/python3.10/site-packages (from scikit-learn->-r ../requirements.txt (line 8)) (1.4.2)\n",
      "Requirement already satisfied: threadpoolctl>=3.1.0 in /home/gabs/.local/lib/python3.10/site-packages (from scikit-learn->-r ../requirements.txt (line 8)) (3.5.0)\n",
      "Requirement already satisfied: spacy-legacy<3.1.0,>=3.0.11 in /home/gabs/.local/lib/python3.10/site-packages (from spacy->-r ../requirements.txt (line 9)) (3.0.12)\n",
      "Requirement already satisfied: spacy-loggers<2.0.0,>=1.0.0 in /home/gabs/.local/lib/python3.10/site-packages (from spacy->-r ../requirements.txt (line 9)) (1.0.5)\n",
      "Requirement already satisfied: murmurhash<1.1.0,>=0.28.0 in /home/gabs/.local/lib/python3.10/site-packages (from spacy->-r ../requirements.txt (line 9)) (1.0.11)\n",
      "Requirement already satisfied: cymem<2.1.0,>=2.0.2 in /home/gabs/.local/lib/python3.10/site-packages (from spacy->-r ../requirements.txt (line 9)) (2.0.10)\n",
      "Requirement already satisfied: preshed<3.1.0,>=3.0.2 in /home/gabs/.local/lib/python3.10/site-packages (from spacy->-r ../requirements.txt (line 9)) (3.0.9)\n",
      "Requirement already satisfied: thinc<8.4.0,>=8.3.0 in /home/gabs/.local/lib/python3.10/site-packages (from spacy->-r ../requirements.txt (line 9)) (8.3.2)\n",
      "Requirement already satisfied: wasabi<1.2.0,>=0.9.1 in /home/gabs/.local/lib/python3.10/site-packages (from spacy->-r ../requirements.txt (line 9)) (1.1.3)\n",
      "Requirement already satisfied: srsly<3.0.0,>=2.4.3 in /home/gabs/.local/lib/python3.10/site-packages (from spacy->-r ../requirements.txt (line 9)) (2.4.8)\n",
      "Requirement already satisfied: catalogue<2.1.0,>=2.0.6 in /home/gabs/.local/lib/python3.10/site-packages (from spacy->-r ../requirements.txt (line 9)) (2.0.10)\n",
      "Requirement already satisfied: weasel<0.5.0,>=0.1.0 in /home/gabs/.local/lib/python3.10/site-packages (from spacy->-r ../requirements.txt (line 9)) (0.4.1)\n",
      "Requirement already satisfied: typer<1.0.0,>=0.3.0 in /home/gabs/.local/lib/python3.10/site-packages (from spacy->-r ../requirements.txt (line 9)) (0.12.5)\n",
      "Requirement already satisfied: jinja2 in /home/gabs/.local/lib/python3.10/site-packages (from spacy->-r ../requirements.txt (line 9)) (3.1.2)\n",
      "Requirement already satisfied: langcodes<4.0.0,>=3.2.0 in /home/gabs/.local/lib/python3.10/site-packages (from spacy->-r ../requirements.txt (line 9)) (3.5.0)\n",
      "Requirement already satisfied: aiofiles<24.0,>=22.0 in /home/gabs/.local/lib/python3.10/site-packages (from gradio->-r ../requirements.txt (line 10)) (23.2.1)\n",
      "Requirement already satisfied: anyio<5.0,>=3.0 in /home/gabs/.local/lib/python3.10/site-packages (from gradio->-r ../requirements.txt (line 10)) (4.6.2.post1)\n",
      "Requirement already satisfied: fastapi<1.0,>=0.115.2 in /home/gabs/.local/lib/python3.10/site-packages (from gradio->-r ../requirements.txt (line 10)) (0.115.3)\n",
      "Requirement already satisfied: ffmpy in /home/gabs/.local/lib/python3.10/site-packages (from gradio->-r ../requirements.txt (line 10)) (0.4.0)\n",
      "Requirement already satisfied: gradio-client==1.4.2 in /home/gabs/.local/lib/python3.10/site-packages (from gradio->-r ../requirements.txt (line 10)) (1.4.2)\n",
      "Requirement already satisfied: httpx>=0.24.1 in /home/gabs/.local/lib/python3.10/site-packages (from gradio->-r ../requirements.txt (line 10)) (0.27.2)\n",
      "Requirement already satisfied: huggingface-hub>=0.25.1 in /home/gabs/.local/lib/python3.10/site-packages (from gradio->-r ../requirements.txt (line 10)) (0.26.1)\n",
      "Requirement already satisfied: markupsafe~=2.0 in /home/gabs/.local/lib/python3.10/site-packages (from gradio->-r ../requirements.txt (line 10)) (2.1.1)\n",
      "Requirement already satisfied: orjson~=3.0 in /home/gabs/.local/lib/python3.10/site-packages (from gradio->-r ../requirements.txt (line 10)) (3.10.10)\n",
      "Requirement already satisfied: pydub in /home/gabs/.local/lib/python3.10/site-packages (from gradio->-r ../requirements.txt (line 10)) (0.25.1)\n",
      "Requirement already satisfied: python-multipart==0.0.12 in /home/gabs/.local/lib/python3.10/site-packages (from gradio->-r ../requirements.txt (line 10)) (0.0.12)\n",
      "Requirement already satisfied: ruff>=0.2.2 in /home/gabs/.local/lib/python3.10/site-packages (from gradio->-r ../requirements.txt (line 10)) (0.7.1)\n",
      "Requirement already satisfied: safehttpx<1.0,>=0.1.1 in /home/gabs/.local/lib/python3.10/site-packages (from gradio->-r ../requirements.txt (line 10)) (0.1.1)\n",
      "Requirement already satisfied: semantic-version~=2.0 in /home/gabs/.local/lib/python3.10/site-packages (from gradio->-r ../requirements.txt (line 10)) (2.10.0)\n",
      "Requirement already satisfied: starlette<1.0,>=0.40.0 in /home/gabs/.local/lib/python3.10/site-packages (from gradio->-r ../requirements.txt (line 10)) (0.41.2)\n",
      "Requirement already satisfied: tomlkit==0.12.0 in /home/gabs/.local/lib/python3.10/site-packages (from gradio->-r ../requirements.txt (line 10)) (0.12.0)\n",
      "Requirement already satisfied: uvicorn>=0.14.0 in /home/gabs/.local/lib/python3.10/site-packages (from gradio->-r ../requirements.txt (line 10)) (0.32.0)\n",
      "Requirement already satisfied: fsspec in /home/gabs/.local/lib/python3.10/site-packages (from gradio-client==1.4.2->gradio->-r ../requirements.txt (line 10)) (2024.10.0)\n",
      "Requirement already satisfied: websockets<13.0,>=10.0 in /home/gabs/.local/lib/python3.10/site-packages (from gradio-client==1.4.2->gradio->-r ../requirements.txt (line 10)) (12.0)\n",
      "Requirement already satisfied: absl-py>=1.0.0 in /home/gabs/.local/lib/python3.10/site-packages (from tensorflow->-r ../requirements.txt (line 11)) (1.2.0)\n",
      "Requirement already satisfied: astunparse>=1.6.0 in /home/gabs/.local/lib/python3.10/site-packages (from tensorflow->-r ../requirements.txt (line 11)) (1.6.3)\n",
      "Requirement already satisfied: flatbuffers>=24.3.25 in /home/gabs/miniconda3/envs/atr/lib/python3.10/site-packages (from tensorflow->-r ../requirements.txt (line 11)) (24.12.23)\n",
      "Requirement already satisfied: gast!=0.5.0,!=0.5.1,!=0.5.2,>=0.2.1 in /home/gabs/.local/lib/python3.10/site-packages (from tensorflow->-r ../requirements.txt (line 11)) (0.4.0)\n",
      "Requirement already satisfied: google-pasta>=0.1.1 in /home/gabs/.local/lib/python3.10/site-packages (from tensorflow->-r ../requirements.txt (line 11)) (0.2.0)\n",
      "Requirement already satisfied: libclang>=13.0.0 in /home/gabs/.local/lib/python3.10/site-packages (from tensorflow->-r ../requirements.txt (line 11)) (14.0.6)\n",
      "Requirement already satisfied: opt-einsum>=2.3.2 in /home/gabs/.local/lib/python3.10/site-packages (from tensorflow->-r ../requirements.txt (line 11)) (3.3.0)\n",
      "Requirement already satisfied: termcolor>=1.1.0 in /home/gabs/.local/lib/python3.10/site-packages (from tensorflow->-r ../requirements.txt (line 11)) (2.0.1)\n",
      "Requirement already satisfied: wrapt>=1.11.0 in /home/gabs/.local/lib/python3.10/site-packages (from tensorflow->-r ../requirements.txt (line 11)) (1.14.1)\n",
      "Requirement already satisfied: grpcio<2.0,>=1.24.3 in /home/gabs/miniconda3/envs/atr/lib/python3.10/site-packages (from tensorflow->-r ../requirements.txt (line 11)) (1.69.0)\n",
      "Requirement already satisfied: tensorboard<2.19,>=2.18 in /home/gabs/miniconda3/envs/atr/lib/python3.10/site-packages (from tensorflow->-r ../requirements.txt (line 11)) (2.18.0)\n",
      "Requirement already satisfied: keras>=3.5.0 in /home/gabs/miniconda3/envs/atr/lib/python3.10/site-packages (from tensorflow->-r ../requirements.txt (line 11)) (3.8.0)\n",
      "Requirement already satisfied: h5py>=3.11.0 in /home/gabs/miniconda3/envs/atr/lib/python3.10/site-packages (from tensorflow->-r ../requirements.txt (line 11)) (3.12.1)\n",
      "Requirement already satisfied: ml-dtypes<0.5.0,>=0.4.0 in /home/gabs/miniconda3/envs/atr/lib/python3.10/site-packages (from tensorflow->-r ../requirements.txt (line 11)) (0.4.1)\n",
      "Requirement already satisfied: tensorflow-io-gcs-filesystem>=0.23.1 in /home/gabs/.local/lib/python3.10/site-packages (from tensorflow->-r ../requirements.txt (line 11)) (0.27.0)\n",
      "Requirement already satisfied: sniffio>=1.1 in /home/gabs/.local/lib/python3.10/site-packages (from anyio<5.0,>=3.0->gradio->-r ../requirements.txt (line 10)) (1.3.1)\n",
      "Requirement already satisfied: exceptiongroup>=1.0.2 in /home/gabs/.local/lib/python3.10/site-packages (from anyio<5.0,>=3.0->gradio->-r ../requirements.txt (line 10)) (1.2.2)\n",
      "Requirement already satisfied: wheel<1.0,>=0.23.0 in /home/gabs/miniconda3/envs/atr/lib/python3.10/site-packages (from astunparse>=1.6.0->tensorflow->-r ../requirements.txt (line 11)) (0.44.0)\n",
      "Requirement already satisfied: gitdb<5,>=4.0.1 in /home/gabs/.local/lib/python3.10/site-packages (from gitpython!=3.1.29,>=1.0.0->wandb->-r ../requirements.txt (line 5)) (4.0.11)\n",
      "Requirement already satisfied: httpcore==1.* in /home/gabs/.local/lib/python3.10/site-packages (from httpx>=0.24.1->gradio->-r ../requirements.txt (line 10)) (1.0.6)\n",
      "Requirement already satisfied: h11<0.15,>=0.13 in /home/gabs/.local/lib/python3.10/site-packages (from httpcore==1.*->httpx>=0.24.1->gradio->-r ../requirements.txt (line 10)) (0.14.0)\n",
      "Requirement already satisfied: rich in /home/gabs/.local/lib/python3.10/site-packages (from keras>=3.5.0->tensorflow->-r ../requirements.txt (line 11)) (13.9.3)\n",
      "Requirement already satisfied: namex in /home/gabs/miniconda3/envs/atr/lib/python3.10/site-packages (from keras>=3.5.0->tensorflow->-r ../requirements.txt (line 11)) (0.0.8)\n",
      "Requirement already satisfied: optree in /home/gabs/miniconda3/envs/atr/lib/python3.10/site-packages (from keras>=3.5.0->tensorflow->-r ../requirements.txt (line 11)) (0.14.0)\n",
      "Requirement already satisfied: language-data>=1.2 in /home/gabs/.local/lib/python3.10/site-packages (from langcodes<4.0.0,>=3.2.0->spacy->-r ../requirements.txt (line 9)) (1.3.0)\n",
      "Requirement already satisfied: annotated-types>=0.6.0 in /home/gabs/.local/lib/python3.10/site-packages (from pydantic<3,>=2.6->wandb->-r ../requirements.txt (line 5)) (0.7.0)\n",
      "Requirement already satisfied: pydantic-core==2.23.4 in /home/gabs/.local/lib/python3.10/site-packages (from pydantic<3,>=2.6->wandb->-r ../requirements.txt (line 5)) (2.23.4)\n",
      "Requirement already satisfied: markdown>=2.6.8 in /home/gabs/.local/lib/python3.10/site-packages (from tensorboard<2.19,>=2.18->tensorflow->-r ../requirements.txt (line 11)) (3.4.1)\n",
      "Requirement already satisfied: tensorboard-data-server<0.8.0,>=0.7.0 in /home/gabs/miniconda3/envs/atr/lib/python3.10/site-packages (from tensorboard<2.19,>=2.18->tensorflow->-r ../requirements.txt (line 11)) (0.7.2)\n",
      "Requirement already satisfied: werkzeug>=1.0.1 in /home/gabs/.local/lib/python3.10/site-packages (from tensorboard<2.19,>=2.18->tensorflow->-r ../requirements.txt (line 11)) (2.2.2)\n",
      "Requirement already satisfied: blis<1.1.0,>=1.0.0 in /home/gabs/.local/lib/python3.10/site-packages (from thinc<8.4.0,>=8.3.0->spacy->-r ../requirements.txt (line 9)) (1.0.1)\n",
      "Requirement already satisfied: confection<1.0.0,>=0.0.1 in /home/gabs/.local/lib/python3.10/site-packages (from thinc<8.4.0,>=8.3.0->spacy->-r ../requirements.txt (line 9)) (0.1.5)\n",
      "Requirement already satisfied: shellingham>=1.3.0 in /home/gabs/miniconda3/envs/atr/lib/python3.10/site-packages (from typer<1.0.0,>=0.3.0->spacy->-r ../requirements.txt (line 9)) (1.5.4)\n",
      "Requirement already satisfied: cloudpathlib<1.0.0,>=0.7.0 in /home/gabs/.local/lib/python3.10/site-packages (from weasel<0.5.0,>=0.1.0->spacy->-r ../requirements.txt (line 9)) (0.20.0)\n",
      "Requirement already satisfied: smart-open<8.0.0,>=5.2.1 in /home/gabs/.local/lib/python3.10/site-packages (from weasel<0.5.0,>=0.1.0->spacy->-r ../requirements.txt (line 9)) (7.0.5)\n",
      "Requirement already satisfied: soupsieve>1.2 in /home/gabs/miniconda3/envs/atr/lib/python3.10/site-packages (from beautifulsoup4->gdown->-r ../requirements.txt (line 1)) (2.6)\n",
      "Requirement already satisfied: webencodings in /home/gabs/miniconda3/envs/atr/lib/python3.10/site-packages (from bleach->kaggle->-r ../requirements.txt (line 6)) (0.5.1)\n",
      "Requirement already satisfied: text-unidecode>=1.3 in /home/gabs/miniconda3/envs/atr/lib/python3.10/site-packages (from python-slugify->kaggle->-r ../requirements.txt (line 6)) (1.3)\n",
      "Requirement already satisfied: PySocks!=1.5.7,>=1.5.6 in /home/gabs/miniconda3/envs/atr/lib/python3.10/site-packages (from requests[socks]->gdown->-r ../requirements.txt (line 1)) (1.7.1)\n",
      "Requirement already satisfied: smmap<6,>=3.0.1 in /home/gabs/.local/lib/python3.10/site-packages (from gitdb<5,>=4.0.1->gitpython!=3.1.29,>=1.0.0->wandb->-r ../requirements.txt (line 5)) (5.0.1)\n",
      "Requirement already satisfied: marisa-trie>=1.1.0 in /home/gabs/.local/lib/python3.10/site-packages (from language-data>=1.2->langcodes<4.0.0,>=3.2.0->spacy->-r ../requirements.txt (line 9)) (1.2.1)\n",
      "Requirement already satisfied: markdown-it-py>=2.2.0 in /home/gabs/.local/lib/python3.10/site-packages (from rich->keras>=3.5.0->tensorflow->-r ../requirements.txt (line 11)) (3.0.0)\n",
      "Requirement already satisfied: pygments<3.0.0,>=2.13.0 in /home/gabs/.local/lib/python3.10/site-packages (from rich->keras>=3.5.0->tensorflow->-r ../requirements.txt (line 11)) (2.13.0)\n",
      "Requirement already satisfied: mdurl~=0.1 in /home/gabs/.local/lib/python3.10/site-packages (from markdown-it-py>=2.2.0->rich->keras>=3.5.0->tensorflow->-r ../requirements.txt (line 11)) (0.1.2)\n",
      "Note: you may need to restart the kernel to use updated packages.\n"
     ]
    }
   ],
   "source": [
    "%pip install -r ../requirements.txt"
   ]
  },
  {
   "cell_type": "code",
   "execution_count": 2,
   "metadata": {},
   "outputs": [
    {
     "name": "stderr",
     "output_type": "stream",
     "text": [
      "2025-01-19 20:46:29.252042: I external/local_xla/xla/tsl/cuda/cudart_stub.cc:32] Could not find cuda drivers on your machine, GPU will not be used.\n",
      "2025-01-19 20:46:29.333729: I external/local_xla/xla/tsl/cuda/cudart_stub.cc:32] Could not find cuda drivers on your machine, GPU will not be used.\n",
      "2025-01-19 20:46:29.409361: E external/local_xla/xla/stream_executor/cuda/cuda_fft.cc:477] Unable to register cuFFT factory: Attempting to register factory for plugin cuFFT when one has already been registered\n",
      "WARNING: All log messages before absl::InitializeLog() is called are written to STDERR\n",
      "E0000 00:00:1737330389.487190   17050 cuda_dnn.cc:8310] Unable to register cuDNN factory: Attempting to register factory for plugin cuDNN when one has already been registered\n",
      "E0000 00:00:1737330389.508816   17050 cuda_blas.cc:1418] Unable to register cuBLAS factory: Attempting to register factory for plugin cuBLAS when one has already been registered\n",
      "2025-01-19 20:46:29.684909: I tensorflow/core/platform/cpu_feature_guard.cc:210] This TensorFlow binary is optimized to use available CPU instructions in performance-critical operations.\n",
      "To enable the following instructions: AVX2 FMA, in other operations, rebuild TensorFlow with the appropriate compiler flags.\n"
     ]
    }
   ],
   "source": [
    "from sklearn.feature_extraction.text import TfidfVectorizer\n",
    "from tensorflow.keras.models import Sequential\n",
    "from tensorflow.keras.layers import Dense, Dropout\n",
    "from sklearn.model_selection import train_test_split\n",
    "import numpy as np\n",
    "import pandas as pd"
   ]
  },
  {
   "cell_type": "code",
   "execution_count": 3,
   "metadata": {},
   "outputs": [],
   "source": [
    "def get_data():\n",
    "    #TODO CRIAR A FUNÇÃO QUE BAIXA OS DADOS DO WANDB\n",
    "    data = pd.read_csv('../results/balanced.csv')\n",
    "    return data"
   ]
  },
  {
   "cell_type": "code",
   "execution_count": 4,
   "metadata": {},
   "outputs": [],
   "source": [
    "def vectorize_data(data):\n",
    "    vectorizer = TfidfVectorizer(max_features=5000)\n",
    "    X_tfidf = vectorizer.fit_transform(data).toarray()\n",
    "    return X_tfidf"
   ]
  },
  {
   "cell_type": "code",
   "execution_count": 5,
   "metadata": {},
   "outputs": [],
   "source": [
    "def create_model():\n",
    "    model = Sequential([\n",
    "        Dense(64, activation='relu', input_shape=(5000,)),\n",
    "        Dense(32, activation='relu'),\n",
    "        Dense(32, activation='relu'),\n",
    "        Dense(1, activation='sigmoid') \n",
    "    ])\n",
    "\n",
    "    model.compile(optimizer='adam',\n",
    "                loss='categorical_crossentropy',\n",
    "                metrics=['accuracy'])\n",
    "\n",
    "    model.summary()\n",
    "    return model"
   ]
  },
  {
   "cell_type": "code",
   "execution_count": 6,
   "metadata": {},
   "outputs": [],
   "source": [
    "def compile_model():\n",
    "    df = get_data()\n",
    "\n",
    "    X_Tfidf = vectorize_data(df['clean_text'])\n",
    "    X_train, X_test, y_train, y_test = train_test_split(X_Tfidf, df['label'], test_size=0.2, random_state=42)\n",
    "    model = create_model()\n",
    "\n",
    "    model.compile(optimizer='adam', loss='binary_crossentropy', metrics=['accuracy'])\n",
    "    model.fit(X_train, y_train, validation_data=(X_test, y_test), epochs=10, batch_size=32)"
   ]
  },
  {
   "cell_type": "code",
   "execution_count": 7,
   "metadata": {},
   "outputs": [
    {
     "name": "stderr",
     "output_type": "stream",
     "text": [
      "/home/gabs/miniconda3/envs/atr/lib/python3.10/site-packages/keras/src/layers/core/dense.py:87: UserWarning: Do not pass an `input_shape`/`input_dim` argument to a layer. When using Sequential models, prefer using an `Input(shape)` object as the first layer in the model instead.\n",
      "  super().__init__(activity_regularizer=activity_regularizer, **kwargs)\n",
      "2025-01-19 20:46:39.295215: E external/local_xla/xla/stream_executor/cuda/cuda_driver.cc:152] failed call to cuInit: INTERNAL: CUDA error: Failed call to cuInit: UNKNOWN ERROR (303)\n"
     ]
    },
    {
     "data": {
      "text/html": [
       "<pre style=\"white-space:pre;overflow-x:auto;line-height:normal;font-family:Menlo,'DejaVu Sans Mono',consolas,'Courier New',monospace\"><span style=\"font-weight: bold\">Model: \"sequential\"</span>\n",
       "</pre>\n"
      ],
      "text/plain": [
       "\u001b[1mModel: \"sequential\"\u001b[0m\n"
      ]
     },
     "metadata": {},
     "output_type": "display_data"
    },
    {
     "data": {
      "text/html": [
       "<pre style=\"white-space:pre;overflow-x:auto;line-height:normal;font-family:Menlo,'DejaVu Sans Mono',consolas,'Courier New',monospace\">┏━━━━━━━━━━━━━━━━━━━━━━━━━━━━━━━━━┳━━━━━━━━━━━━━━━━━━━━━━━━┳━━━━━━━━━━━━━━━┓\n",
       "┃<span style=\"font-weight: bold\"> Layer (type)                    </span>┃<span style=\"font-weight: bold\"> Output Shape           </span>┃<span style=\"font-weight: bold\">       Param # </span>┃\n",
       "┡━━━━━━━━━━━━━━━━━━━━━━━━━━━━━━━━━╇━━━━━━━━━━━━━━━━━━━━━━━━╇━━━━━━━━━━━━━━━┩\n",
       "│ dense (<span style=\"color: #0087ff; text-decoration-color: #0087ff\">Dense</span>)                   │ (<span style=\"color: #00d7ff; text-decoration-color: #00d7ff\">None</span>, <span style=\"color: #00af00; text-decoration-color: #00af00\">64</span>)             │       <span style=\"color: #00af00; text-decoration-color: #00af00\">320,064</span> │\n",
       "├─────────────────────────────────┼────────────────────────┼───────────────┤\n",
       "│ dense_1 (<span style=\"color: #0087ff; text-decoration-color: #0087ff\">Dense</span>)                 │ (<span style=\"color: #00d7ff; text-decoration-color: #00d7ff\">None</span>, <span style=\"color: #00af00; text-decoration-color: #00af00\">32</span>)             │         <span style=\"color: #00af00; text-decoration-color: #00af00\">2,080</span> │\n",
       "├─────────────────────────────────┼────────────────────────┼───────────────┤\n",
       "│ dense_2 (<span style=\"color: #0087ff; text-decoration-color: #0087ff\">Dense</span>)                 │ (<span style=\"color: #00d7ff; text-decoration-color: #00d7ff\">None</span>, <span style=\"color: #00af00; text-decoration-color: #00af00\">32</span>)             │         <span style=\"color: #00af00; text-decoration-color: #00af00\">1,056</span> │\n",
       "├─────────────────────────────────┼────────────────────────┼───────────────┤\n",
       "│ dense_3 (<span style=\"color: #0087ff; text-decoration-color: #0087ff\">Dense</span>)                 │ (<span style=\"color: #00d7ff; text-decoration-color: #00d7ff\">None</span>, <span style=\"color: #00af00; text-decoration-color: #00af00\">1</span>)              │            <span style=\"color: #00af00; text-decoration-color: #00af00\">33</span> │\n",
       "└─────────────────────────────────┴────────────────────────┴───────────────┘\n",
       "</pre>\n"
      ],
      "text/plain": [
       "┏━━━━━━━━━━━━━━━━━━━━━━━━━━━━━━━━━┳━━━━━━━━━━━━━━━━━━━━━━━━┳━━━━━━━━━━━━━━━┓\n",
       "┃\u001b[1m \u001b[0m\u001b[1mLayer (type)                   \u001b[0m\u001b[1m \u001b[0m┃\u001b[1m \u001b[0m\u001b[1mOutput Shape          \u001b[0m\u001b[1m \u001b[0m┃\u001b[1m \u001b[0m\u001b[1m      Param #\u001b[0m\u001b[1m \u001b[0m┃\n",
       "┡━━━━━━━━━━━━━━━━━━━━━━━━━━━━━━━━━╇━━━━━━━━━━━━━━━━━━━━━━━━╇━━━━━━━━━━━━━━━┩\n",
       "│ dense (\u001b[38;5;33mDense\u001b[0m)                   │ (\u001b[38;5;45mNone\u001b[0m, \u001b[38;5;34m64\u001b[0m)             │       \u001b[38;5;34m320,064\u001b[0m │\n",
       "├─────────────────────────────────┼────────────────────────┼───────────────┤\n",
       "│ dense_1 (\u001b[38;5;33mDense\u001b[0m)                 │ (\u001b[38;5;45mNone\u001b[0m, \u001b[38;5;34m32\u001b[0m)             │         \u001b[38;5;34m2,080\u001b[0m │\n",
       "├─────────────────────────────────┼────────────────────────┼───────────────┤\n",
       "│ dense_2 (\u001b[38;5;33mDense\u001b[0m)                 │ (\u001b[38;5;45mNone\u001b[0m, \u001b[38;5;34m32\u001b[0m)             │         \u001b[38;5;34m1,056\u001b[0m │\n",
       "├─────────────────────────────────┼────────────────────────┼───────────────┤\n",
       "│ dense_3 (\u001b[38;5;33mDense\u001b[0m)                 │ (\u001b[38;5;45mNone\u001b[0m, \u001b[38;5;34m1\u001b[0m)              │            \u001b[38;5;34m33\u001b[0m │\n",
       "└─────────────────────────────────┴────────────────────────┴───────────────┘\n"
      ]
     },
     "metadata": {},
     "output_type": "display_data"
    },
    {
     "data": {
      "text/html": [
       "<pre style=\"white-space:pre;overflow-x:auto;line-height:normal;font-family:Menlo,'DejaVu Sans Mono',consolas,'Courier New',monospace\"><span style=\"font-weight: bold\"> Total params: </span><span style=\"color: #00af00; text-decoration-color: #00af00\">323,233</span> (1.23 MB)\n",
       "</pre>\n"
      ],
      "text/plain": [
       "\u001b[1m Total params: \u001b[0m\u001b[38;5;34m323,233\u001b[0m (1.23 MB)\n"
      ]
     },
     "metadata": {},
     "output_type": "display_data"
    },
    {
     "data": {
      "text/html": [
       "<pre style=\"white-space:pre;overflow-x:auto;line-height:normal;font-family:Menlo,'DejaVu Sans Mono',consolas,'Courier New',monospace\"><span style=\"font-weight: bold\"> Trainable params: </span><span style=\"color: #00af00; text-decoration-color: #00af00\">323,233</span> (1.23 MB)\n",
       "</pre>\n"
      ],
      "text/plain": [
       "\u001b[1m Trainable params: \u001b[0m\u001b[38;5;34m323,233\u001b[0m (1.23 MB)\n"
      ]
     },
     "metadata": {},
     "output_type": "display_data"
    },
    {
     "data": {
      "text/html": [
       "<pre style=\"white-space:pre;overflow-x:auto;line-height:normal;font-family:Menlo,'DejaVu Sans Mono',consolas,'Courier New',monospace\"><span style=\"font-weight: bold\"> Non-trainable params: </span><span style=\"color: #00af00; text-decoration-color: #00af00\">0</span> (0.00 B)\n",
       "</pre>\n"
      ],
      "text/plain": [
       "\u001b[1m Non-trainable params: \u001b[0m\u001b[38;5;34m0\u001b[0m (0.00 B)\n"
      ]
     },
     "metadata": {},
     "output_type": "display_data"
    },
    {
     "name": "stdout",
     "output_type": "stream",
     "text": [
      "Epoch 1/10\n"
     ]
    },
    {
     "name": "stderr",
     "output_type": "stream",
     "text": [
      "2025-01-19 20:46:40.061553: W external/local_xla/xla/tsl/framework/cpu_allocator_impl.cc:83] Allocation of 616180000 exceeds 10% of free system memory.\n"
     ]
    },
    {
     "name": "stdout",
     "output_type": "stream",
     "text": [
      "\u001b[1m963/963\u001b[0m \u001b[32m━━━━━━━━━━━━━━━━━━━━\u001b[0m\u001b[37m\u001b[0m \u001b[1m5s\u001b[0m 4ms/step - accuracy: 0.9280 - loss: 0.1764 - val_accuracy: 0.9875 - val_loss: 0.0391\n",
      "Epoch 2/10\n",
      "\u001b[1m963/963\u001b[0m \u001b[32m━━━━━━━━━━━━━━━━━━━━\u001b[0m\u001b[37m\u001b[0m \u001b[1m4s\u001b[0m 4ms/step - accuracy: 0.9942 - loss: 0.0188 - val_accuracy: 0.9873 - val_loss: 0.0393\n",
      "Epoch 3/10\n",
      "\u001b[1m963/963\u001b[0m \u001b[32m━━━━━━━━━━━━━━━━━━━━\u001b[0m\u001b[37m\u001b[0m \u001b[1m4s\u001b[0m 4ms/step - accuracy: 0.9974 - loss: 0.0088 - val_accuracy: 0.9871 - val_loss: 0.0469\n",
      "Epoch 4/10\n",
      "\u001b[1m963/963\u001b[0m \u001b[32m━━━━━━━━━━━━━━━━━━━━\u001b[0m\u001b[37m\u001b[0m \u001b[1m4s\u001b[0m 4ms/step - accuracy: 0.9988 - loss: 0.0044 - val_accuracy: 0.9861 - val_loss: 0.0587\n",
      "Epoch 5/10\n",
      "\u001b[1m963/963\u001b[0m \u001b[32m━━━━━━━━━━━━━━━━━━━━\u001b[0m\u001b[37m\u001b[0m \u001b[1m4s\u001b[0m 4ms/step - accuracy: 0.9989 - loss: 0.0035 - val_accuracy: 0.9865 - val_loss: 0.0596\n",
      "Epoch 6/10\n",
      "\u001b[1m963/963\u001b[0m \u001b[32m━━━━━━━━━━━━━━━━━━━━\u001b[0m\u001b[37m\u001b[0m \u001b[1m4s\u001b[0m 4ms/step - accuracy: 0.9993 - loss: 0.0024 - val_accuracy: 0.9869 - val_loss: 0.0549\n",
      "Epoch 7/10\n",
      "\u001b[1m963/963\u001b[0m \u001b[32m━━━━━━━━━━━━━━━━━━━━\u001b[0m\u001b[37m\u001b[0m \u001b[1m4s\u001b[0m 4ms/step - accuracy: 0.9989 - loss: 0.0028 - val_accuracy: 0.9864 - val_loss: 0.0608\n",
      "Epoch 8/10\n",
      "\u001b[1m963/963\u001b[0m \u001b[32m━━━━━━━━━━━━━━━━━━━━\u001b[0m\u001b[37m\u001b[0m \u001b[1m4s\u001b[0m 4ms/step - accuracy: 0.9992 - loss: 0.0019 - val_accuracy: 0.9869 - val_loss: 0.0702\n",
      "Epoch 9/10\n",
      "\u001b[1m963/963\u001b[0m \u001b[32m━━━━━━━━━━━━━━━━━━━━\u001b[0m\u001b[37m\u001b[0m \u001b[1m4s\u001b[0m 4ms/step - accuracy: 0.9993 - loss: 0.0015 - val_accuracy: 0.9855 - val_loss: 0.0804\n",
      "Epoch 10/10\n",
      "\u001b[1m963/963\u001b[0m \u001b[32m━━━━━━━━━━━━━━━━━━━━\u001b[0m\u001b[37m\u001b[0m \u001b[1m4s\u001b[0m 4ms/step - accuracy: 0.9988 - loss: 0.0027 - val_accuracy: 0.9870 - val_loss: 0.0730\n"
     ]
    }
   ],
   "source": [
    "compile_model()"
   ]
  }
 ],
 "metadata": {
  "kernelspec": {
   "display_name": "atr",
   "language": "python",
   "name": "python3"
  },
  "language_info": {
   "codemirror_mode": {
    "name": "ipython",
    "version": 3
   },
   "file_extension": ".py",
   "mimetype": "text/x-python",
   "name": "python",
   "nbconvert_exporter": "python",
   "pygments_lexer": "ipython3",
   "version": "3.10.16"
  }
 },
 "nbformat": 4,
 "nbformat_minor": 2
}
