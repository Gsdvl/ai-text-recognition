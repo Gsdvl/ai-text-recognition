{
 "cells": [
  {
   "cell_type": "code",
   "execution_count": null,
   "metadata": {},
   "outputs": [],
   "source": [
    "import joblib\n",
    "import numpy as np"
   ]
  },
  {
   "cell_type": "code",
   "execution_count": null,
   "metadata": {},
   "outputs": [],
   "source": [
    "def load_models():    \n",
    "    with open('../models/modelv2.pkl', 'rb') as model_file:\n",
    "        model = joblib.load(model_file)\n",
    "\n",
    "    # Carregar o vectorizer\n",
    "    with open('../models/vectorizer.pkl', 'rb') as vectorizer_file:\n",
    "        vectorizer = joblib.load(vectorizer_file)\n",
    "    return model,vectorizer"
   ]
  },
  {
   "cell_type": "code",
   "execution_count": null,
   "metadata": {},
   "outputs": [],
   "source": [
    "def predict(text):\n",
    "    model, vectorizer = load_models()\n",
    "\n",
    "    X = vectorizer.transform([text])\n",
    "\n",
    "    if hasattr(X, \"toarray\"):  # Verifica se o método 'toarray' exist\n",
    "        X = X.toarray()\n",
    "\n",
    "    prediction = model.predict(X)\n",
    "    return prediction"
   ]
  },
  {
   "cell_type": "code",
   "execution_count": null,
   "metadata": {},
   "outputs": [],
   "source": []
  }
 ],
 "metadata": {
  "kernelspec": {
   "display_name": "venv",
   "language": "python",
   "name": "python3"
  },
  "language_info": {
   "name": "python",
   "version": "3.11.5"
  }
 },
 "nbformat": 4,
 "nbformat_minor": 2
}
