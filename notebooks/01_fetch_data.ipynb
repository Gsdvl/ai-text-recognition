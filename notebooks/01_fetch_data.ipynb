{
 "cells": [
  {
   "cell_type": "code",
   "execution_count": 1,
   "metadata": {},
   "outputs": [
    {
     "name": "stdout",
     "output_type": "stream",
     "text": [
      "Note: you may need to restart the kernel to use updated packages.\n"
     ]
    },
    {
     "name": "stderr",
     "output_type": "stream",
     "text": [
      "ERROR: Could not open requirements file: [Errno 2] No such file or directory: 'requirements.txt'\n"
     ]
    }
   ],
   "source": [
    "%pip install -r requirements.txt"
   ]
  },
  {
   "cell_type": "code",
   "execution_count": 2,
   "metadata": {},
   "outputs": [
    {
     "name": "stderr",
     "output_type": "stream",
     "text": [
      "Traceback (most recent call last):\n",
      "  File \"<frozen runpy>\", line 198, in _run_module_as_main\n",
      "  File \"<frozen runpy>\", line 88, in _run_code\n",
      "  File \"C:\\Users\\migue\\anaconda3\\Scripts\\kaggle.exe\\__main__.py\", line 4, in <module>\n",
      "  File \"c:\\Users\\migue\\anaconda3\\Lib\\site-packages\\kaggle\\__init__.py\", line 7, in <module>\n",
      "    api.authenticate()\n",
      "  File \"c:\\Users\\migue\\anaconda3\\Lib\\site-packages\\kaggle\\api\\kaggle_api_extended.py\", line 407, in authenticate\n",
      "    raise IOError('Could not find {}. Make sure it\\'s located in'\n",
      "OSError: Could not find kaggle.json. Make sure it's located in C:\\Users\\migue\\.kaggle. Or use the environment method. See setup instructions at https://github.com/Kaggle/kaggle-api/\n"
     ]
    }
   ],
   "source": [
    "!kaggle competitions download -c llm-detect-ai-generated-text\n"
   ]
  },
  {
   "cell_type": "code",
   "execution_count": 4,
   "metadata": {},
   "outputs": [
    {
     "name": "stderr",
     "output_type": "stream",
     "text": [
      "unzip:  cannot find either llm-detect-ai-generated-text.zip or llm-detect-ai-generated-text.zip.zip.\n"
     ]
    }
   ],
   "source": [
    "!unzip llm-detect-ai-generated-text.zip -d llm-detect-data\n"
   ]
  },
  {
   "cell_type": "code",
   "execution_count": 6,
   "metadata": {},
   "outputs": [],
   "source": [
    "import os\n",
    "import zipfile\n",
    "import glob\n",
    "import wandb"
   ]
  },
  {
   "cell_type": "code",
   "execution_count": 8,
   "metadata": {},
   "outputs": [],
   "source": [
    "DATA_RAW_DIR = '../data/raw'\n",
    "DATA_INTER_DIR = '../data/inter'"
   ]
  },
  {
   "cell_type": "code",
   "execution_count": 9,
   "metadata": {},
   "outputs": [],
   "source": [
    "def unzip_data(zip_dir: str, destination_dir: str) -> None:\n",
    "    os.makedirs(destination_dir, exist_ok=True)\n",
    "    zip_files = glob.glob(os.path.join(zip_dir, \"*.zip\"))\n",
    "\n",
    "    for file in zip_files:\n",
    "        with zipfile.ZipFile(file, 'r') as f:\n",
    "            f.extractall(path=destination_dir)"
   ]
  },
  {
   "cell_type": "code",
   "execution_count": 10,
   "metadata": {},
   "outputs": [],
   "source": [
    "unzip_data(DATA_RAW_DIR, DATA_INTER_DIR)"
   ]
  }
 ],
 "metadata": {
  "kernelspec": {
   "display_name": "base",
   "language": "python",
   "name": "python3"
  },
  "language_info": {
   "codemirror_mode": {
    "name": "ipython",
    "version": 3
   },
   "file_extension": ".py",
   "mimetype": "text/x-python",
   "name": "python",
   "nbconvert_exporter": "python",
   "pygments_lexer": "ipython3",
   "version": "3.11.5"
  }
 },
 "nbformat": 4,
 "nbformat_minor": 2
}
