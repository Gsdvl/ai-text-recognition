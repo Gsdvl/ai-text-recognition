{
 "cells": [
  {
   "cell_type": "code",
   "execution_count": 1,
   "metadata": {},
   "outputs": [
    {
     "name": "stdout",
     "output_type": "stream",
     "text": [
      "\u001b[31mERROR: Invalid requirement: '<<<<<<< HEAD': Expected package name at the start of dependency specifier\n",
      "    <<<<<<< HEAD\n",
      "    ^ (from line 10 of ../requirements.txt)\u001b[0m\u001b[31m\n",
      "\u001b[0mNote: you may need to restart the kernel to use updated packages.\n"
     ]
    }
   ],
   "source": [
    "%pip install -r ../requirements.txt"
   ]
  },
  {
   "cell_type": "code",
   "execution_count": 2,
   "metadata": {},
   "outputs": [
    {
     "name": "stdout",
     "output_type": "stream",
     "text": [
      "Downloading llm-detect-ai-generated-text.zip to /home/gabs/Documentos/EstudosProgramacao/DataScience/DeepLearning/ai-text-recognition/notebooks\n",
      " 72%|███████████████████████████▍          | 1.00M/1.38M [00:00<00:00, 1.30MB/s]\n",
      "100%|██████████████████████████████████████| 1.38M/1.38M [00:00<00:00, 1.68MB/s]\n",
      "Downloading...\n",
      "From (original): https://drive.google.com/uc?id=1jOWWieuYgSUWByUFcy2_XJqYiU25p6gy\n",
      "From (redirected): https://drive.google.com/uc?id=1jOWWieuYgSUWByUFcy2_XJqYiU25p6gy&confirm=t&uuid=b27c38a7-4cbe-4ee0-93ed-709a316475c4\n",
      "To: /home/gabs/Documentos/EstudosProgramacao/DataScience/DeepLearning/ai-text-recognition/notebooks/llm-proper-data.zip\n",
      "100%|████████████████████████████████████████| 116M/116M [00:07<00:00, 14.8MB/s]\n"
     ]
    }
   ],
   "source": [
    "!kaggle competitions download -c llm-detect-ai-generated-text\n",
    "!gdown https://drive.google.com/uc?id=1jOWWieuYgSUWByUFcy2_XJqYiU25p6gy\n"
   ]
  },
  {
   "cell_type": "code",
   "execution_count": 3,
   "metadata": {},
   "outputs": [],
   "source": [
    "!mkdir ../static"
   ]
  },
  {
   "cell_type": "code",
   "execution_count": 4,
   "metadata": {},
   "outputs": [],
   "source": [
    "!mv llm-proper-data.zip ../static\n",
    "!mv llm-detect-ai-generated-text.zip ../static"
   ]
  },
  {
   "cell_type": "code",
   "execution_count": 5,
   "metadata": {},
   "outputs": [
    {
     "name": "stdout",
     "output_type": "stream",
     "text": [
      "Archive:  ../static/llm-detect-ai-generated-text.zip\n",
      "  inflating: llm-detect-data/sample_submission.csv  \n",
      "  inflating: llm-detect-data/test_essays.csv  \n",
      "  inflating: llm-detect-data/train_essays.csv  \n",
      "  inflating: llm-detect-data/train_prompts.csv  \n",
      "Archive:  ../static/llm-proper-data.zip\n",
      "   creating: llm-proper-data/\n",
      "  inflating: llm-proper-data/train_drcat_01.csv  \n",
      "  inflating: llm-proper-data/train_drcat_02.csv  \n",
      "  inflating: llm-proper-data/train_drcat_03.csv  \n",
      "  inflating: llm-proper-data/train_drcat_04.csv  \n"
     ]
    }
   ],
   "source": [
    "!unzip ../static/llm-detect-ai-generated-text.zip -d llm-detect-data\n",
    "!unzip ../static/llm-proper-data.zip"
   ]
  },
  {
   "cell_type": "code",
   "execution_count": 6,
   "metadata": {},
   "outputs": [],
   "source": [
    "!mv llm-proper-data/ ..\n",
    "!mv llm-detect-data/ .."
   ]
  }
 ],
 "metadata": {
  "kernelspec": {
   "display_name": "atr",
   "language": "python",
   "name": "python3"
  },
  "language_info": {
   "codemirror_mode": {
    "name": "ipython",
    "version": 3
   },
   "file_extension": ".py",
   "mimetype": "text/x-python",
   "name": "python",
   "nbconvert_exporter": "python",
   "pygments_lexer": "ipython3",
   "version": "3.10.16"
  }
 },
 "nbformat": 4,
 "nbformat_minor": 2
}
