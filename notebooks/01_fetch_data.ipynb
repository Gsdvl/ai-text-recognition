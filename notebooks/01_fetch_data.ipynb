{
 "cells": [
  {
   "cell_type": "code",
   "execution_count": null,
   "metadata": {},
   "outputs": [
    {
     "name": "stdout",
     "output_type": "stream",
     "text": [
      "Requirement already satisfied: gdown in /home/gabs/miniconda3/envs/atr/lib/python3.10/site-packages (from -r ../requirements.txt (line 1)) (5.2.0)\n",
      "Requirement already satisfied: numpy in /home/gabs/.local/lib/python3.10/site-packages (from -r ../requirements.txt (line 2)) (2.0.2)\n",
      "Requirement already satisfied: pandas in /home/gabs/.local/lib/python3.10/site-packages (from -r ../requirements.txt (line 3)) (2.2.3)\n",
      "Requirement already satisfied: matplotlib in /home/gabs/.local/lib/python3.10/site-packages (from -r ../requirements.txt (line 4)) (3.9.3)\n",
      "Requirement already satisfied: wandb in /home/gabs/.local/lib/python3.10/site-packages (from -r ../requirements.txt (line 5)) (0.19.1)\n",
      "Requirement already satisfied: kaggle in /home/gabs/miniconda3/envs/atr/lib/python3.10/site-packages (from -r ../requirements.txt (line 6)) (1.6.17)\n",
      "Requirement already satisfied: requests in /home/gabs/miniconda3/envs/atr/lib/python3.10/site-packages (from -r ../requirements.txt (line 7)) (2.32.3)\n",
      "Requirement already satisfied: scikit-learn in /home/gabs/.local/lib/python3.10/site-packages (from -r ../requirements.txt (line 8)) (1.5.2)\n",
      "Requirement already satisfied: spacy in /home/gabs/.local/lib/python3.10/site-packages (from -r ../requirements.txt (line 9)) (3.8.2)\n",
      "Requirement already satisfied: beautifulsoup4 in /home/gabs/miniconda3/envs/atr/lib/python3.10/site-packages (from gdown->-r ../requirements.txt (line 1)) (4.12.3)\n",
      "Requirement already satisfied: filelock in /home/gabs/miniconda3/envs/atr/lib/python3.10/site-packages (from gdown->-r ../requirements.txt (line 1)) (3.16.1)\n",
      "Requirement already satisfied: tqdm in /home/gabs/.local/lib/python3.10/site-packages (from gdown->-r ../requirements.txt (line 1)) (4.66.5)\n",
      "Requirement already satisfied: python-dateutil>=2.8.2 in /home/gabs/.local/lib/python3.10/site-packages (from pandas->-r ../requirements.txt (line 3)) (2.9.0.post0)\n",
      "Requirement already satisfied: pytz>=2020.1 in /home/gabs/.local/lib/python3.10/site-packages (from pandas->-r ../requirements.txt (line 3)) (2024.2)\n",
      "Requirement already satisfied: tzdata>=2022.7 in /home/gabs/.local/lib/python3.10/site-packages (from pandas->-r ../requirements.txt (line 3)) (2024.2)\n",
      "Requirement already satisfied: contourpy>=1.0.1 in /home/gabs/.local/lib/python3.10/site-packages (from matplotlib->-r ../requirements.txt (line 4)) (1.0.5)\n",
      "Requirement already satisfied: cycler>=0.10 in /home/gabs/.local/lib/python3.10/site-packages (from matplotlib->-r ../requirements.txt (line 4)) (0.11.0)\n",
      "Requirement already satisfied: fonttools>=4.22.0 in /home/gabs/.local/lib/python3.10/site-packages (from matplotlib->-r ../requirements.txt (line 4)) (4.37.3)\n",
      "Requirement already satisfied: kiwisolver>=1.3.1 in /home/gabs/.local/lib/python3.10/site-packages (from matplotlib->-r ../requirements.txt (line 4)) (1.4.4)\n",
      "Requirement already satisfied: packaging>=20.0 in /home/gabs/.local/lib/python3.10/site-packages (from matplotlib->-r ../requirements.txt (line 4)) (24.1)\n",
      "Requirement already satisfied: pillow>=8 in /home/gabs/miniconda3/envs/atr/lib/python3.10/site-packages (from matplotlib->-r ../requirements.txt (line 4)) (11.1.0)\n",
      "Requirement already satisfied: pyparsing>=2.3.1 in /home/gabs/miniconda3/envs/atr/lib/python3.10/site-packages (from matplotlib->-r ../requirements.txt (line 4)) (3.2.1)\n",
      "Requirement already satisfied: click!=8.0.0,>=7.1 in /home/gabs/miniconda3/envs/atr/lib/python3.10/site-packages (from wandb->-r ../requirements.txt (line 5)) (8.1.8)\n",
      "Requirement already satisfied: docker-pycreds>=0.4.0 in /home/gabs/.local/lib/python3.10/site-packages (from wandb->-r ../requirements.txt (line 5)) (0.4.0)\n",
      "Requirement already satisfied: gitpython!=3.1.29,>=1.0.0 in /home/gabs/.local/lib/python3.10/site-packages (from wandb->-r ../requirements.txt (line 5)) (3.1.43)\n",
      "Requirement already satisfied: platformdirs in /home/gabs/.local/lib/python3.10/site-packages (from wandb->-r ../requirements.txt (line 5)) (4.3.6)\n",
      "Requirement already satisfied: protobuf!=4.21.0,!=5.28.0,<6,>=3.19.0 in /home/gabs/.local/lib/python3.10/site-packages (from wandb->-r ../requirements.txt (line 5)) (5.29.1)\n",
      "Requirement already satisfied: psutil>=5.0.0 in /home/gabs/miniconda3/envs/atr/lib/python3.10/site-packages (from wandb->-r ../requirements.txt (line 5)) (5.9.0)\n",
      "Requirement already satisfied: pydantic<3,>=2.6 in /home/gabs/.local/lib/python3.10/site-packages (from wandb->-r ../requirements.txt (line 5)) (2.9.2)\n",
      "Requirement already satisfied: pyyaml in /home/gabs/miniconda3/envs/atr/lib/python3.10/site-packages (from wandb->-r ../requirements.txt (line 5)) (6.0.2)\n",
      "Requirement already satisfied: sentry-sdk>=2.0.0 in /home/gabs/.local/lib/python3.10/site-packages (from wandb->-r ../requirements.txt (line 5)) (2.19.1)\n",
      "Requirement already satisfied: setproctitle in /home/gabs/miniconda3/envs/atr/lib/python3.10/site-packages (from wandb->-r ../requirements.txt (line 5)) (1.3.4)\n",
      "Requirement already satisfied: setuptools in /home/gabs/miniconda3/envs/atr/lib/python3.10/site-packages (from wandb->-r ../requirements.txt (line 5)) (75.1.0)\n",
      "Requirement already satisfied: typing-extensions<5,>=4.4 in /home/gabs/.local/lib/python3.10/site-packages (from wandb->-r ../requirements.txt (line 5)) (4.12.2)\n",
      "Requirement already satisfied: six>=1.10 in /home/gabs/.local/lib/python3.10/site-packages (from kaggle->-r ../requirements.txt (line 6)) (1.16.0)\n",
      "Requirement already satisfied: certifi>=2023.7.22 in /home/gabs/miniconda3/envs/atr/lib/python3.10/site-packages (from kaggle->-r ../requirements.txt (line 6)) (2024.12.14)\n",
      "Requirement already satisfied: python-slugify in /home/gabs/miniconda3/envs/atr/lib/python3.10/site-packages (from kaggle->-r ../requirements.txt (line 6)) (8.0.4)\n",
      "Requirement already satisfied: urllib3 in /home/gabs/miniconda3/envs/atr/lib/python3.10/site-packages (from kaggle->-r ../requirements.txt (line 6)) (2.3.0)\n",
      "Requirement already satisfied: bleach in /home/gabs/miniconda3/envs/atr/lib/python3.10/site-packages (from kaggle->-r ../requirements.txt (line 6)) (6.2.0)\n",
      "Requirement already satisfied: charset-normalizer<4,>=2 in /home/gabs/miniconda3/envs/atr/lib/python3.10/site-packages (from requests->-r ../requirements.txt (line 7)) (3.4.1)\n",
      "Requirement already satisfied: idna<4,>=2.5 in /home/gabs/miniconda3/envs/atr/lib/python3.10/site-packages (from requests->-r ../requirements.txt (line 7)) (3.10)\n",
      "Requirement already satisfied: scipy>=1.6.0 in /home/gabs/.local/lib/python3.10/site-packages (from scikit-learn->-r ../requirements.txt (line 8)) (1.13.1)\n",
      "Requirement already satisfied: joblib>=1.2.0 in /home/gabs/.local/lib/python3.10/site-packages (from scikit-learn->-r ../requirements.txt (line 8)) (1.4.2)\n",
      "Requirement already satisfied: threadpoolctl>=3.1.0 in /home/gabs/.local/lib/python3.10/site-packages (from scikit-learn->-r ../requirements.txt (line 8)) (3.5.0)\n",
      "Requirement already satisfied: spacy-legacy<3.1.0,>=3.0.11 in /home/gabs/.local/lib/python3.10/site-packages (from spacy->-r ../requirements.txt (line 9)) (3.0.12)\n",
      "Requirement already satisfied: spacy-loggers<2.0.0,>=1.0.0 in /home/gabs/.local/lib/python3.10/site-packages (from spacy->-r ../requirements.txt (line 9)) (1.0.5)\n",
      "Requirement already satisfied: murmurhash<1.1.0,>=0.28.0 in /home/gabs/.local/lib/python3.10/site-packages (from spacy->-r ../requirements.txt (line 9)) (1.0.11)\n",
      "Requirement already satisfied: cymem<2.1.0,>=2.0.2 in /home/gabs/.local/lib/python3.10/site-packages (from spacy->-r ../requirements.txt (line 9)) (2.0.10)\n",
      "Requirement already satisfied: preshed<3.1.0,>=3.0.2 in /home/gabs/.local/lib/python3.10/site-packages (from spacy->-r ../requirements.txt (line 9)) (3.0.9)\n",
      "Requirement already satisfied: thinc<8.4.0,>=8.3.0 in /home/gabs/.local/lib/python3.10/site-packages (from spacy->-r ../requirements.txt (line 9)) (8.3.2)\n",
      "Requirement already satisfied: wasabi<1.2.0,>=0.9.1 in /home/gabs/.local/lib/python3.10/site-packages (from spacy->-r ../requirements.txt (line 9)) (1.1.3)\n",
      "Requirement already satisfied: srsly<3.0.0,>=2.4.3 in /home/gabs/.local/lib/python3.10/site-packages (from spacy->-r ../requirements.txt (line 9)) (2.4.8)\n",
      "Requirement already satisfied: catalogue<2.1.0,>=2.0.6 in /home/gabs/.local/lib/python3.10/site-packages (from spacy->-r ../requirements.txt (line 9)) (2.0.10)\n",
      "Requirement already satisfied: weasel<0.5.0,>=0.1.0 in /home/gabs/.local/lib/python3.10/site-packages (from spacy->-r ../requirements.txt (line 9)) (0.4.1)\n",
      "Requirement already satisfied: typer<1.0.0,>=0.3.0 in /home/gabs/.local/lib/python3.10/site-packages (from spacy->-r ../requirements.txt (line 9)) (0.12.5)\n",
      "Requirement already satisfied: jinja2 in /home/gabs/.local/lib/python3.10/site-packages (from spacy->-r ../requirements.txt (line 9)) (3.1.2)\n",
      "Requirement already satisfied: langcodes<4.0.0,>=3.2.0 in /home/gabs/.local/lib/python3.10/site-packages (from spacy->-r ../requirements.txt (line 9)) (3.5.0)\n",
      "Requirement already satisfied: gitdb<5,>=4.0.1 in /home/gabs/.local/lib/python3.10/site-packages (from gitpython!=3.1.29,>=1.0.0->wandb->-r ../requirements.txt (line 5)) (4.0.11)\n",
      "Requirement already satisfied: language-data>=1.2 in /home/gabs/.local/lib/python3.10/site-packages (from langcodes<4.0.0,>=3.2.0->spacy->-r ../requirements.txt (line 9)) (1.3.0)\n",
      "Requirement already satisfied: annotated-types>=0.6.0 in /home/gabs/.local/lib/python3.10/site-packages (from pydantic<3,>=2.6->wandb->-r ../requirements.txt (line 5)) (0.7.0)\n",
      "Requirement already satisfied: pydantic-core==2.23.4 in /home/gabs/.local/lib/python3.10/site-packages (from pydantic<3,>=2.6->wandb->-r ../requirements.txt (line 5)) (2.23.4)\n",
      "Requirement already satisfied: blis<1.1.0,>=1.0.0 in /home/gabs/.local/lib/python3.10/site-packages (from thinc<8.4.0,>=8.3.0->spacy->-r ../requirements.txt (line 9)) (1.0.1)\n",
      "Requirement already satisfied: confection<1.0.0,>=0.0.1 in /home/gabs/.local/lib/python3.10/site-packages (from thinc<8.4.0,>=8.3.0->spacy->-r ../requirements.txt (line 9)) (0.1.5)\n",
      "Requirement already satisfied: shellingham>=1.3.0 in /home/gabs/miniconda3/envs/atr/lib/python3.10/site-packages (from typer<1.0.0,>=0.3.0->spacy->-r ../requirements.txt (line 9)) (1.5.4)\n",
      "Requirement already satisfied: rich>=10.11.0 in /home/gabs/.local/lib/python3.10/site-packages (from typer<1.0.0,>=0.3.0->spacy->-r ../requirements.txt (line 9)) (13.9.3)\n",
      "Requirement already satisfied: cloudpathlib<1.0.0,>=0.7.0 in /home/gabs/.local/lib/python3.10/site-packages (from weasel<0.5.0,>=0.1.0->spacy->-r ../requirements.txt (line 9)) (0.20.0)\n",
      "Requirement already satisfied: smart-open<8.0.0,>=5.2.1 in /home/gabs/.local/lib/python3.10/site-packages (from weasel<0.5.0,>=0.1.0->spacy->-r ../requirements.txt (line 9)) (7.0.5)\n",
      "Requirement already satisfied: soupsieve>1.2 in /home/gabs/miniconda3/envs/atr/lib/python3.10/site-packages (from beautifulsoup4->gdown->-r ../requirements.txt (line 1)) (2.6)\n",
      "Requirement already satisfied: webencodings in /home/gabs/miniconda3/envs/atr/lib/python3.10/site-packages (from bleach->kaggle->-r ../requirements.txt (line 6)) (0.5.1)\n",
      "Requirement already satisfied: MarkupSafe>=2.0 in /home/gabs/.local/lib/python3.10/site-packages (from jinja2->spacy->-r ../requirements.txt (line 9)) (2.1.1)\n",
      "Requirement already satisfied: text-unidecode>=1.3 in /home/gabs/miniconda3/envs/atr/lib/python3.10/site-packages (from python-slugify->kaggle->-r ../requirements.txt (line 6)) (1.3)\n",
      "Requirement already satisfied: PySocks!=1.5.7,>=1.5.6 in /home/gabs/miniconda3/envs/atr/lib/python3.10/site-packages (from requests[socks]->gdown->-r ../requirements.txt (line 1)) (1.7.1)\n",
      "Requirement already satisfied: smmap<6,>=3.0.1 in /home/gabs/.local/lib/python3.10/site-packages (from gitdb<5,>=4.0.1->gitpython!=3.1.29,>=1.0.0->wandb->-r ../requirements.txt (line 5)) (5.0.1)\n",
      "Requirement already satisfied: marisa-trie>=1.1.0 in /home/gabs/.local/lib/python3.10/site-packages (from language-data>=1.2->langcodes<4.0.0,>=3.2.0->spacy->-r ../requirements.txt (line 9)) (1.2.1)\n",
      "Requirement already satisfied: markdown-it-py>=2.2.0 in /home/gabs/.local/lib/python3.10/site-packages (from rich>=10.11.0->typer<1.0.0,>=0.3.0->spacy->-r ../requirements.txt (line 9)) (3.0.0)\n",
      "Requirement already satisfied: pygments<3.0.0,>=2.13.0 in /home/gabs/.local/lib/python3.10/site-packages (from rich>=10.11.0->typer<1.0.0,>=0.3.0->spacy->-r ../requirements.txt (line 9)) (2.13.0)\n",
      "Requirement already satisfied: wrapt in /home/gabs/.local/lib/python3.10/site-packages (from smart-open<8.0.0,>=5.2.1->weasel<0.5.0,>=0.1.0->spacy->-r ../requirements.txt (line 9)) (1.14.1)\n",
      "Requirement already satisfied: mdurl~=0.1 in /home/gabs/.local/lib/python3.10/site-packages (from markdown-it-py>=2.2.0->rich>=10.11.0->typer<1.0.0,>=0.3.0->spacy->-r ../requirements.txt (line 9)) (0.1.2)\n",
      "Note: you may need to restart the kernel to use updated packages.\n"
     ]
    }
   ],
   "source": [
    "%pip install -r ../requirements.txt"
   ]
  },
  {
   "cell_type": "code",
   "execution_count": 28,
   "metadata": {},
   "outputs": [
    {
     "name": "stdout",
     "output_type": "stream",
     "text": [
      "Downloading llm-detect-ai-generated-text.zip to /home/gabs/Documentos/EstudosProgramacao/DataScience/DeepLearning/ai-text-recognition/notebooks\n",
      " 72%|███████████████████████████▍          | 1.00M/1.38M [00:01<00:00, 1.02MB/s]\n",
      "100%|██████████████████████████████████████| 1.38M/1.38M [00:01<00:00, 1.36MB/s]\n",
      "Downloading...\n",
      "From (original): https://drive.google.com/uc?id=1jOWWieuYgSUWByUFcy2_XJqYiU25p6gy\n",
      "From (redirected): https://drive.google.com/uc?id=1jOWWieuYgSUWByUFcy2_XJqYiU25p6gy&confirm=t&uuid=f991fdd6-fb25-4b06-b8c4-aaa93ea76c06\n",
      "To: /home/gabs/Documentos/EstudosProgramacao/DataScience/DeepLearning/ai-text-recognition/notebooks/llm-proper-data.zip\n",
      "100%|████████████████████████████████████████| 116M/116M [00:06<00:00, 18.5MB/s]\n"
     ]
    }
   ],
   "source": [
    "!kaggle competitions download -c llm-detect-ai-generated-text\n",
    "!gdown https://drive.google.com/uc?id=1jOWWieuYgSUWByUFcy2_XJqYiU25p6gy\n"
   ]
  },
  {
   "cell_type": "code",
   "execution_count": 33,
   "metadata": {},
   "outputs": [],
   "source": [
    "!mkdir ../static"
   ]
  },
  {
   "cell_type": "code",
   "execution_count": 30,
   "metadata": {},
   "outputs": [],
   "source": [
    "!mv llm-proper-data.zip ../static\n",
    "!mv llm-detect-ai-generated-text.zip ../static"
   ]
  },
  {
   "cell_type": "code",
   "execution_count": null,
   "metadata": {},
   "outputs": [
    {
     "name": "stdout",
     "output_type": "stream",
     "text": [
      "Archive:  ../static/llm-detect-ai-generated-text.zip\n",
      "  inflating: llm-detect-data/sample_submission.csv  \n",
      "  inflating: llm-detect-data/test_essays.csv  \n",
      "  inflating: llm-detect-data/train_essays.csv  \n",
      "  inflating: llm-detect-data/train_prompts.csv  \n",
      "Archive:  ../static/llm-proper-data.zip\n",
      "   creating: llm-proper-data/\n",
      "  inflating: llm-proper-data/train_drcat_01.csv  \n",
      "  inflating: llm-proper-data/train_drcat_02.csv  \n",
      "  inflating: llm-proper-data/train_drcat_03.csv  \n",
      "  inflating: llm-proper-data/train_drcat_04.csv  \n"
     ]
    }
   ],
   "source": [
    "!unzip ../static/llm-detect-ai-generated-text.zip -d llm-detect-data\n",
    "!unzip ../static/llm-proper-data.zip"
   ]
  },
  {
   "cell_type": "code",
   "execution_count": null,
   "metadata": {},
   "outputs": [],
   "source": [
    "!mv llm-proper-data/ ..\n",
    "!mv llm-detect-data/ .."
   ]
  }
 ],
 "metadata": {
  "kernelspec": {
   "display_name": "atr",
   "language": "python",
   "name": "python3"
  },
  "language_info": {
   "codemirror_mode": {
    "name": "ipython",
    "version": 3
   },
   "file_extension": ".py",
   "mimetype": "text/x-python",
   "name": "python",
   "nbconvert_exporter": "python",
   "pygments_lexer": "ipython3",
   "version": "3.10.16"
  }
 },
 "nbformat": 4,
 "nbformat_minor": 2
}
