{
 "cells": [
  {
   "cell_type": "code",
   "execution_count": 1,
   "metadata": {},
   "outputs": [
    {
     "name": "stdout",
     "output_type": "stream",
     "text": [
      "Requirement already satisfied: gdown in c:\\users\\migue\\anaconda3\\lib\\site-packages (from -r ../requirements.txt (line 1)) (5.2.0)\n",
      "Requirement already satisfied: numpy in c:\\users\\migue\\anaconda3\\lib\\site-packages (from -r ../requirements.txt (line 2)) (1.26.4)\n",
      "Requirement already satisfied: pandas in c:\\users\\migue\\anaconda3\\lib\\site-packages (from -r ../requirements.txt (line 3)) (2.2.1)\n",
      "Requirement already satisfied: matplotlib in c:\\users\\migue\\anaconda3\\lib\\site-packages (from -r ../requirements.txt (line 4)) (3.8.4)\n",
      "Requirement already satisfied: wandb in c:\\users\\migue\\anaconda3\\lib\\site-packages (from -r ../requirements.txt (line 5)) (0.18.7)\n",
      "Requirement already satisfied: kaggle in c:\\users\\migue\\anaconda3\\lib\\site-packages (from -r ../requirements.txt (line 6)) (1.6.17)\n",
      "Requirement already satisfied: requests in c:\\users\\migue\\anaconda3\\lib\\site-packages (from -r ../requirements.txt (line 7)) (2.31.0)\n",
      "Requirement already satisfied: scikit-learn in c:\\users\\migue\\anaconda3\\lib\\site-packages (from -r ../requirements.txt (line 8)) (1.4.2)\n",
      "Requirement already satisfied: spacy in c:\\users\\migue\\anaconda3\\lib\\site-packages (from -r ../requirements.txt (line 9)) (3.8.4)\n",
      "Requirement already satisfied: gradio in c:\\users\\migue\\anaconda3\\lib\\site-packages (from -r ../requirements.txt (line 10)) (5.12.0)\n",
      "Requirement already satisfied: beautifulsoup4 in c:\\users\\migue\\anaconda3\\lib\\site-packages (from gdown->-r ../requirements.txt (line 1)) (4.12.2)\n",
      "Requirement already satisfied: filelock in c:\\users\\migue\\anaconda3\\lib\\site-packages (from gdown->-r ../requirements.txt (line 1)) (3.13.1)\n",
      "Requirement already satisfied: tqdm in c:\\users\\migue\\anaconda3\\lib\\site-packages (from gdown->-r ../requirements.txt (line 1)) (4.66.4)\n",
      "Requirement already satisfied: python-dateutil>=2.8.2 in c:\\users\\migue\\anaconda3\\lib\\site-packages (from pandas->-r ../requirements.txt (line 3)) (2.9.0.post0)\n",
      "Requirement already satisfied: pytz>=2020.1 in c:\\users\\migue\\anaconda3\\lib\\site-packages (from pandas->-r ../requirements.txt (line 3)) (2024.1)\n",
      "Requirement already satisfied: tzdata>=2022.7 in c:\\users\\migue\\anaconda3\\lib\\site-packages (from pandas->-r ../requirements.txt (line 3)) (2023.3)\n",
      "Requirement already satisfied: contourpy>=1.0.1 in c:\\users\\migue\\anaconda3\\lib\\site-packages (from matplotlib->-r ../requirements.txt (line 4)) (1.2.0)\n",
      "Requirement already satisfied: cycler>=0.10 in c:\\users\\migue\\anaconda3\\lib\\site-packages (from matplotlib->-r ../requirements.txt (line 4)) (0.11.0)\n",
      "Requirement already satisfied: fonttools>=4.22.0 in c:\\users\\migue\\anaconda3\\lib\\site-packages (from matplotlib->-r ../requirements.txt (line 4)) (4.51.0)\n",
      "Requirement already satisfied: kiwisolver>=1.3.1 in c:\\users\\migue\\anaconda3\\lib\\site-packages (from matplotlib->-r ../requirements.txt (line 4)) (1.4.4)\n",
      "Requirement already satisfied: packaging>=20.0 in c:\\users\\migue\\anaconda3\\lib\\site-packages (from matplotlib->-r ../requirements.txt (line 4)) (23.2)\n",
      "Requirement already satisfied: pillow>=8 in c:\\users\\migue\\anaconda3\\lib\\site-packages (from matplotlib->-r ../requirements.txt (line 4)) (10.3.0)\n",
      "Requirement already satisfied: pyparsing>=2.3.1 in c:\\users\\migue\\anaconda3\\lib\\site-packages (from matplotlib->-r ../requirements.txt (line 4)) (3.0.9)\n",
      "Requirement already satisfied: click!=8.0.0,>=7.1 in c:\\users\\migue\\anaconda3\\lib\\site-packages (from wandb->-r ../requirements.txt (line 5)) (8.1.7)\n",
      "Requirement already satisfied: docker-pycreds>=0.4.0 in c:\\users\\migue\\anaconda3\\lib\\site-packages (from wandb->-r ../requirements.txt (line 5)) (0.4.0)\n",
      "Requirement already satisfied: gitpython!=3.1.29,>=1.0.0 in c:\\users\\migue\\anaconda3\\lib\\site-packages (from wandb->-r ../requirements.txt (line 5)) (3.1.43)\n",
      "Requirement already satisfied: platformdirs in c:\\users\\migue\\appdata\\roaming\\python\\python311\\site-packages (from wandb->-r ../requirements.txt (line 5)) (3.10.0)\n",
      "Requirement already satisfied: protobuf!=4.21.0,!=5.28.0,<6,>=3.19.0 in c:\\users\\migue\\anaconda3\\lib\\site-packages (from wandb->-r ../requirements.txt (line 5)) (4.25.3)\n",
      "Requirement already satisfied: psutil>=5.0.0 in c:\\users\\migue\\appdata\\roaming\\python\\python311\\site-packages (from wandb->-r ../requirements.txt (line 5)) (5.9.5)\n",
      "Requirement already satisfied: pyyaml in c:\\users\\migue\\anaconda3\\lib\\site-packages (from wandb->-r ../requirements.txt (line 5)) (6.0.1)\n",
      "Requirement already satisfied: sentry-sdk>=2.0.0 in c:\\users\\migue\\anaconda3\\lib\\site-packages (from wandb->-r ../requirements.txt (line 5)) (2.19.0)\n",
      "Requirement already satisfied: setproctitle in c:\\users\\migue\\anaconda3\\lib\\site-packages (from wandb->-r ../requirements.txt (line 5)) (1.3.4)\n",
      "Requirement already satisfied: setuptools in c:\\users\\migue\\anaconda3\\lib\\site-packages (from wandb->-r ../requirements.txt (line 5)) (68.0.0)\n",
      "Requirement already satisfied: typing-extensions<5,>=4.4 in c:\\users\\migue\\anaconda3\\lib\\site-packages (from wandb->-r ../requirements.txt (line 5)) (4.11.0)\n",
      "Requirement already satisfied: six>=1.10 in c:\\users\\migue\\anaconda3\\lib\\site-packages (from kaggle->-r ../requirements.txt (line 6)) (1.16.0)\n",
      "Requirement already satisfied: certifi>=2023.7.22 in c:\\users\\migue\\anaconda3\\lib\\site-packages (from kaggle->-r ../requirements.txt (line 6)) (2024.8.30)\n",
      "Requirement already satisfied: python-slugify in c:\\users\\migue\\anaconda3\\lib\\site-packages (from kaggle->-r ../requirements.txt (line 6)) (5.0.2)\n",
      "Requirement already satisfied: urllib3 in c:\\users\\migue\\anaconda3\\lib\\site-packages (from kaggle->-r ../requirements.txt (line 6)) (2.2.1)\n",
      "Requirement already satisfied: bleach in c:\\users\\migue\\anaconda3\\lib\\site-packages (from kaggle->-r ../requirements.txt (line 6)) (4.1.0)\n",
      "Requirement already satisfied: charset-normalizer<4,>=2 in c:\\users\\migue\\anaconda3\\lib\\site-packages (from requests->-r ../requirements.txt (line 7)) (2.0.4)\n",
      "Requirement already satisfied: idna<4,>=2.5 in c:\\users\\migue\\anaconda3\\lib\\site-packages (from requests->-r ../requirements.txt (line 7)) (3.7)\n",
      "Requirement already satisfied: scipy>=1.6.0 in c:\\users\\migue\\anaconda3\\lib\\site-packages (from scikit-learn->-r ../requirements.txt (line 8)) (1.13.0)\n",
      "Requirement already satisfied: joblib>=1.2.0 in c:\\users\\migue\\anaconda3\\lib\\site-packages (from scikit-learn->-r ../requirements.txt (line 8)) (1.4.0)\n",
      "Requirement already satisfied: threadpoolctl>=2.0.0 in c:\\users\\migue\\anaconda3\\lib\\site-packages (from scikit-learn->-r ../requirements.txt (line 8)) (2.2.0)\n",
      "Requirement already satisfied: spacy-legacy<3.1.0,>=3.0.11 in c:\\users\\migue\\anaconda3\\lib\\site-packages (from spacy->-r ../requirements.txt (line 9)) (3.0.12)\n",
      "Requirement already satisfied: spacy-loggers<2.0.0,>=1.0.0 in c:\\users\\migue\\anaconda3\\lib\\site-packages (from spacy->-r ../requirements.txt (line 9)) (1.0.5)\n",
      "Requirement already satisfied: murmurhash<1.1.0,>=0.28.0 in c:\\users\\migue\\anaconda3\\lib\\site-packages (from spacy->-r ../requirements.txt (line 9)) (1.0.12)\n",
      "Requirement already satisfied: cymem<2.1.0,>=2.0.2 in c:\\users\\migue\\anaconda3\\lib\\site-packages (from spacy->-r ../requirements.txt (line 9)) (2.0.11)\n",
      "Requirement already satisfied: preshed<3.1.0,>=3.0.2 in c:\\users\\migue\\anaconda3\\lib\\site-packages (from spacy->-r ../requirements.txt (line 9)) (3.0.9)\n",
      "Requirement already satisfied: thinc<8.4.0,>=8.3.4 in c:\\users\\migue\\anaconda3\\lib\\site-packages (from spacy->-r ../requirements.txt (line 9)) (8.3.4)\n",
      "Requirement already satisfied: wasabi<1.2.0,>=0.9.1 in c:\\users\\migue\\anaconda3\\lib\\site-packages (from spacy->-r ../requirements.txt (line 9)) (1.1.3)\n",
      "Requirement already satisfied: srsly<3.0.0,>=2.4.3 in c:\\users\\migue\\anaconda3\\lib\\site-packages (from spacy->-r ../requirements.txt (line 9)) (2.5.1)\n",
      "Requirement already satisfied: catalogue<2.1.0,>=2.0.6 in c:\\users\\migue\\anaconda3\\lib\\site-packages (from spacy->-r ../requirements.txt (line 9)) (2.0.10)\n",
      "Requirement already satisfied: weasel<0.5.0,>=0.1.0 in c:\\users\\migue\\anaconda3\\lib\\site-packages (from spacy->-r ../requirements.txt (line 9)) (0.4.1)\n",
      "Requirement already satisfied: typer<1.0.0,>=0.3.0 in c:\\users\\migue\\anaconda3\\lib\\site-packages (from spacy->-r ../requirements.txt (line 9)) (0.15.1)\n",
      "Requirement already satisfied: pydantic!=1.8,!=1.8.1,<3.0.0,>=1.7.4 in c:\\users\\migue\\anaconda3\\lib\\site-packages (from spacy->-r ../requirements.txt (line 9)) (2.5.3)\n",
      "Requirement already satisfied: jinja2 in c:\\users\\migue\\anaconda3\\lib\\site-packages (from spacy->-r ../requirements.txt (line 9)) (3.1.3)\n",
      "Requirement already satisfied: langcodes<4.0.0,>=3.2.0 in c:\\users\\migue\\anaconda3\\lib\\site-packages (from spacy->-r ../requirements.txt (line 9)) (3.5.0)\n",
      "Requirement already satisfied: aiofiles<24.0,>=22.0 in c:\\users\\migue\\anaconda3\\lib\\site-packages (from gradio->-r ../requirements.txt (line 10)) (22.1.0)\n",
      "Requirement already satisfied: anyio<5.0,>=3.0 in c:\\users\\migue\\anaconda3\\lib\\site-packages (from gradio->-r ../requirements.txt (line 10)) (3.5.0)\n",
      "Requirement already satisfied: fastapi<1.0,>=0.115.2 in c:\\users\\migue\\anaconda3\\lib\\site-packages (from gradio->-r ../requirements.txt (line 10)) (0.115.6)\n",
      "Requirement already satisfied: ffmpy in c:\\users\\migue\\anaconda3\\lib\\site-packages (from gradio->-r ../requirements.txt (line 10)) (0.5.0)\n",
      "Requirement already satisfied: gradio-client==1.5.4 in c:\\users\\migue\\anaconda3\\lib\\site-packages (from gradio->-r ../requirements.txt (line 10)) (1.5.4)\n",
      "Requirement already satisfied: httpx>=0.24.1 in c:\\users\\migue\\anaconda3\\lib\\site-packages (from gradio->-r ../requirements.txt (line 10)) (0.26.0)\n",
      "Requirement already satisfied: huggingface-hub>=0.25.1 in c:\\users\\migue\\anaconda3\\lib\\site-packages (from gradio->-r ../requirements.txt (line 10)) (0.27.1)\n",
      "Requirement already satisfied: markupsafe~=2.0 in c:\\users\\migue\\anaconda3\\lib\\site-packages (from gradio->-r ../requirements.txt (line 10)) (2.1.3)\n",
      "Requirement already satisfied: orjson~=3.0 in c:\\users\\migue\\anaconda3\\lib\\site-packages (from gradio->-r ../requirements.txt (line 10)) (3.10.14)\n",
      "Requirement already satisfied: pydub in c:\\users\\migue\\anaconda3\\lib\\site-packages (from gradio->-r ../requirements.txt (line 10)) (0.25.1)\n",
      "Requirement already satisfied: python-multipart>=0.0.18 in c:\\users\\migue\\anaconda3\\lib\\site-packages (from gradio->-r ../requirements.txt (line 10)) (0.0.20)\n",
      "Requirement already satisfied: ruff>=0.2.2 in c:\\users\\migue\\anaconda3\\lib\\site-packages (from gradio->-r ../requirements.txt (line 10)) (0.9.2)\n",
      "Requirement already satisfied: safehttpx<0.2.0,>=0.1.6 in c:\\users\\migue\\anaconda3\\lib\\site-packages (from gradio->-r ../requirements.txt (line 10)) (0.1.6)\n",
      "Requirement already satisfied: semantic-version~=2.0 in c:\\users\\migue\\anaconda3\\lib\\site-packages (from gradio->-r ../requirements.txt (line 10)) (2.10.0)\n",
      "Requirement already satisfied: starlette<1.0,>=0.40.0 in c:\\users\\migue\\anaconda3\\lib\\site-packages (from gradio->-r ../requirements.txt (line 10)) (0.41.3)\n",
      "Requirement already satisfied: tomlkit<0.14.0,>=0.12.0 in c:\\users\\migue\\anaconda3\\lib\\site-packages (from gradio->-r ../requirements.txt (line 10)) (0.13.2)\n",
      "Requirement already satisfied: uvicorn>=0.14.0 in c:\\users\\migue\\anaconda3\\lib\\site-packages (from gradio->-r ../requirements.txt (line 10)) (0.34.0)\n",
      "Requirement already satisfied: fsspec in c:\\users\\migue\\anaconda3\\lib\\site-packages (from gradio-client==1.5.4->gradio->-r ../requirements.txt (line 10)) (2024.3.1)\n",
      "Requirement already satisfied: websockets<15.0,>=10.0 in c:\\users\\migue\\anaconda3\\lib\\site-packages (from gradio-client==1.5.4->gradio->-r ../requirements.txt (line 10)) (14.1)\n",
      "Requirement already satisfied: sniffio>=1.1 in c:\\users\\migue\\anaconda3\\lib\\site-packages (from anyio<5.0,>=3.0->gradio->-r ../requirements.txt (line 10)) (1.3.0)\n",
      "Requirement already satisfied: colorama in c:\\users\\migue\\appdata\\roaming\\python\\python311\\site-packages (from click!=8.0.0,>=7.1->wandb->-r ../requirements.txt (line 5)) (0.4.6)\n",
      "Requirement already satisfied: gitdb<5,>=4.0.1 in c:\\users\\migue\\anaconda3\\lib\\site-packages (from gitpython!=3.1.29,>=1.0.0->wandb->-r ../requirements.txt (line 5)) (4.0.11)\n",
      "Requirement already satisfied: httpcore==1.* in c:\\users\\migue\\anaconda3\\lib\\site-packages (from httpx>=0.24.1->gradio->-r ../requirements.txt (line 10)) (1.0.2)\n",
      "Requirement already satisfied: h11<0.15,>=0.13 in c:\\users\\migue\\anaconda3\\lib\\site-packages (from httpcore==1.*->httpx>=0.24.1->gradio->-r ../requirements.txt (line 10)) (0.14.0)\n",
      "Requirement already satisfied: language-data>=1.2 in c:\\users\\migue\\anaconda3\\lib\\site-packages (from langcodes<4.0.0,>=3.2.0->spacy->-r ../requirements.txt (line 9)) (1.3.0)\n",
      "Requirement already satisfied: annotated-types>=0.4.0 in c:\\users\\migue\\anaconda3\\lib\\site-packages (from pydantic!=1.8,!=1.8.1,<3.0.0,>=1.7.4->spacy->-r ../requirements.txt (line 9)) (0.6.0)\n",
      "Requirement already satisfied: pydantic-core==2.14.6 in c:\\users\\migue\\anaconda3\\lib\\site-packages (from pydantic!=1.8,!=1.8.1,<3.0.0,>=1.7.4->spacy->-r ../requirements.txt (line 9)) (2.14.6)\n",
      "Requirement already satisfied: blis<1.3.0,>=1.2.0 in c:\\users\\migue\\anaconda3\\lib\\site-packages (from thinc<8.4.0,>=8.3.4->spacy->-r ../requirements.txt (line 9)) (1.2.0)\n",
      "Requirement already satisfied: confection<1.0.0,>=0.0.1 in c:\\users\\migue\\anaconda3\\lib\\site-packages (from thinc<8.4.0,>=8.3.4->spacy->-r ../requirements.txt (line 9)) (0.1.5)\n",
      "Requirement already satisfied: shellingham>=1.3.0 in c:\\users\\migue\\anaconda3\\lib\\site-packages (from typer<1.0.0,>=0.3.0->spacy->-r ../requirements.txt (line 9)) (1.5.4)\n",
      "Requirement already satisfied: rich>=10.11.0 in c:\\users\\migue\\anaconda3\\lib\\site-packages (from typer<1.0.0,>=0.3.0->spacy->-r ../requirements.txt (line 9)) (13.3.5)\n",
      "Requirement already satisfied: cloudpathlib<1.0.0,>=0.7.0 in c:\\users\\migue\\anaconda3\\lib\\site-packages (from weasel<0.5.0,>=0.1.0->spacy->-r ../requirements.txt (line 9)) (0.20.0)\n",
      "Requirement already satisfied: smart-open<8.0.0,>=5.2.1 in c:\\users\\migue\\anaconda3\\lib\\site-packages (from weasel<0.5.0,>=0.1.0->spacy->-r ../requirements.txt (line 9)) (5.2.1)\n",
      "Requirement already satisfied: soupsieve>1.2 in c:\\users\\migue\\anaconda3\\lib\\site-packages (from beautifulsoup4->gdown->-r ../requirements.txt (line 1)) (2.5)\n",
      "Requirement already satisfied: webencodings in c:\\users\\migue\\anaconda3\\lib\\site-packages (from bleach->kaggle->-r ../requirements.txt (line 6)) (0.5.1)\n",
      "Requirement already satisfied: text-unidecode>=1.3 in c:\\users\\migue\\anaconda3\\lib\\site-packages (from python-slugify->kaggle->-r ../requirements.txt (line 6)) (1.3)\n",
      "Requirement already satisfied: PySocks!=1.5.7,>=1.5.6 in c:\\users\\migue\\anaconda3\\lib\\site-packages (from requests[socks]->gdown->-r ../requirements.txt (line 1)) (1.7.1)\n",
      "Requirement already satisfied: smmap<6,>=3.0.1 in c:\\users\\migue\\anaconda3\\lib\\site-packages (from gitdb<5,>=4.0.1->gitpython!=3.1.29,>=1.0.0->wandb->-r ../requirements.txt (line 5)) (5.0.1)\n",
      "Requirement already satisfied: marisa-trie>=1.1.0 in c:\\users\\migue\\anaconda3\\lib\\site-packages (from language-data>=1.2->langcodes<4.0.0,>=3.2.0->spacy->-r ../requirements.txt (line 9)) (1.2.1)\n",
      "Requirement already satisfied: markdown-it-py<3.0.0,>=2.2.0 in c:\\users\\migue\\anaconda3\\lib\\site-packages (from rich>=10.11.0->typer<1.0.0,>=0.3.0->spacy->-r ../requirements.txt (line 9)) (2.2.0)\n",
      "Requirement already satisfied: pygments<3.0.0,>=2.13.0 in c:\\users\\migue\\appdata\\roaming\\python\\python311\\site-packages (from rich>=10.11.0->typer<1.0.0,>=0.3.0->spacy->-r ../requirements.txt (line 9)) (2.16.1)\n",
      "Requirement already satisfied: mdurl~=0.1 in c:\\users\\migue\\anaconda3\\lib\\site-packages (from markdown-it-py<3.0.0,>=2.2.0->rich>=10.11.0->typer<1.0.0,>=0.3.0->spacy->-r ../requirements.txt (line 9)) (0.1.0)\n",
      "Note: you may need to restart the kernel to use updated packages.\n"
     ]
    }
   ],
   "source": [
    "%pip install -r ../requirements.txt"
   ]
  },
  {
   "cell_type": "code",
   "execution_count": 25,
   "metadata": {},
   "outputs": [],
   "source": [
    "import pandas as pd\n",
    "import numpy as np\n",
    "import re\n",
    "from sklearn.pipeline import Pipeline # Pipeline applies a list of transforms. You can also add an estimator at the end, so it will be completely encapsulated.\n",
    "from sklearn.preprocessing import FunctionTransformer # FunctionTransformer allows to apply an arbitrary function to the data, so we can use it in the pipeline\n",
    "from sklearn.model_selection import train_test_split\n",
    "from imblearn.under_sampling import RandomUnderSampler\n",
    "import unicodedata\n",
    "import spacy\n",
    "from typing import List"
   ]
  },
  {
   "cell_type": "code",
   "execution_count": 2,
   "metadata": {},
   "outputs": [],
   "source": [
    "path = \"../data/inter/train_drcat_\""
   ]
  },
  {
   "cell_type": "code",
   "execution_count": 3,
   "metadata": {},
   "outputs": [],
   "source": [
    "drcat_01 = pd.read_csv(path + \"01.csv\")\n",
    "drcat_02 = pd.read_csv(path + \"02.csv\")\n",
    "drcat_03 = pd.read_csv(path + \"03.csv\")\n",
    "drcat_04 = pd.read_csv(path + \"04.csv\")"
   ]
  },
  {
   "cell_type": "code",
   "execution_count": 4,
   "metadata": {},
   "outputs": [
    {
     "data": {
      "text/html": [
       "<div>\n",
       "<style scoped>\n",
       "    .dataframe tbody tr th:only-of-type {\n",
       "        vertical-align: middle;\n",
       "    }\n",
       "\n",
       "    .dataframe tbody tr th {\n",
       "        vertical-align: top;\n",
       "    }\n",
       "\n",
       "    .dataframe thead th {\n",
       "        text-align: right;\n",
       "    }\n",
       "</style>\n",
       "<table border=\"1\" class=\"dataframe\">\n",
       "  <thead>\n",
       "    <tr style=\"text-align: right;\">\n",
       "      <th></th>\n",
       "      <th>text</th>\n",
       "      <th>label</th>\n",
       "      <th>source</th>\n",
       "      <th>fold</th>\n",
       "    </tr>\n",
       "  </thead>\n",
       "  <tbody>\n",
       "    <tr>\n",
       "      <th>0</th>\n",
       "      <td>There are alot reasons to keep our the despise...</td>\n",
       "      <td>0</td>\n",
       "      <td>persuade_corpus</td>\n",
       "      <td>2</td>\n",
       "    </tr>\n",
       "    <tr>\n",
       "      <th>1</th>\n",
       "      <td>Driving smart cars that drive by themself has ...</td>\n",
       "      <td>0</td>\n",
       "      <td>persuade_corpus</td>\n",
       "      <td>4</td>\n",
       "    </tr>\n",
       "    <tr>\n",
       "      <th>2</th>\n",
       "      <td>Dear Principal,\\n\\nI believe that students at ...</td>\n",
       "      <td>0</td>\n",
       "      <td>persuade_corpus</td>\n",
       "      <td>0</td>\n",
       "    </tr>\n",
       "    <tr>\n",
       "      <th>3</th>\n",
       "      <td>Dear Principal,\\n\\nCommunity service should no...</td>\n",
       "      <td>0</td>\n",
       "      <td>persuade_corpus</td>\n",
       "      <td>0</td>\n",
       "    </tr>\n",
       "    <tr>\n",
       "      <th>4</th>\n",
       "      <td>My argument for the development of the driverl...</td>\n",
       "      <td>0</td>\n",
       "      <td>persuade_corpus</td>\n",
       "      <td>3</td>\n",
       "    </tr>\n",
       "  </tbody>\n",
       "</table>\n",
       "</div>"
      ],
      "text/plain": [
       "                                                text  label           source  \\\n",
       "0  There are alot reasons to keep our the despise...      0  persuade_corpus   \n",
       "1  Driving smart cars that drive by themself has ...      0  persuade_corpus   \n",
       "2  Dear Principal,\\n\\nI believe that students at ...      0  persuade_corpus   \n",
       "3  Dear Principal,\\n\\nCommunity service should no...      0  persuade_corpus   \n",
       "4  My argument for the development of the driverl...      0  persuade_corpus   \n",
       "\n",
       "   fold  \n",
       "0     2  \n",
       "1     4  \n",
       "2     0  \n",
       "3     0  \n",
       "4     3  "
      ]
     },
     "execution_count": 4,
     "metadata": {},
     "output_type": "execute_result"
    }
   ],
   "source": [
    "drcat_01.head()"
   ]
  },
  {
   "cell_type": "markdown",
   "metadata": {},
   "source": [
    "## Preprocessing data"
   ]
  },
  {
   "cell_type": "code",
   "execution_count": 5,
   "metadata": {},
   "outputs": [
    {
     "name": "stdout",
     "output_type": "stream",
     "text": [
      "Collecting en-core-web-sm==3.8.0\n",
      "  Downloading https://github.com/explosion/spacy-models/releases/download/en_core_web_sm-3.8.0/en_core_web_sm-3.8.0-py3-none-any.whl (12.8 MB)\n",
      "     ---------------------------------------- 0.0/12.8 MB ? eta -:--:--\n",
      "     --------------------------------------- 0.0/12.8 MB 330.3 kB/s eta 0:00:39\n",
      "     --------------------------------------- 0.1/12.8 MB 656.4 kB/s eta 0:00:20\n",
      "     - -------------------------------------- 0.6/12.8 MB 4.8 MB/s eta 0:00:03\n",
      "     ---- ----------------------------------- 1.5/12.8 MB 8.9 MB/s eta 0:00:02\n",
      "     -------- ------------------------------- 2.7/12.8 MB 12.4 MB/s eta 0:00:01\n",
      "     ------------- -------------------------- 4.2/12.8 MB 15.8 MB/s eta 0:00:01\n",
      "     ------------------- -------------------- 6.3/12.8 MB 20.1 MB/s eta 0:00:01\n",
      "     --------------------------- ------------ 8.9/12.8 MB 24.7 MB/s eta 0:00:01\n",
      "     ------------------------------- ------- 10.5/12.8 MB 36.4 MB/s eta 0:00:01\n",
      "     --------------------------------- ----- 10.9/12.8 MB 31.2 MB/s eta 0:00:01\n",
      "     --------------------------------------  12.8/12.8 MB 38.5 MB/s eta 0:00:01\n",
      "     --------------------------------------  12.8/12.8 MB 38.5 MB/s eta 0:00:01\n",
      "     --------------------------------------  12.8/12.8 MB 38.5 MB/s eta 0:00:01\n",
      "     --------------------------------------  12.8/12.8 MB 38.5 MB/s eta 0:00:01\n",
      "     --------------------------------------  12.8/12.8 MB 38.5 MB/s eta 0:00:01\n",
      "     --------------------------------------  12.8/12.8 MB 38.5 MB/s eta 0:00:01\n",
      "     --------------------------------------  12.8/12.8 MB 38.5 MB/s eta 0:00:01\n",
      "     --------------------------------------  12.8/12.8 MB 38.5 MB/s eta 0:00:01\n",
      "     --------------------------------------  12.8/12.8 MB 38.5 MB/s eta 0:00:01\n",
      "     --------------------------------------  12.8/12.8 MB 38.5 MB/s eta 0:00:01\n",
      "     --------------------------------------  12.8/12.8 MB 38.5 MB/s eta 0:00:01\n",
      "     --------------------------------------  12.8/12.8 MB 38.5 MB/s eta 0:00:01\n",
      "     --------------------------------------  12.8/12.8 MB 38.5 MB/s eta 0:00:01\n",
      "     --------------------------------------  12.8/12.8 MB 38.5 MB/s eta 0:00:01\n",
      "     --------------------------------------  12.8/12.8 MB 38.5 MB/s eta 0:00:01\n",
      "     --------------------------------------  12.8/12.8 MB 38.5 MB/s eta 0:00:01\n",
      "     ---------------------------------------- 12.8/12.8 MB 9.9 MB/s eta 0:00:00\n",
      "Installing collected packages: en-core-web-sm\n",
      "Successfully installed en-core-web-sm-3.8.0\n",
      "\u001b[38;5;2m✔ Download and installation successful\u001b[0m\n",
      "You can now load the package via spacy.load('en_core_web_sm')\n"
     ]
    }
   ],
   "source": [
    "!python -m spacy download en_core_web_sm\n"
   ]
  },
  {
   "cell_type": "code",
   "execution_count": 6,
   "metadata": {},
   "outputs": [],
   "source": [
    "def remove_excessive_spaces(text: str) -> str:\n",
    "    \"\"\"\n",
    "    This function removes excessive spaces from the text.\n",
    "\n",
    "    Args:\n",
    "        text (str): The input text.\n",
    "\n",
    "    Returns:\n",
    "        str: The text with excessive spaces removed.\n",
    "    \"\"\"\n",
    "    return re.sub(r'\\s+', ' ', text).strip() \n",
    "\n",
    "def remove_repeated_non_word_characters(text: str) -> str:\n",
    "    \"\"\"\n",
    "    This function removes repeated non-word characters from the text.\n",
    "\n",
    "    Args:\n",
    "        text (str): The input text.\n",
    "\n",
    "    Returns:\n",
    "        str: The text with repeated non-word characters removed.\n",
    "    \"\"\"\n",
    "    return re.sub(r'(\\W)\\1+', r'\\1', text).strip()\n",
    "\n",
    "def remove_first_line_from_text(text: str) -> str:\n",
    "    \"\"\"\n",
    "    This function removes the first line from the text.\n",
    "\n",
    "    Args:\n",
    "        text (str): The input text.\n",
    "\n",
    "    Returns:\n",
    "        str: The text with the first line removed.\n",
    "    \"\"\"\n",
    "    return re.sub(r'^.*\\n', '', text).strip()\n",
    "\n",
    "def remove_last_line_from_text(text: str) -> str:\n",
    "    \"\"\"\n",
    "    This function removes the last line from the text.\n",
    "\n",
    "    Args:\n",
    "        text (str): The input text.\n",
    "\n",
    "    Returns:\n",
    "        str: The text with the last line removed.\n",
    "    \"\"\"\n",
    "    return re.sub(r'\\n.*$', '', text).strip()\n",
    "\n",
    "def fix_isolated_commas_in_text(text: str) -> str:\n",
    "    \"\"\"\n",
    "    This function fixes isolated commas in the text.\n",
    "\n",
    "    Args:\n",
    "        text (str): The input text.\n",
    "\n",
    "    Returns:\n",
    "        str: The text with isolated commas fixed.\n",
    "    \"\"\"\n",
    "    text = re.sub(r' ([.,:;!?])', r'\\1', text)\n",
    "    return text.strip()\n",
    "\n",
    "def keep_words_longer_than(text: str, min_length: int = 2) -> str:\n",
    "    \"\"\"\n",
    "    This function keeps only the words in the text that are longer than a given length.\n",
    "\n",
    "    Args:\n",
    "        text (str): The input text.\n",
    "        min_length (int, optional): The minimum length of the words to keep. Defaults to 2.\n",
    "\n",
    "    Returns:\n",
    "        str: The text with only the words longer than the given length.\n",
    "    \"\"\"\n",
    "    return ' '.join([word for word in text.split() if len(word) > min_length])\n",
    "\n",
    "def keep_only_alphabet_characters(text: str) -> str:\n",
    "    \"\"\"\n",
    "    This function keeps only the alphabet characters in the text.\n",
    "\n",
    "    Args:\n",
    "        text (str): The input text.\n",
    "\n",
    "    Returns:\n",
    "        str: The text with only the alphabet characters.\n",
    "    \"\"\"\n",
    "    return re.sub(r'[^a-zA-Z]', ' ', text).strip()\n",
    "\n",
    "def remove_accents_from_text(text: str) -> str:\n",
    "    \"\"\"\n",
    "    This function removes accents from the text.\n",
    "\n",
    "    Args:\n",
    "        text (str): The input text.\n",
    "\n",
    "    Returns:\n",
    "        str: The text with accents removed.\n",
    "    \"\"\"\n",
    "    return unicodedata.normalize('NFKD', text).encode('ASCII', 'ignore').decode('ASCII')\n",
    "\n",
    "def lemmatize_text_with_spacy(text: str) -> str:\n",
    "    \"\"\"\n",
    "    This function lemmatizes the text using the Spacy library.\n",
    "\n",
    "    Args:\n",
    "        text (str): The input text.\n",
    "\n",
    "    Returns:\n",
    "        str: The lemmatized text.\n",
    "    \"\"\"\n",
    "    doc = nlp_spacy(text)\n",
    "    return ' '.join([token.lemma_ for token in doc])\n",
    "\n",
    "\n",
    "pipeline_clean_text = Pipeline([\n",
    "    ('remove_first_line_from_text', FunctionTransformer(remove_first_line_from_text)),\n",
    "    ('remove_last_line_from_text', FunctionTransformer(remove_last_line_from_text)),\n",
    "    ('remove_excessive_spaces', FunctionTransformer(remove_excessive_spaces)),\n",
    "    ('remove_repeated_non_word_characters', FunctionTransformer(remove_repeated_non_word_characters)),\n",
    "    ('fix_isolated_commas_in_text', FunctionTransformer(fix_isolated_commas_in_text)),\n",
    "])\n",
    "\n",
    "nlp_spacy = spacy.load('en_core_web_sm')"
   ]
  },
  {
   "cell_type": "code",
   "execution_count": 7,
   "metadata": {},
   "outputs": [],
   "source": [
    "drcat_01['clean_text'] = drcat_01['text'].apply(pipeline_clean_text.transform)\n",
    "drcat_02['clean_text'] = drcat_02['text'].apply(pipeline_clean_text.transform)\n",
    "drcat_03['clean_text'] = drcat_03['text'].apply(pipeline_clean_text.transform)\n",
    "drcat_04['clean_text'] = drcat_04['text'].apply(pipeline_clean_text.transform)"
   ]
  },
  {
   "cell_type": "markdown",
   "metadata": {},
   "source": [
    "Merge data into one dataframe"
   ]
  },
  {
   "cell_type": "code",
   "execution_count": 8,
   "metadata": {},
   "outputs": [],
   "source": [
    "df = pd.concat([drcat_01, drcat_02, drcat_03, drcat_04], axis=0, ignore_index=True)\n",
    "df = df.drop(columns=['essay_id','source','fold'])\n",
    "df = df.drop_duplicates()"
   ]
  },
  {
   "cell_type": "code",
   "execution_count": 11,
   "metadata": {},
   "outputs": [
    {
     "data": {
      "text/plain": [
       "label\n",
       "0    29792\n",
       "1    19256\n",
       "Name: count, dtype: int64"
      ]
     },
     "execution_count": 11,
     "metadata": {},
     "output_type": "execute_result"
    }
   ],
   "source": [
    "df.label.value_counts()"
   ]
  },
  {
   "cell_type": "code",
   "execution_count": 15,
   "metadata": {},
   "outputs": [
    {
     "data": {
      "text/plain": [
       "Index(['text', 'label', 'clean_text', 'prompt'], dtype='object')"
      ]
     },
     "execution_count": 15,
     "metadata": {},
     "output_type": "execute_result"
    }
   ],
   "source": [
    "df.columns"
   ]
  },
  {
   "cell_type": "code",
   "execution_count": 17,
   "metadata": {},
   "outputs": [
    {
     "data": {
      "text/html": [
       "<div>\n",
       "<style scoped>\n",
       "    .dataframe tbody tr th:only-of-type {\n",
       "        vertical-align: middle;\n",
       "    }\n",
       "\n",
       "    .dataframe tbody tr th {\n",
       "        vertical-align: top;\n",
       "    }\n",
       "\n",
       "    .dataframe thead th {\n",
       "        text-align: right;\n",
       "    }\n",
       "</style>\n",
       "<table border=\"1\" class=\"dataframe\">\n",
       "  <thead>\n",
       "    <tr style=\"text-align: right;\">\n",
       "      <th></th>\n",
       "      <th>label</th>\n",
       "      <th>clean_text</th>\n",
       "    </tr>\n",
       "  </thead>\n",
       "  <tbody>\n",
       "    <tr>\n",
       "      <th>0</th>\n",
       "      <td>0</td>\n",
       "      <td>Another reason is that the Electiral College r...</td>\n",
       "    </tr>\n",
       "    <tr>\n",
       "      <th>1</th>\n",
       "      <td>0</td>\n",
       "      <td>First let's start off with the pros of having ...</td>\n",
       "    </tr>\n",
       "    <tr>\n",
       "      <th>2</th>\n",
       "      <td>0</td>\n",
       "      <td>I believe that students at school should not b...</td>\n",
       "    </tr>\n",
       "    <tr>\n",
       "      <th>3</th>\n",
       "      <td>0</td>\n",
       "      <td>Community service should not be required by al...</td>\n",
       "    </tr>\n",
       "    <tr>\n",
       "      <th>4</th>\n",
       "      <td>0</td>\n",
       "      <td>First of all, the diverless cars will help ton...</td>\n",
       "    </tr>\n",
       "    <tr>\n",
       "      <th>...</th>\n",
       "      <td>...</td>\n",
       "      <td>...</td>\n",
       "    </tr>\n",
       "    <tr>\n",
       "      <th>159394</th>\n",
       "      <td>1</td>\n",
       "      <td>Seeking advice from more than one person when ...</td>\n",
       "    </tr>\n",
       "    <tr>\n",
       "      <th>159410</th>\n",
       "      <td>1</td>\n",
       "      <td>On one hand, this technology could help teache...</td>\n",
       "    </tr>\n",
       "    <tr>\n",
       "      <th>159412</th>\n",
       "      <td>1</td>\n",
       "      <td>The opportunity to travel the world while work...</td>\n",
       "    </tr>\n",
       "    <tr>\n",
       "      <th>159413</th>\n",
       "      <td>1</td>\n",
       "      <td>I am writing to you regarding the proposal to ...</td>\n",
       "    </tr>\n",
       "    <tr>\n",
       "      <th>159447</th>\n",
       "      <td>1</td>\n",
       "      <td>It started with learning the basics of sailing...</td>\n",
       "    </tr>\n",
       "  </tbody>\n",
       "</table>\n",
       "<p>49048 rows × 2 columns</p>\n",
       "</div>"
      ],
      "text/plain": [
       "        label                                         clean_text\n",
       "0           0  Another reason is that the Electiral College r...\n",
       "1           0  First let's start off with the pros of having ...\n",
       "2           0  I believe that students at school should not b...\n",
       "3           0  Community service should not be required by al...\n",
       "4           0  First of all, the diverless cars will help ton...\n",
       "...       ...                                                ...\n",
       "159394      1  Seeking advice from more than one person when ...\n",
       "159410      1  On one hand, this technology could help teache...\n",
       "159412      1  The opportunity to travel the world while work...\n",
       "159413      1  I am writing to you regarding the proposal to ...\n",
       "159447      1  It started with learning the basics of sailing...\n",
       "\n",
       "[49048 rows x 2 columns]"
      ]
     },
     "execution_count": 17,
     "metadata": {},
     "output_type": "execute_result"
    }
   ],
   "source": [
    "df.drop(columns=['text', 'prompt'], inplace=True)\n",
    "df"
   ]
  },
  {
   "cell_type": "markdown",
   "metadata": {},
   "source": [
    "## Data spliting"
   ]
  },
  {
   "cell_type": "code",
   "execution_count": 29,
   "metadata": {},
   "outputs": [],
   "source": [
    "X, y = df.clean_text.values, df.label"
   ]
  },
  {
   "cell_type": "markdown",
   "metadata": {},
   "source": [
    "Balancing data"
   ]
  },
  {
   "cell_type": "code",
   "execution_count": 33,
   "metadata": {},
   "outputs": [
    {
     "data": {
      "text/plain": [
       "label\n",
       "0    19256\n",
       "1    19256\n",
       "Name: count, dtype: int64"
      ]
     },
     "execution_count": 33,
     "metadata": {},
     "output_type": "execute_result"
    }
   ],
   "source": [
    "sampler = RandomUnderSampler(random_state=42, sampling_strategy='majority')\n",
    "\n",
    "X_balanced, y_balanced = sampler.fit_resample(X.reshape(-1, 1), y)\n",
    "y_balanced.value_counts() # Balanced data"
   ]
  },
  {
   "cell_type": "code",
   "execution_count": 31,
   "metadata": {},
   "outputs": [],
   "source": [
    "X_train, X_test, y_train, y_test = train_test_split(X_balanced, y_balanced, random_state=42)"
   ]
  },
  {
   "cell_type": "markdown",
   "metadata": {},
   "source": [
    "## Weights and Biases"
   ]
  },
  {
   "cell_type": "code",
   "execution_count": 34,
   "metadata": {},
   "outputs": [],
   "source": [
    "import wandb\n",
    "\n",
    "import params"
   ]
  },
  {
   "cell_type": "code",
   "execution_count": 35,
   "metadata": {},
   "outputs": [
    {
     "name": "stderr",
     "output_type": "stream",
     "text": [
      "wandb: Currently logged in as: pedro_miguel (pedro_miguel-universidade-federal-do-rio-grande-do-norte). Use `wandb login --relogin` to force relogin\n"
     ]
    }
   ],
   "source": [
    "!wandb login"
   ]
  },
  {
   "cell_type": "code",
   "execution_count": 36,
   "metadata": {},
   "outputs": [
    {
     "name": "stderr",
     "output_type": "stream",
     "text": [
      "wandb: Using wandb-core as the SDK backend.  Please refer to https://wandb.me/wandb-core for more information.\n",
      "wandb: Currently logged in as: pedro_miguel (pedro_miguel-universidade-federal-do-rio-grande-do-norte). Use `wandb login --relogin` to force relogin\n"
     ]
    },
    {
     "data": {
      "text/html": [
       "Tracking run with wandb version 0.18.7"
      ],
      "text/plain": [
       "<IPython.core.display.HTML object>"
      ]
     },
     "metadata": {},
     "output_type": "display_data"
    },
    {
     "data": {
      "text/html": [
       "Run data is saved locally in <code>e:\\Codes\\uf\\ml_ops\\DetectEssay\\ai-text-recognition\\notebooks\\wandb\\run-20250117_202932-rqz3m22x</code>"
      ],
      "text/plain": [
       "<IPython.core.display.HTML object>"
      ]
     },
     "metadata": {},
     "output_type": "display_data"
    },
    {
     "data": {
      "text/html": [
       "Syncing run <strong><a href='https://wandb.ai/pedro_miguel-universidade-federal-do-rio-grande-do-norte/llm-detect/runs/rqz3m22x' target=\"_blank\">lemon-eon-3</a></strong> to <a href='https://wandb.ai/pedro_miguel-universidade-federal-do-rio-grande-do-norte/llm-detect' target=\"_blank\">Weights & Biases</a> (<a href='https://wandb.me/developer-guide' target=\"_blank\">docs</a>)<br/>"
      ],
      "text/plain": [
       "<IPython.core.display.HTML object>"
      ]
     },
     "metadata": {},
     "output_type": "display_data"
    },
    {
     "data": {
      "text/html": [
       " View project at <a href='https://wandb.ai/pedro_miguel-universidade-federal-do-rio-grande-do-norte/llm-detect' target=\"_blank\">https://wandb.ai/pedro_miguel-universidade-federal-do-rio-grande-do-norte/llm-detect</a>"
      ],
      "text/plain": [
       "<IPython.core.display.HTML object>"
      ]
     },
     "metadata": {},
     "output_type": "display_data"
    },
    {
     "data": {
      "text/html": [
       " View run at <a href='https://wandb.ai/pedro_miguel-universidade-federal-do-rio-grande-do-norte/llm-detect/runs/rqz3m22x' target=\"_blank\">https://wandb.ai/pedro_miguel-universidade-federal-do-rio-grande-do-norte/llm-detect/runs/rqz3m22x</a>"
      ],
      "text/plain": [
       "<IPython.core.display.HTML object>"
      ]
     },
     "metadata": {},
     "output_type": "display_data"
    },
    {
     "data": {
      "text/html": [
       "<button onClick=\"this.nextSibling.style.display='block';this.style.display='none';\">Display W&B run</button><iframe src='https://wandb.ai/pedro_miguel-universidade-federal-do-rio-grande-do-norte/llm-detect/runs/rqz3m22x?jupyter=true' style='border:none;width:100%;height:420px;display:none;'></iframe>"
      ],
      "text/plain": [
       "<wandb.sdk.wandb_run.Run at 0x21457310b50>"
      ]
     },
     "execution_count": 36,
     "metadata": {},
     "output_type": "execute_result"
    }
   ],
   "source": [
    "wandb.init(project=params.WANDB_PROJECT)"
   ]
  },
  {
   "cell_type": "code",
   "execution_count": 37,
   "metadata": {},
   "outputs": [],
   "source": [
    "external_raw_data_artifact = wandb.Artifact(\"daigt_proper_train_dataset\", type=\"raw\")\n",
    "external_dataset_artifact = wandb.Artifact(\"drcat_data\", type=\"dataset\")"
   ]
  },
  {
   "cell_type": "code",
   "execution_count": 39,
   "metadata": {},
   "outputs": [],
   "source": [
    "external_raw_data_artifact.add_file('../data/raw/daigt-proper-train-dataset.zip')\n",
    "\n",
    "for i in range(1, 5):\n",
    "    external_dataset_artifact.add_file(f'../data/inter/train_drcat_0{i}.csv')"
   ]
  },
  {
   "cell_type": "code",
   "execution_count": 40,
   "metadata": {},
   "outputs": [
    {
     "data": {
      "text/plain": [
       "<Artifact drcat_data>"
      ]
     },
     "execution_count": 40,
     "metadata": {},
     "output_type": "execute_result"
    }
   ],
   "source": [
    "wandb.log_artifact(external_raw_data_artifact)\n",
    "wandb.log_artifact(external_dataset_artifact)"
   ]
  },
  {
   "cell_type": "code",
   "execution_count": 41,
   "metadata": {},
   "outputs": [],
   "source": [
    "table = wandb.Table(dataframe=df)\n",
    "wandb.log({\"Cleaned and merged data\": table})"
   ]
  },
  {
   "cell_type": "code",
   "execution_count": 42,
   "metadata": {},
   "outputs": [
    {
     "data": {
      "application/vnd.jupyter.widget-view+json": {
       "model_id": "fd8e16358c6a4d09a2d947b9560e750e",
       "version_major": 2,
       "version_minor": 0
      },
      "text/plain": [
       "VBox(children=(Label(value='18.027 MB of 558.906 MB uploaded\\r'), FloatProgress(value=0.032253918262510485, ma…"
      ]
     },
     "metadata": {},
     "output_type": "display_data"
    },
    {
     "data": {
      "text/html": [
       " View run <strong style=\"color:#cdcd00\">lemon-eon-3</strong> at: <a href='https://wandb.ai/pedro_miguel-universidade-federal-do-rio-grande-do-norte/llm-detect/runs/rqz3m22x' target=\"_blank\">https://wandb.ai/pedro_miguel-universidade-federal-do-rio-grande-do-norte/llm-detect/runs/rqz3m22x</a><br/> View project at: <a href='https://wandb.ai/pedro_miguel-universidade-federal-do-rio-grande-do-norte/llm-detect' target=\"_blank\">https://wandb.ai/pedro_miguel-universidade-federal-do-rio-grande-do-norte/llm-detect</a><br/>Synced 4 W&B file(s), 0 media file(s), 12 artifact file(s) and 1 other file(s)"
      ],
      "text/plain": [
       "<IPython.core.display.HTML object>"
      ]
     },
     "metadata": {},
     "output_type": "display_data"
    },
    {
     "data": {
      "text/html": [
       "Find logs at: <code>.\\wandb\\run-20250117_202932-rqz3m22x\\logs</code>"
      ],
      "text/plain": [
       "<IPython.core.display.HTML object>"
      ]
     },
     "metadata": {},
     "output_type": "display_data"
    }
   ],
   "source": [
    "wandb.finish()"
   ]
  }
 ],
 "metadata": {
  "kernelspec": {
   "display_name": "base",
   "language": "python",
   "name": "python3"
  },
  "language_info": {
   "codemirror_mode": {
    "name": "ipython",
    "version": 3
   },
   "file_extension": ".py",
   "mimetype": "text/x-python",
   "name": "python",
   "nbconvert_exporter": "python",
   "pygments_lexer": "ipython3",
   "version": "3.11.5"
  }
 },
 "nbformat": 4,
 "nbformat_minor": 2
}
