{
 "cells": [
  {
   "cell_type": "code",
   "execution_count": 1,
   "metadata": {},
   "outputs": [
    {
     "name": "stdout",
     "output_type": "stream",
     "text": [
      "Requirement already satisfied: gdown in /home/carburauto/codes/uf/MLops/ai-text-recognition/venv/lib/python3.11/site-packages (from -r ../requirements.txt (line 1)) (5.2.0)\n",
      "Requirement already satisfied: numpy in /home/carburauto/codes/uf/MLops/ai-text-recognition/venv/lib/python3.11/site-packages (from -r ../requirements.txt (line 2)) (2.0.2)\n",
      "Requirement already satisfied: pandas in /home/carburauto/codes/uf/MLops/ai-text-recognition/venv/lib/python3.11/site-packages (from -r ../requirements.txt (line 3)) (2.2.3)\n",
      "Requirement already satisfied: matplotlib in /home/carburauto/codes/uf/MLops/ai-text-recognition/venv/lib/python3.11/site-packages (from -r ../requirements.txt (line 4)) (3.10.0)\n",
      "Requirement already satisfied: wandb in /home/carburauto/codes/uf/MLops/ai-text-recognition/venv/lib/python3.11/site-packages (from -r ../requirements.txt (line 5)) (0.19.4)\n",
      "Requirement already satisfied: kaggle in /home/carburauto/codes/uf/MLops/ai-text-recognition/venv/lib/python3.11/site-packages (from -r ../requirements.txt (line 6)) (1.6.17)\n",
      "Requirement already satisfied: requests in /home/carburauto/codes/uf/MLops/ai-text-recognition/venv/lib/python3.11/site-packages (from -r ../requirements.txt (line 7)) (2.32.3)\n",
      "Requirement already satisfied: scikit-learn in /home/carburauto/codes/uf/MLops/ai-text-recognition/venv/lib/python3.11/site-packages (from -r ../requirements.txt (line 8)) (1.6.1)\n",
      "Requirement already satisfied: spacy in /home/carburauto/codes/uf/MLops/ai-text-recognition/venv/lib/python3.11/site-packages (from -r ../requirements.txt (line 9)) (3.8.4)\n",
      "Requirement already satisfied: gradio in /home/carburauto/codes/uf/MLops/ai-text-recognition/venv/lib/python3.11/site-packages (from -r ../requirements.txt (line 10)) (5.12.0)\n",
      "Requirement already satisfied: tensorflow in /home/carburauto/codes/uf/MLops/ai-text-recognition/venv/lib/python3.11/site-packages (from -r ../requirements.txt (line 11)) (2.18.0)\n",
      "Collecting argparse\n",
      "  Using cached argparse-1.4.0-py2.py3-none-any.whl (23 kB)\n",
      "Requirement already satisfied: transformers in /home/carburauto/codes/uf/MLops/ai-text-recognition/venv/lib/python3.11/site-packages (from -r ../requirements.txt (line 13)) (4.48.0)\n",
      "Requirement already satisfied: torch in /home/carburauto/codes/uf/MLops/ai-text-recognition/venv/lib/python3.11/site-packages (from -r ../requirements.txt (line 14)) (2.5.1)\n",
      "Requirement already satisfied: seaborn in /home/carburauto/codes/uf/MLops/ai-text-recognition/venv/lib/python3.11/site-packages (from -r ../requirements.txt (line 15)) (0.13.2)\n",
      "Requirement already satisfied: beautifulsoup4 in /home/carburauto/codes/uf/MLops/ai-text-recognition/venv/lib/python3.11/site-packages (from gdown->-r ../requirements.txt (line 1)) (4.12.3)\n",
      "Requirement already satisfied: filelock in /home/carburauto/codes/uf/MLops/ai-text-recognition/venv/lib/python3.11/site-packages (from gdown->-r ../requirements.txt (line 1)) (3.16.1)\n",
      "Requirement already satisfied: tqdm in /home/carburauto/codes/uf/MLops/ai-text-recognition/venv/lib/python3.11/site-packages (from gdown->-r ../requirements.txt (line 1)) (4.67.1)\n",
      "Requirement already satisfied: python-dateutil>=2.8.2 in /home/carburauto/codes/uf/MLops/ai-text-recognition/venv/lib/python3.11/site-packages (from pandas->-r ../requirements.txt (line 3)) (2.9.0.post0)\n",
      "Requirement already satisfied: pytz>=2020.1 in /home/carburauto/codes/uf/MLops/ai-text-recognition/venv/lib/python3.11/site-packages (from pandas->-r ../requirements.txt (line 3)) (2024.2)\n",
      "Requirement already satisfied: tzdata>=2022.7 in /home/carburauto/codes/uf/MLops/ai-text-recognition/venv/lib/python3.11/site-packages (from pandas->-r ../requirements.txt (line 3)) (2024.2)\n",
      "Requirement already satisfied: contourpy>=1.0.1 in /home/carburauto/codes/uf/MLops/ai-text-recognition/venv/lib/python3.11/site-packages (from matplotlib->-r ../requirements.txt (line 4)) (1.3.1)\n",
      "Requirement already satisfied: cycler>=0.10 in /home/carburauto/codes/uf/MLops/ai-text-recognition/venv/lib/python3.11/site-packages (from matplotlib->-r ../requirements.txt (line 4)) (0.12.1)\n",
      "Requirement already satisfied: fonttools>=4.22.0 in /home/carburauto/codes/uf/MLops/ai-text-recognition/venv/lib/python3.11/site-packages (from matplotlib->-r ../requirements.txt (line 4)) (4.55.3)\n",
      "Requirement already satisfied: kiwisolver>=1.3.1 in /home/carburauto/codes/uf/MLops/ai-text-recognition/venv/lib/python3.11/site-packages (from matplotlib->-r ../requirements.txt (line 4)) (1.4.8)\n",
      "Requirement already satisfied: packaging>=20.0 in /home/carburauto/codes/uf/MLops/ai-text-recognition/venv/lib/python3.11/site-packages (from matplotlib->-r ../requirements.txt (line 4)) (24.2)\n",
      "Requirement already satisfied: pillow>=8 in /home/carburauto/codes/uf/MLops/ai-text-recognition/venv/lib/python3.11/site-packages (from matplotlib->-r ../requirements.txt (line 4)) (11.1.0)\n",
      "Requirement already satisfied: pyparsing>=2.3.1 in /home/carburauto/codes/uf/MLops/ai-text-recognition/venv/lib/python3.11/site-packages (from matplotlib->-r ../requirements.txt (line 4)) (3.2.1)\n",
      "Requirement already satisfied: click!=8.0.0,>=7.1 in /home/carburauto/codes/uf/MLops/ai-text-recognition/venv/lib/python3.11/site-packages (from wandb->-r ../requirements.txt (line 5)) (8.1.8)\n",
      "Requirement already satisfied: docker-pycreds>=0.4.0 in /home/carburauto/codes/uf/MLops/ai-text-recognition/venv/lib/python3.11/site-packages (from wandb->-r ../requirements.txt (line 5)) (0.4.0)\n",
      "Requirement already satisfied: gitpython!=3.1.29,>=1.0.0 in /home/carburauto/codes/uf/MLops/ai-text-recognition/venv/lib/python3.11/site-packages (from wandb->-r ../requirements.txt (line 5)) (3.1.44)\n",
      "Requirement already satisfied: platformdirs in /home/carburauto/codes/uf/MLops/ai-text-recognition/venv/lib/python3.11/site-packages (from wandb->-r ../requirements.txt (line 5)) (4.3.6)\n",
      "Requirement already satisfied: protobuf!=4.21.0,!=5.28.0,<6,>=3.19.0 in /home/carburauto/codes/uf/MLops/ai-text-recognition/venv/lib/python3.11/site-packages (from wandb->-r ../requirements.txt (line 5)) (5.29.3)\n",
      "Requirement already satisfied: psutil>=5.0.0 in /home/carburauto/codes/uf/MLops/ai-text-recognition/venv/lib/python3.11/site-packages (from wandb->-r ../requirements.txt (line 5)) (6.1.1)\n",
      "Requirement already satisfied: pydantic<3,>=2.6 in /home/carburauto/codes/uf/MLops/ai-text-recognition/venv/lib/python3.11/site-packages (from wandb->-r ../requirements.txt (line 5)) (2.10.5)\n",
      "Requirement already satisfied: pyyaml in /home/carburauto/codes/uf/MLops/ai-text-recognition/venv/lib/python3.11/site-packages (from wandb->-r ../requirements.txt (line 5)) (6.0.2)\n",
      "Requirement already satisfied: sentry-sdk>=2.0.0 in /home/carburauto/codes/uf/MLops/ai-text-recognition/venv/lib/python3.11/site-packages (from wandb->-r ../requirements.txt (line 5)) (2.20.0)\n",
      "Requirement already satisfied: setproctitle in /home/carburauto/codes/uf/MLops/ai-text-recognition/venv/lib/python3.11/site-packages (from wandb->-r ../requirements.txt (line 5)) (1.3.4)\n",
      "Requirement already satisfied: setuptools in /home/carburauto/codes/uf/MLops/ai-text-recognition/venv/lib/python3.11/site-packages (from wandb->-r ../requirements.txt (line 5)) (66.1.1)\n",
      "Requirement already satisfied: typing-extensions<5,>=4.4 in /home/carburauto/codes/uf/MLops/ai-text-recognition/venv/lib/python3.11/site-packages (from wandb->-r ../requirements.txt (line 5)) (4.12.2)\n",
      "Requirement already satisfied: bleach in /home/carburauto/codes/uf/MLops/ai-text-recognition/venv/lib/python3.11/site-packages (from kaggle->-r ../requirements.txt (line 6)) (6.2.0)\n",
      "Requirement already satisfied: certifi>=2023.7.22 in /home/carburauto/codes/uf/MLops/ai-text-recognition/venv/lib/python3.11/site-packages (from kaggle->-r ../requirements.txt (line 6)) (2024.12.14)\n",
      "Requirement already satisfied: python-slugify in /home/carburauto/codes/uf/MLops/ai-text-recognition/venv/lib/python3.11/site-packages (from kaggle->-r ../requirements.txt (line 6)) (8.0.4)\n",
      "Requirement already satisfied: six>=1.10 in /home/carburauto/codes/uf/MLops/ai-text-recognition/venv/lib/python3.11/site-packages (from kaggle->-r ../requirements.txt (line 6)) (1.17.0)\n",
      "Requirement already satisfied: urllib3 in /home/carburauto/codes/uf/MLops/ai-text-recognition/venv/lib/python3.11/site-packages (from kaggle->-r ../requirements.txt (line 6)) (2.3.0)\n",
      "Requirement already satisfied: charset-normalizer<4,>=2 in /home/carburauto/codes/uf/MLops/ai-text-recognition/venv/lib/python3.11/site-packages (from requests->-r ../requirements.txt (line 7)) (3.4.1)\n",
      "Requirement already satisfied: idna<4,>=2.5 in /home/carburauto/codes/uf/MLops/ai-text-recognition/venv/lib/python3.11/site-packages (from requests->-r ../requirements.txt (line 7)) (3.10)\n",
      "Requirement already satisfied: scipy>=1.6.0 in /home/carburauto/codes/uf/MLops/ai-text-recognition/venv/lib/python3.11/site-packages (from scikit-learn->-r ../requirements.txt (line 8)) (1.15.1)\n",
      "Requirement already satisfied: joblib>=1.2.0 in /home/carburauto/codes/uf/MLops/ai-text-recognition/venv/lib/python3.11/site-packages (from scikit-learn->-r ../requirements.txt (line 8)) (1.4.2)\n",
      "Requirement already satisfied: threadpoolctl>=3.1.0 in /home/carburauto/codes/uf/MLops/ai-text-recognition/venv/lib/python3.11/site-packages (from scikit-learn->-r ../requirements.txt (line 8)) (3.5.0)\n",
      "Requirement already satisfied: spacy-legacy<3.1.0,>=3.0.11 in /home/carburauto/codes/uf/MLops/ai-text-recognition/venv/lib/python3.11/site-packages (from spacy->-r ../requirements.txt (line 9)) (3.0.12)\n",
      "Requirement already satisfied: spacy-loggers<2.0.0,>=1.0.0 in /home/carburauto/codes/uf/MLops/ai-text-recognition/venv/lib/python3.11/site-packages (from spacy->-r ../requirements.txt (line 9)) (1.0.5)\n",
      "Requirement already satisfied: murmurhash<1.1.0,>=0.28.0 in /home/carburauto/codes/uf/MLops/ai-text-recognition/venv/lib/python3.11/site-packages (from spacy->-r ../requirements.txt (line 9)) (1.0.12)\n",
      "Requirement already satisfied: cymem<2.1.0,>=2.0.2 in /home/carburauto/codes/uf/MLops/ai-text-recognition/venv/lib/python3.11/site-packages (from spacy->-r ../requirements.txt (line 9)) (2.0.11)\n",
      "Requirement already satisfied: preshed<3.1.0,>=3.0.2 in /home/carburauto/codes/uf/MLops/ai-text-recognition/venv/lib/python3.11/site-packages (from spacy->-r ../requirements.txt (line 9)) (3.0.9)\n",
      "Requirement already satisfied: thinc<8.4.0,>=8.3.4 in /home/carburauto/codes/uf/MLops/ai-text-recognition/venv/lib/python3.11/site-packages (from spacy->-r ../requirements.txt (line 9)) (8.3.4)\n",
      "Requirement already satisfied: wasabi<1.2.0,>=0.9.1 in /home/carburauto/codes/uf/MLops/ai-text-recognition/venv/lib/python3.11/site-packages (from spacy->-r ../requirements.txt (line 9)) (1.1.3)\n",
      "Requirement already satisfied: srsly<3.0.0,>=2.4.3 in /home/carburauto/codes/uf/MLops/ai-text-recognition/venv/lib/python3.11/site-packages (from spacy->-r ../requirements.txt (line 9)) (2.5.1)\n",
      "Requirement already satisfied: catalogue<2.1.0,>=2.0.6 in /home/carburauto/codes/uf/MLops/ai-text-recognition/venv/lib/python3.11/site-packages (from spacy->-r ../requirements.txt (line 9)) (2.0.10)\n",
      "Requirement already satisfied: weasel<0.5.0,>=0.1.0 in /home/carburauto/codes/uf/MLops/ai-text-recognition/venv/lib/python3.11/site-packages (from spacy->-r ../requirements.txt (line 9)) (0.4.1)\n",
      "Requirement already satisfied: typer<1.0.0,>=0.3.0 in /home/carburauto/codes/uf/MLops/ai-text-recognition/venv/lib/python3.11/site-packages (from spacy->-r ../requirements.txt (line 9)) (0.15.1)\n",
      "Requirement already satisfied: jinja2 in /home/carburauto/codes/uf/MLops/ai-text-recognition/venv/lib/python3.11/site-packages (from spacy->-r ../requirements.txt (line 9)) (3.1.5)\n",
      "Requirement already satisfied: langcodes<4.0.0,>=3.2.0 in /home/carburauto/codes/uf/MLops/ai-text-recognition/venv/lib/python3.11/site-packages (from spacy->-r ../requirements.txt (line 9)) (3.5.0)\n",
      "Requirement already satisfied: aiofiles<24.0,>=22.0 in /home/carburauto/codes/uf/MLops/ai-text-recognition/venv/lib/python3.11/site-packages (from gradio->-r ../requirements.txt (line 10)) (23.2.1)\n",
      "Requirement already satisfied: anyio<5.0,>=3.0 in /home/carburauto/codes/uf/MLops/ai-text-recognition/venv/lib/python3.11/site-packages (from gradio->-r ../requirements.txt (line 10)) (4.8.0)\n",
      "Requirement already satisfied: fastapi<1.0,>=0.115.2 in /home/carburauto/codes/uf/MLops/ai-text-recognition/venv/lib/python3.11/site-packages (from gradio->-r ../requirements.txt (line 10)) (0.115.6)\n",
      "Requirement already satisfied: ffmpy in /home/carburauto/codes/uf/MLops/ai-text-recognition/venv/lib/python3.11/site-packages (from gradio->-r ../requirements.txt (line 10)) (0.5.0)\n",
      "Requirement already satisfied: gradio-client==1.5.4 in /home/carburauto/codes/uf/MLops/ai-text-recognition/venv/lib/python3.11/site-packages (from gradio->-r ../requirements.txt (line 10)) (1.5.4)\n",
      "Requirement already satisfied: httpx>=0.24.1 in /home/carburauto/codes/uf/MLops/ai-text-recognition/venv/lib/python3.11/site-packages (from gradio->-r ../requirements.txt (line 10)) (0.28.1)\n",
      "Requirement already satisfied: huggingface-hub>=0.25.1 in /home/carburauto/codes/uf/MLops/ai-text-recognition/venv/lib/python3.11/site-packages (from gradio->-r ../requirements.txt (line 10)) (0.27.1)\n",
      "Requirement already satisfied: markupsafe~=2.0 in /home/carburauto/codes/uf/MLops/ai-text-recognition/venv/lib/python3.11/site-packages (from gradio->-r ../requirements.txt (line 10)) (2.1.5)\n",
      "Requirement already satisfied: orjson~=3.0 in /home/carburauto/codes/uf/MLops/ai-text-recognition/venv/lib/python3.11/site-packages (from gradio->-r ../requirements.txt (line 10)) (3.10.15)\n",
      "Requirement already satisfied: pydub in /home/carburauto/codes/uf/MLops/ai-text-recognition/venv/lib/python3.11/site-packages (from gradio->-r ../requirements.txt (line 10)) (0.25.1)\n",
      "Requirement already satisfied: python-multipart>=0.0.18 in /home/carburauto/codes/uf/MLops/ai-text-recognition/venv/lib/python3.11/site-packages (from gradio->-r ../requirements.txt (line 10)) (0.0.20)\n",
      "Requirement already satisfied: ruff>=0.2.2 in /home/carburauto/codes/uf/MLops/ai-text-recognition/venv/lib/python3.11/site-packages (from gradio->-r ../requirements.txt (line 10)) (0.9.2)\n",
      "Requirement already satisfied: safehttpx<0.2.0,>=0.1.6 in /home/carburauto/codes/uf/MLops/ai-text-recognition/venv/lib/python3.11/site-packages (from gradio->-r ../requirements.txt (line 10)) (0.1.6)\n",
      "Requirement already satisfied: semantic-version~=2.0 in /home/carburauto/codes/uf/MLops/ai-text-recognition/venv/lib/python3.11/site-packages (from gradio->-r ../requirements.txt (line 10)) (2.10.0)\n",
      "Requirement already satisfied: starlette<1.0,>=0.40.0 in /home/carburauto/codes/uf/MLops/ai-text-recognition/venv/lib/python3.11/site-packages (from gradio->-r ../requirements.txt (line 10)) (0.41.3)\n",
      "Requirement already satisfied: tomlkit<0.14.0,>=0.12.0 in /home/carburauto/codes/uf/MLops/ai-text-recognition/venv/lib/python3.11/site-packages (from gradio->-r ../requirements.txt (line 10)) (0.13.2)\n",
      "Requirement already satisfied: uvicorn>=0.14.0 in /home/carburauto/codes/uf/MLops/ai-text-recognition/venv/lib/python3.11/site-packages (from gradio->-r ../requirements.txt (line 10)) (0.34.0)\n",
      "Requirement already satisfied: fsspec in /home/carburauto/codes/uf/MLops/ai-text-recognition/venv/lib/python3.11/site-packages (from gradio-client==1.5.4->gradio->-r ../requirements.txt (line 10)) (2024.12.0)\n",
      "Requirement already satisfied: websockets<15.0,>=10.0 in /home/carburauto/codes/uf/MLops/ai-text-recognition/venv/lib/python3.11/site-packages (from gradio-client==1.5.4->gradio->-r ../requirements.txt (line 10)) (14.2)\n",
      "Requirement already satisfied: absl-py>=1.0.0 in /home/carburauto/codes/uf/MLops/ai-text-recognition/venv/lib/python3.11/site-packages (from tensorflow->-r ../requirements.txt (line 11)) (2.1.0)\n",
      "Requirement already satisfied: astunparse>=1.6.0 in /home/carburauto/codes/uf/MLops/ai-text-recognition/venv/lib/python3.11/site-packages (from tensorflow->-r ../requirements.txt (line 11)) (1.6.3)\n",
      "Requirement already satisfied: flatbuffers>=24.3.25 in /home/carburauto/codes/uf/MLops/ai-text-recognition/venv/lib/python3.11/site-packages (from tensorflow->-r ../requirements.txt (line 11)) (24.12.23)\n",
      "Requirement already satisfied: gast!=0.5.0,!=0.5.1,!=0.5.2,>=0.2.1 in /home/carburauto/codes/uf/MLops/ai-text-recognition/venv/lib/python3.11/site-packages (from tensorflow->-r ../requirements.txt (line 11)) (0.6.0)\n",
      "Requirement already satisfied: google-pasta>=0.1.1 in /home/carburauto/codes/uf/MLops/ai-text-recognition/venv/lib/python3.11/site-packages (from tensorflow->-r ../requirements.txt (line 11)) (0.2.0)\n",
      "Requirement already satisfied: libclang>=13.0.0 in /home/carburauto/codes/uf/MLops/ai-text-recognition/venv/lib/python3.11/site-packages (from tensorflow->-r ../requirements.txt (line 11)) (18.1.1)\n",
      "Requirement already satisfied: opt-einsum>=2.3.2 in /home/carburauto/codes/uf/MLops/ai-text-recognition/venv/lib/python3.11/site-packages (from tensorflow->-r ../requirements.txt (line 11)) (3.4.0)\n",
      "Requirement already satisfied: termcolor>=1.1.0 in /home/carburauto/codes/uf/MLops/ai-text-recognition/venv/lib/python3.11/site-packages (from tensorflow->-r ../requirements.txt (line 11)) (2.5.0)\n",
      "Requirement already satisfied: wrapt>=1.11.0 in /home/carburauto/codes/uf/MLops/ai-text-recognition/venv/lib/python3.11/site-packages (from tensorflow->-r ../requirements.txt (line 11)) (1.17.2)\n",
      "Requirement already satisfied: grpcio<2.0,>=1.24.3 in /home/carburauto/codes/uf/MLops/ai-text-recognition/venv/lib/python3.11/site-packages (from tensorflow->-r ../requirements.txt (line 11)) (1.69.0)\n",
      "Requirement already satisfied: tensorboard<2.19,>=2.18 in /home/carburauto/codes/uf/MLops/ai-text-recognition/venv/lib/python3.11/site-packages (from tensorflow->-r ../requirements.txt (line 11)) (2.18.0)\n",
      "Requirement already satisfied: keras>=3.5.0 in /home/carburauto/codes/uf/MLops/ai-text-recognition/venv/lib/python3.11/site-packages (from tensorflow->-r ../requirements.txt (line 11)) (3.8.0)\n",
      "Requirement already satisfied: h5py>=3.11.0 in /home/carburauto/codes/uf/MLops/ai-text-recognition/venv/lib/python3.11/site-packages (from tensorflow->-r ../requirements.txt (line 11)) (3.12.1)\n",
      "Requirement already satisfied: ml-dtypes<0.5.0,>=0.4.0 in /home/carburauto/codes/uf/MLops/ai-text-recognition/venv/lib/python3.11/site-packages (from tensorflow->-r ../requirements.txt (line 11)) (0.4.1)\n",
      "Requirement already satisfied: tensorflow-io-gcs-filesystem>=0.23.1 in /home/carburauto/codes/uf/MLops/ai-text-recognition/venv/lib/python3.11/site-packages (from tensorflow->-r ../requirements.txt (line 11)) (0.37.1)\n",
      "Requirement already satisfied: regex!=2019.12.17 in /home/carburauto/codes/uf/MLops/ai-text-recognition/venv/lib/python3.11/site-packages (from transformers->-r ../requirements.txt (line 13)) (2024.11.6)\n",
      "Requirement already satisfied: tokenizers<0.22,>=0.21 in /home/carburauto/codes/uf/MLops/ai-text-recognition/venv/lib/python3.11/site-packages (from transformers->-r ../requirements.txt (line 13)) (0.21.0)\n",
      "Requirement already satisfied: safetensors>=0.4.1 in /home/carburauto/codes/uf/MLops/ai-text-recognition/venv/lib/python3.11/site-packages (from transformers->-r ../requirements.txt (line 13)) (0.5.2)\n",
      "Requirement already satisfied: networkx in /home/carburauto/codes/uf/MLops/ai-text-recognition/venv/lib/python3.11/site-packages (from torch->-r ../requirements.txt (line 14)) (3.4.2)\n",
      "Requirement already satisfied: nvidia-cuda-nvrtc-cu12==12.4.127 in /home/carburauto/codes/uf/MLops/ai-text-recognition/venv/lib/python3.11/site-packages (from torch->-r ../requirements.txt (line 14)) (12.4.127)\n",
      "Requirement already satisfied: nvidia-cuda-runtime-cu12==12.4.127 in /home/carburauto/codes/uf/MLops/ai-text-recognition/venv/lib/python3.11/site-packages (from torch->-r ../requirements.txt (line 14)) (12.4.127)\n",
      "Requirement already satisfied: nvidia-cuda-cupti-cu12==12.4.127 in /home/carburauto/codes/uf/MLops/ai-text-recognition/venv/lib/python3.11/site-packages (from torch->-r ../requirements.txt (line 14)) (12.4.127)\n",
      "Requirement already satisfied: nvidia-cudnn-cu12==9.1.0.70 in /home/carburauto/codes/uf/MLops/ai-text-recognition/venv/lib/python3.11/site-packages (from torch->-r ../requirements.txt (line 14)) (9.1.0.70)\n",
      "Requirement already satisfied: nvidia-cublas-cu12==12.4.5.8 in /home/carburauto/codes/uf/MLops/ai-text-recognition/venv/lib/python3.11/site-packages (from torch->-r ../requirements.txt (line 14)) (12.4.5.8)\n",
      "Requirement already satisfied: nvidia-cufft-cu12==11.2.1.3 in /home/carburauto/codes/uf/MLops/ai-text-recognition/venv/lib/python3.11/site-packages (from torch->-r ../requirements.txt (line 14)) (11.2.1.3)\n",
      "Requirement already satisfied: nvidia-curand-cu12==10.3.5.147 in /home/carburauto/codes/uf/MLops/ai-text-recognition/venv/lib/python3.11/site-packages (from torch->-r ../requirements.txt (line 14)) (10.3.5.147)\n",
      "Requirement already satisfied: nvidia-cusolver-cu12==11.6.1.9 in /home/carburauto/codes/uf/MLops/ai-text-recognition/venv/lib/python3.11/site-packages (from torch->-r ../requirements.txt (line 14)) (11.6.1.9)\n",
      "Requirement already satisfied: nvidia-cusparse-cu12==12.3.1.170 in /home/carburauto/codes/uf/MLops/ai-text-recognition/venv/lib/python3.11/site-packages (from torch->-r ../requirements.txt (line 14)) (12.3.1.170)\n",
      "Requirement already satisfied: nvidia-nccl-cu12==2.21.5 in /home/carburauto/codes/uf/MLops/ai-text-recognition/venv/lib/python3.11/site-packages (from torch->-r ../requirements.txt (line 14)) (2.21.5)\n",
      "Requirement already satisfied: nvidia-nvtx-cu12==12.4.127 in /home/carburauto/codes/uf/MLops/ai-text-recognition/venv/lib/python3.11/site-packages (from torch->-r ../requirements.txt (line 14)) (12.4.127)\n",
      "Requirement already satisfied: nvidia-nvjitlink-cu12==12.4.127 in /home/carburauto/codes/uf/MLops/ai-text-recognition/venv/lib/python3.11/site-packages (from torch->-r ../requirements.txt (line 14)) (12.4.127)\n",
      "Requirement already satisfied: triton==3.1.0 in /home/carburauto/codes/uf/MLops/ai-text-recognition/venv/lib/python3.11/site-packages (from torch->-r ../requirements.txt (line 14)) (3.1.0)\n",
      "Requirement already satisfied: sympy==1.13.1 in /home/carburauto/codes/uf/MLops/ai-text-recognition/venv/lib/python3.11/site-packages (from torch->-r ../requirements.txt (line 14)) (1.13.1)\n",
      "Requirement already satisfied: mpmath<1.4,>=1.1.0 in /home/carburauto/codes/uf/MLops/ai-text-recognition/venv/lib/python3.11/site-packages (from sympy==1.13.1->torch->-r ../requirements.txt (line 14)) (1.3.0)\n",
      "Requirement already satisfied: sniffio>=1.1 in /home/carburauto/codes/uf/MLops/ai-text-recognition/venv/lib/python3.11/site-packages (from anyio<5.0,>=3.0->gradio->-r ../requirements.txt (line 10)) (1.3.1)\n",
      "Requirement already satisfied: wheel<1.0,>=0.23.0 in /home/carburauto/codes/uf/MLops/ai-text-recognition/venv/lib/python3.11/site-packages (from astunparse>=1.6.0->tensorflow->-r ../requirements.txt (line 11)) (0.45.1)\n",
      "Requirement already satisfied: gitdb<5,>=4.0.1 in /home/carburauto/codes/uf/MLops/ai-text-recognition/venv/lib/python3.11/site-packages (from gitpython!=3.1.29,>=1.0.0->wandb->-r ../requirements.txt (line 5)) (4.0.12)\n",
      "Requirement already satisfied: httpcore==1.* in /home/carburauto/codes/uf/MLops/ai-text-recognition/venv/lib/python3.11/site-packages (from httpx>=0.24.1->gradio->-r ../requirements.txt (line 10)) (1.0.7)\n",
      "Requirement already satisfied: h11<0.15,>=0.13 in /home/carburauto/codes/uf/MLops/ai-text-recognition/venv/lib/python3.11/site-packages (from httpcore==1.*->httpx>=0.24.1->gradio->-r ../requirements.txt (line 10)) (0.14.0)\n",
      "Requirement already satisfied: rich in /home/carburauto/codes/uf/MLops/ai-text-recognition/venv/lib/python3.11/site-packages (from keras>=3.5.0->tensorflow->-r ../requirements.txt (line 11)) (13.9.4)\n",
      "Requirement already satisfied: namex in /home/carburauto/codes/uf/MLops/ai-text-recognition/venv/lib/python3.11/site-packages (from keras>=3.5.0->tensorflow->-r ../requirements.txt (line 11)) (0.0.8)\n",
      "Requirement already satisfied: optree in /home/carburauto/codes/uf/MLops/ai-text-recognition/venv/lib/python3.11/site-packages (from keras>=3.5.0->tensorflow->-r ../requirements.txt (line 11)) (0.14.0)\n",
      "Requirement already satisfied: language-data>=1.2 in /home/carburauto/codes/uf/MLops/ai-text-recognition/venv/lib/python3.11/site-packages (from langcodes<4.0.0,>=3.2.0->spacy->-r ../requirements.txt (line 9)) (1.3.0)\n",
      "Requirement already satisfied: annotated-types>=0.6.0 in /home/carburauto/codes/uf/MLops/ai-text-recognition/venv/lib/python3.11/site-packages (from pydantic<3,>=2.6->wandb->-r ../requirements.txt (line 5)) (0.7.0)\n",
      "Requirement already satisfied: pydantic-core==2.27.2 in /home/carburauto/codes/uf/MLops/ai-text-recognition/venv/lib/python3.11/site-packages (from pydantic<3,>=2.6->wandb->-r ../requirements.txt (line 5)) (2.27.2)\n",
      "Requirement already satisfied: markdown>=2.6.8 in /home/carburauto/codes/uf/MLops/ai-text-recognition/venv/lib/python3.11/site-packages (from tensorboard<2.19,>=2.18->tensorflow->-r ../requirements.txt (line 11)) (3.7)\n",
      "Requirement already satisfied: tensorboard-data-server<0.8.0,>=0.7.0 in /home/carburauto/codes/uf/MLops/ai-text-recognition/venv/lib/python3.11/site-packages (from tensorboard<2.19,>=2.18->tensorflow->-r ../requirements.txt (line 11)) (0.7.2)\n",
      "Requirement already satisfied: werkzeug>=1.0.1 in /home/carburauto/codes/uf/MLops/ai-text-recognition/venv/lib/python3.11/site-packages (from tensorboard<2.19,>=2.18->tensorflow->-r ../requirements.txt (line 11)) (3.1.3)\n",
      "Requirement already satisfied: blis<1.3.0,>=1.2.0 in /home/carburauto/codes/uf/MLops/ai-text-recognition/venv/lib/python3.11/site-packages (from thinc<8.4.0,>=8.3.4->spacy->-r ../requirements.txt (line 9)) (1.2.0)\n",
      "Requirement already satisfied: confection<1.0.0,>=0.0.1 in /home/carburauto/codes/uf/MLops/ai-text-recognition/venv/lib/python3.11/site-packages (from thinc<8.4.0,>=8.3.4->spacy->-r ../requirements.txt (line 9)) (0.1.5)\n",
      "Requirement already satisfied: shellingham>=1.3.0 in /home/carburauto/codes/uf/MLops/ai-text-recognition/venv/lib/python3.11/site-packages (from typer<1.0.0,>=0.3.0->spacy->-r ../requirements.txt (line 9)) (1.5.4)\n",
      "Requirement already satisfied: cloudpathlib<1.0.0,>=0.7.0 in /home/carburauto/codes/uf/MLops/ai-text-recognition/venv/lib/python3.11/site-packages (from weasel<0.5.0,>=0.1.0->spacy->-r ../requirements.txt (line 9)) (0.20.0)\n",
      "Requirement already satisfied: smart-open<8.0.0,>=5.2.1 in /home/carburauto/codes/uf/MLops/ai-text-recognition/venv/lib/python3.11/site-packages (from weasel<0.5.0,>=0.1.0->spacy->-r ../requirements.txt (line 9)) (7.1.0)\n",
      "Requirement already satisfied: soupsieve>1.2 in /home/carburauto/codes/uf/MLops/ai-text-recognition/venv/lib/python3.11/site-packages (from beautifulsoup4->gdown->-r ../requirements.txt (line 1)) (2.6)\n",
      "Requirement already satisfied: webencodings in /home/carburauto/codes/uf/MLops/ai-text-recognition/venv/lib/python3.11/site-packages (from bleach->kaggle->-r ../requirements.txt (line 6)) (0.5.1)\n",
      "Requirement already satisfied: text-unidecode>=1.3 in /home/carburauto/codes/uf/MLops/ai-text-recognition/venv/lib/python3.11/site-packages (from python-slugify->kaggle->-r ../requirements.txt (line 6)) (1.3)\n",
      "Requirement already satisfied: PySocks!=1.5.7,>=1.5.6 in /home/carburauto/codes/uf/MLops/ai-text-recognition/venv/lib/python3.11/site-packages (from requests->-r ../requirements.txt (line 7)) (1.7.1)\n",
      "Requirement already satisfied: smmap<6,>=3.0.1 in /home/carburauto/codes/uf/MLops/ai-text-recognition/venv/lib/python3.11/site-packages (from gitdb<5,>=4.0.1->gitpython!=3.1.29,>=1.0.0->wandb->-r ../requirements.txt (line 5)) (5.0.2)\n",
      "Requirement already satisfied: marisa-trie>=1.1.0 in /home/carburauto/codes/uf/MLops/ai-text-recognition/venv/lib/python3.11/site-packages (from language-data>=1.2->langcodes<4.0.0,>=3.2.0->spacy->-r ../requirements.txt (line 9)) (1.2.1)\n",
      "Requirement already satisfied: markdown-it-py>=2.2.0 in /home/carburauto/codes/uf/MLops/ai-text-recognition/venv/lib/python3.11/site-packages (from rich->keras>=3.5.0->tensorflow->-r ../requirements.txt (line 11)) (3.0.0)\n",
      "Requirement already satisfied: pygments<3.0.0,>=2.13.0 in /home/carburauto/codes/uf/MLops/ai-text-recognition/venv/lib/python3.11/site-packages (from rich->keras>=3.5.0->tensorflow->-r ../requirements.txt (line 11)) (2.19.1)\n",
      "Requirement already satisfied: mdurl~=0.1 in /home/carburauto/codes/uf/MLops/ai-text-recognition/venv/lib/python3.11/site-packages (from markdown-it-py>=2.2.0->rich->keras>=3.5.0->tensorflow->-r ../requirements.txt (line 11)) (0.1.2)\n",
      "Installing collected packages: argparse\n",
      "Successfully installed argparse-1.4.0\n",
      "Note: you may need to restart the kernel to use updated packages.\n"
     ]
    }
   ],
   "source": [
    "%pip install -r ../requirements.txt"
   ]
  },
  {
   "cell_type": "code",
   "execution_count": 2,
   "metadata": {},
   "outputs": [
    {
     "name": "stderr",
     "output_type": "stream",
     "text": [
      "/home/carburauto/codes/uf/MLops/ai-text-recognition/venv/lib/python3.11/site-packages/tqdm/auto.py:21: TqdmWarning: IProgress not found. Please update jupyter and ipywidgets. See https://ipywidgets.readthedocs.io/en/stable/user_install.html\n",
      "  from .autonotebook import tqdm as notebook_tqdm\n"
     ]
    }
   ],
   "source": [
    "import pandas as pd\n",
    "import re\n",
    "from sklearn.pipeline import Pipeline\n",
    "from sklearn.preprocessing import FunctionTransformer\n",
    "import unicodedata\n",
    "import spacy\n",
    "from typing import List\n",
    "from sklearn.model_selection import train_test_split\n",
    "from sklearn.feature_extraction.text import TfidfVectorizer\n",
    "import matplotlib.pyplot as plt\n",
    "import numpy as np\n",
    "import torch\n",
    "from transformers import AutoTokenizer, AutoModel\n",
    "\n"
   ]
  },
  {
   "cell_type": "code",
   "execution_count": 3,
   "metadata": {},
   "outputs": [],
   "source": [
    "path = \"../data/inter/train_drcat_\""
   ]
  },
  {
   "cell_type": "code",
   "execution_count": 4,
   "metadata": {},
   "outputs": [],
   "source": [
    "drcat_01 = pd.read_csv(path + \"01.csv\")\n",
    "drcat_02 = pd.read_csv(path + \"02.csv\")\n",
    "drcat_03 = pd.read_csv(path + \"03.csv\")\n",
    "drcat_04 = pd.read_csv(path + \"04.csv\")"
   ]
  },
  {
   "cell_type": "code",
   "execution_count": 5,
   "metadata": {},
   "outputs": [
    {
     "data": {
      "text/html": [
       "<div>\n",
       "<style scoped>\n",
       "    .dataframe tbody tr th:only-of-type {\n",
       "        vertical-align: middle;\n",
       "    }\n",
       "\n",
       "    .dataframe tbody tr th {\n",
       "        vertical-align: top;\n",
       "    }\n",
       "\n",
       "    .dataframe thead th {\n",
       "        text-align: right;\n",
       "    }\n",
       "</style>\n",
       "<table border=\"1\" class=\"dataframe\">\n",
       "  <thead>\n",
       "    <tr style=\"text-align: right;\">\n",
       "      <th></th>\n",
       "      <th>text</th>\n",
       "      <th>label</th>\n",
       "      <th>source</th>\n",
       "      <th>fold</th>\n",
       "    </tr>\n",
       "  </thead>\n",
       "  <tbody>\n",
       "    <tr>\n",
       "      <th>0</th>\n",
       "      <td>There are alot reasons to keep our the despise...</td>\n",
       "      <td>0</td>\n",
       "      <td>persuade_corpus</td>\n",
       "      <td>2</td>\n",
       "    </tr>\n",
       "    <tr>\n",
       "      <th>1</th>\n",
       "      <td>Driving smart cars that drive by themself has ...</td>\n",
       "      <td>0</td>\n",
       "      <td>persuade_corpus</td>\n",
       "      <td>4</td>\n",
       "    </tr>\n",
       "    <tr>\n",
       "      <th>2</th>\n",
       "      <td>Dear Principal,\\n\\nI believe that students at ...</td>\n",
       "      <td>0</td>\n",
       "      <td>persuade_corpus</td>\n",
       "      <td>0</td>\n",
       "    </tr>\n",
       "    <tr>\n",
       "      <th>3</th>\n",
       "      <td>Dear Principal,\\n\\nCommunity service should no...</td>\n",
       "      <td>0</td>\n",
       "      <td>persuade_corpus</td>\n",
       "      <td>0</td>\n",
       "    </tr>\n",
       "    <tr>\n",
       "      <th>4</th>\n",
       "      <td>My argument for the development of the driverl...</td>\n",
       "      <td>0</td>\n",
       "      <td>persuade_corpus</td>\n",
       "      <td>3</td>\n",
       "    </tr>\n",
       "  </tbody>\n",
       "</table>\n",
       "</div>"
      ],
      "text/plain": [
       "                                                text  label           source  \\\n",
       "0  There are alot reasons to keep our the despise...      0  persuade_corpus   \n",
       "1  Driving smart cars that drive by themself has ...      0  persuade_corpus   \n",
       "2  Dear Principal,\\n\\nI believe that students at ...      0  persuade_corpus   \n",
       "3  Dear Principal,\\n\\nCommunity service should no...      0  persuade_corpus   \n",
       "4  My argument for the development of the driverl...      0  persuade_corpus   \n",
       "\n",
       "   fold  \n",
       "0     2  \n",
       "1     4  \n",
       "2     0  \n",
       "3     0  \n",
       "4     3  "
      ]
     },
     "execution_count": 5,
     "metadata": {},
     "output_type": "execute_result"
    }
   ],
   "source": [
    "drcat_01.head()"
   ]
  },
  {
   "cell_type": "code",
   "execution_count": 6,
   "metadata": {},
   "outputs": [
    {
     "name": "stdout",
     "output_type": "stream",
     "text": [
      "Collecting en-core-web-sm==3.8.0\n",
      "  Downloading https://github.com/explosion/spacy-models/releases/download/en_core_web_sm-3.8.0/en_core_web_sm-3.8.0-py3-none-any.whl (12.8 MB)\n",
      "\u001b[2K     \u001b[38;2;114;156;31m━━━━━━━━━━━━━━━━━━━━━━━━━━━━━━━━━━━━━━━━\u001b[0m \u001b[32m12.8/12.8 MB\u001b[0m \u001b[31m6.9 MB/s\u001b[0m eta \u001b[36m0:00:00\u001b[0mm eta \u001b[36m0:00:01\u001b[0m[36m0:00:01\u001b[0m\n",
      "\u001b[?25h\u001b[38;5;2m✔ Download and installation successful\u001b[0m\n",
      "You can now load the package via spacy.load('en_core_web_sm')\n"
     ]
    }
   ],
   "source": [
    "!python -m spacy download en_core_web_sm\n"
   ]
  },
  {
   "cell_type": "code",
   "execution_count": 7,
   "metadata": {},
   "outputs": [],
   "source": [
    "def remove_excessive_spaces(text: str) -> str:\n",
    "    \"\"\"\n",
    "    This function removes excessive spaces from the text.\n",
    "\n",
    "    Args:\n",
    "        text (str): The input text.\n",
    "\n",
    "    Returns:\n",
    "        str: The text with excessive spaces removed.\n",
    "    \"\"\"\n",
    "    return re.sub(r'\\s+', ' ', text).strip() \n",
    "\n",
    "def remove_repeated_non_word_characters(text: str) -> str:\n",
    "    \"\"\"\n",
    "    This function removes repeated non-word characters from the text.\n",
    "\n",
    "    Args:\n",
    "        text (str): The input text.\n",
    "\n",
    "    Returns:\n",
    "        str: The text with repeated non-word characters removed.\n",
    "    \"\"\"\n",
    "    return re.sub(r'(\\W)\\1+', r'\\1', text).strip()\n",
    "\n",
    "def remove_first_line_from_text(text: str) -> str:\n",
    "    \"\"\"\n",
    "    This function removes the first line from the text.\n",
    "\n",
    "    Args:\n",
    "        text (str): The input text.\n",
    "\n",
    "    Returns:\n",
    "        str: The text with the first line removed.\n",
    "    \"\"\"\n",
    "    return re.sub(r'^.*\\n', '', text).strip()\n",
    "\n",
    "def remove_last_line_from_text(text: str) -> str:\n",
    "    \"\"\"\n",
    "    This function removes the last line from the text.\n",
    "\n",
    "    Args:\n",
    "        text (str): The input text.\n",
    "\n",
    "    Returns:\n",
    "        str: The text with the last line removed.\n",
    "    \"\"\"\n",
    "    return re.sub(r'\\n.*$', '', text).strip()\n",
    "\n",
    "def fix_isolated_commas_in_text(text: str) -> str:\n",
    "    \"\"\"\n",
    "    This function fixes isolated commas in the text.\n",
    "\n",
    "    Args:\n",
    "        text (str): The input text.\n",
    "\n",
    "    Returns:\n",
    "        str: The text with isolated commas fixed.\n",
    "    \"\"\"\n",
    "    text = re.sub(r' ([.,:;!?])', r'\\1', text)\n",
    "    return text.strip()\n",
    "\n",
    "def keep_words_longer_than(text: str, min_length: int = 2) -> str:\n",
    "    \"\"\"\n",
    "    This function keeps only the words in the text that are longer than a given length.\n",
    "\n",
    "    Args:\n",
    "        text (str): The input text.\n",
    "        min_length (int, optional): The minimum length of the words to keep. Defaults to 2.\n",
    "\n",
    "    Returns:\n",
    "        str: The text with only the words longer than the given length.\n",
    "    \"\"\"\n",
    "    return ' '.join([word for word in text.split() if len(word) > min_length])\n",
    "\n",
    "def keep_only_alphabet_characters(text: str) -> str:\n",
    "    \"\"\"\n",
    "    This function keeps only the alphabet characters in the text.\n",
    "\n",
    "    Args:\n",
    "        text (str): The input text.\n",
    "\n",
    "    Returns:\n",
    "        str: The text with only the alphabet characters.\n",
    "    \"\"\"\n",
    "    return re.sub(r'[^a-zA-Z]', ' ', text).strip()\n",
    "\n",
    "def remove_accents_from_text(text: str) -> str:\n",
    "    \"\"\"\n",
    "    This function removes accents from the text.\n",
    "\n",
    "    Args:\n",
    "        text (str): The input text.\n",
    "\n",
    "    Returns:\n",
    "        str: The text with accents removed.\n",
    "    \"\"\"\n",
    "    return unicodedata.normalize('NFKD', text).encode('ASCII', 'ignore').decode('ASCII')\n",
    "\n",
    "def lemmatize_text_with_spacy(text: str) -> str:\n",
    "    \"\"\"\n",
    "    This function lemmatizes the text using the Spacy library.\n",
    "\n",
    "    Args:\n",
    "        text (str): The input text.\n",
    "\n",
    "    Returns:\n",
    "        str: The lemmatized text.\n",
    "    \"\"\"\n",
    "    doc = nlp_spacy(text)\n",
    "    return ' '.join([token.lemma_ for token in doc])\n",
    "\n",
    "\n",
    "pipeline_clean_text = Pipeline([\n",
    "    ('remove_first_line_from_text', FunctionTransformer(remove_first_line_from_text)),\n",
    "    ('remove_last_line_from_text', FunctionTransformer(remove_last_line_from_text)),\n",
    "    ('remove_excessive_spaces', FunctionTransformer(remove_excessive_spaces)),\n",
    "    ('remove_repeated_non_word_characters', FunctionTransformer(remove_repeated_non_word_characters)),\n",
    "    ('fix_isolated_commas_in_text', FunctionTransformer(fix_isolated_commas_in_text)),\n",
    "])\n",
    "\n",
    "nlp_spacy = spacy.load('en_core_web_sm')"
   ]
  },
  {
   "cell_type": "code",
   "execution_count": 8,
   "metadata": {},
   "outputs": [],
   "source": [
    "drcat_01['clean_text'] = drcat_01['text'].apply(pipeline_clean_text.transform)\n",
    "drcat_02['clean_text'] = drcat_02['text'].apply(pipeline_clean_text.transform)\n",
    "drcat_03['clean_text'] = drcat_03['text'].apply(pipeline_clean_text.transform)\n",
    "drcat_04['clean_text'] = drcat_04['text'].apply(pipeline_clean_text.transform)"
   ]
  },
  {
   "cell_type": "code",
   "execution_count": 9,
   "metadata": {},
   "outputs": [],
   "source": [
    "df = pd.concat([drcat_01, drcat_02, drcat_03, drcat_04], axis=0, ignore_index=True)\n",
    "df = df.drop(columns=['essay_id','source','fold'])\n",
    "df = df.drop_duplicates()"
   ]
  },
  {
   "cell_type": "code",
   "execution_count": 10,
   "metadata": {},
   "outputs": [
    {
     "data": {
      "text/plain": [
       "Index(['text', 'label', 'clean_text', 'prompt'], dtype='object')"
      ]
     },
     "execution_count": 10,
     "metadata": {},
     "output_type": "execute_result"
    }
   ],
   "source": [
    "df.columns"
   ]
  },
  {
   "cell_type": "code",
   "execution_count": 11,
   "metadata": {},
   "outputs": [
    {
     "data": {
      "image/png": "[encoded data removed]",
      "text/plain": [
       "<Figure size 640x480 with 1 Axes>"
      ]
     },
     "metadata": {},
     "output_type": "display_data"
    },
    {
     "name": "stdout",
     "output_type": "stream",
     "text": [
      "label\n",
      "0    29792\n",
      "1    19256\n",
      "Name: count, dtype: int64\n"
     ]
    }
   ],
   "source": [
    "plt.hist(df['label'], bins=2, color='#4c72b0', edgecolor='black', alpha=0.7)\n",
    "plt.title('Labels', fontsize=16, fontweight='bold')\n",
    "plt.xlabel('Valores', fontsize=12)\n",
    "plt.ylabel('Frequência', fontsize=12)\n",
    "plt.grid(True, linestyle='--', alpha=0.6)\n",
    "plt.tight_layout()\n",
    "plt.show()\n",
    "\n",
    "print(df['label'].value_counts())"
   ]
  },
  {
   "cell_type": "code",
   "execution_count": 12,
   "metadata": {},
   "outputs": [
    {
     "name": "stdout",
     "output_type": "stream",
     "text": [
      "Contagem original dos rótulos:\n",
      "label\n",
      "0    29792\n",
      "1    19256\n",
      "Name: count, dtype: int64\n",
      "\n",
      "Contagem balanceada dos rótulos:\n",
      "label\n",
      "1    19256\n",
      "0    19256\n",
      "Name: count, dtype: int64\n"
     ]
    }
   ],
   "source": [
    "counts = df['label'].value_counts()\n",
    "print(\"Contagem original dos rótulos:\")\n",
    "print(counts)\n",
    "\n",
    "min_label_count = counts.min()\n",
    "\n",
    "df_minority = df[df['label'] == counts.idxmin()]\n",
    "df_majority = df[df['label'] == counts.idxmax()]\n",
    "\n",
    "\n",
    "df_majority_balanced = df_majority.sample(n=min_label_count, random_state=42)\n",
    "\n",
    "\n",
    "df_balanced = pd.concat([df_minority, df_majority_balanced], axis=0)\n",
    "\n",
    "print(\"\\nContagem balanceada dos rótulos:\")\n",
    "print(df_balanced['label'].value_counts())"
   ]
  },
  {
   "cell_type": "code",
   "execution_count": 13,
   "metadata": {},
   "outputs": [],
   "source": [
    "df_balanced.to_csv('../data/preprocessed/balanced.csv', index=False)"
   ]
  },
  {
   "cell_type": "code",
   "execution_count": 14,
   "metadata": {},
   "outputs": [
    {
     "ename": "KeyboardInterrupt",
     "evalue": "",
     "output_type": "error",
     "traceback": [
      "\u001b[0;31m---------------------------------------------------------------------------\u001b[0m",
      "\u001b[0;31mKeyboardInterrupt\u001b[0m                         Traceback (most recent call last)",
      "Cell \u001b[0;32mIn[14], line 3\u001b[0m\n\u001b[1;32m      1\u001b[0m model_name \u001b[38;5;241m=\u001b[39m \u001b[38;5;124m\"\u001b[39m\u001b[38;5;124mbert-base-uncased\u001b[39m\u001b[38;5;124m\"\u001b[39m  \u001b[38;5;66;03m# Modelo BERT pré-treinado\u001b[39;00m\n\u001b[1;32m      2\u001b[0m tokenizer \u001b[38;5;241m=\u001b[39m AutoTokenizer\u001b[38;5;241m.\u001b[39mfrom_pretrained(model_name)\n\u001b[0;32m----> 3\u001b[0m model \u001b[38;5;241m=\u001b[39m \u001b[43mAutoModel\u001b[49m\u001b[38;5;241;43m.\u001b[39;49m\u001b[43mfrom_pretrained\u001b[49m\u001b[43m(\u001b[49m\u001b[43mmodel_name\u001b[49m\u001b[43m)\u001b[49m\n\u001b[1;32m      5\u001b[0m device \u001b[38;5;241m=\u001b[39m torch\u001b[38;5;241m.\u001b[39mdevice(\u001b[38;5;124m\"\u001b[39m\u001b[38;5;124mcuda\u001b[39m\u001b[38;5;124m\"\u001b[39m \u001b[38;5;28;01mif\u001b[39;00m torch\u001b[38;5;241m.\u001b[39mcuda\u001b[38;5;241m.\u001b[39mis_available() \u001b[38;5;28;01melse\u001b[39;00m \u001b[38;5;124m\"\u001b[39m\u001b[38;5;124mcpu\u001b[39m\u001b[38;5;124m\"\u001b[39m)\n\u001b[1;32m      6\u001b[0m device \u001b[38;5;241m=\u001b[39m torch\u001b[38;5;241m.\u001b[39mdevice(\u001b[38;5;124m\"\u001b[39m\u001b[38;5;124mcpu\u001b[39m\u001b[38;5;124m\"\u001b[39m)\n",
      "File \u001b[0;32m~/codes/uf/MLops/ai-text-recognition/venv/lib/python3.11/site-packages/transformers/models/auto/auto_factory.py:543\u001b[0m, in \u001b[0;36m_BaseAutoModelClass.from_pretrained\u001b[0;34m(cls, pretrained_model_name_or_path, *model_args, **kwargs)\u001b[0m\n\u001b[1;32m    540\u001b[0m         kwargs[\u001b[38;5;124m\"\u001b[39m\u001b[38;5;124mquantization_config\u001b[39m\u001b[38;5;124m\"\u001b[39m] \u001b[38;5;241m=\u001b[39m kwargs_orig[\u001b[38;5;124m\"\u001b[39m\u001b[38;5;124mquantization_config\u001b[39m\u001b[38;5;124m\"\u001b[39m]\n\u001b[1;32m    542\u001b[0m has_remote_code \u001b[38;5;241m=\u001b[39m \u001b[38;5;28mhasattr\u001b[39m(config, \u001b[38;5;124m\"\u001b[39m\u001b[38;5;124mauto_map\u001b[39m\u001b[38;5;124m\"\u001b[39m) \u001b[38;5;129;01mand\u001b[39;00m \u001b[38;5;28mcls\u001b[39m\u001b[38;5;241m.\u001b[39m\u001b[38;5;18m__name__\u001b[39m \u001b[38;5;129;01min\u001b[39;00m config\u001b[38;5;241m.\u001b[39mauto_map\n\u001b[0;32m--> 543\u001b[0m has_local_code \u001b[38;5;241m=\u001b[39m \u001b[38;5;28mtype\u001b[39m(config) \u001b[38;5;129;01min\u001b[39;00m \u001b[38;5;28;43mcls\u001b[39;49m\u001b[38;5;241;43m.\u001b[39;49m\u001b[43m_model_mapping\u001b[49m\u001b[38;5;241;43m.\u001b[39;49m\u001b[43mkeys\u001b[49m\u001b[43m(\u001b[49m\u001b[43m)\u001b[49m\n\u001b[1;32m    544\u001b[0m trust_remote_code \u001b[38;5;241m=\u001b[39m resolve_trust_remote_code(\n\u001b[1;32m    545\u001b[0m     trust_remote_code, pretrained_model_name_or_path, has_local_code, has_remote_code\n\u001b[1;32m    546\u001b[0m )\n\u001b[1;32m    548\u001b[0m \u001b[38;5;66;03m# Set the adapter kwargs\u001b[39;00m\n",
      "File \u001b[0;32m~/codes/uf/MLops/ai-text-recognition/venv/lib/python3.11/site-packages/transformers/models/auto/auto_factory.py:780\u001b[0m, in \u001b[0;36m_LazyAutoMapping.keys\u001b[0;34m(self)\u001b[0m\n\u001b[1;32m    779\u001b[0m \u001b[38;5;28;01mdef\u001b[39;00m\u001b[38;5;250m \u001b[39m\u001b[38;5;21mkeys\u001b[39m(\u001b[38;5;28mself\u001b[39m):\n\u001b[0;32m--> 780\u001b[0m     mapping_keys \u001b[38;5;241m=\u001b[39m \u001b[43m[\u001b[49m\n\u001b[1;32m    781\u001b[0m \u001b[43m        \u001b[49m\u001b[38;5;28;43mself\u001b[39;49m\u001b[38;5;241;43m.\u001b[39;49m\u001b[43m_load_attr_from_module\u001b[49m\u001b[43m(\u001b[49m\u001b[43mkey\u001b[49m\u001b[43m,\u001b[49m\u001b[43m \u001b[49m\u001b[43mname\u001b[49m\u001b[43m)\u001b[49m\n\u001b[1;32m    782\u001b[0m \u001b[43m        \u001b[49m\u001b[38;5;28;43;01mfor\u001b[39;49;00m\u001b[43m \u001b[49m\u001b[43mkey\u001b[49m\u001b[43m,\u001b[49m\u001b[43m \u001b[49m\u001b[43mname\u001b[49m\u001b[43m \u001b[49m\u001b[38;5;129;43;01min\u001b[39;49;00m\u001b[43m \u001b[49m\u001b[38;5;28;43mself\u001b[39;49m\u001b[38;5;241;43m.\u001b[39;49m\u001b[43m_config_mapping\u001b[49m\u001b[38;5;241;43m.\u001b[39;49m\u001b[43mitems\u001b[49m\u001b[43m(\u001b[49m\u001b[43m)\u001b[49m\n\u001b[1;32m    783\u001b[0m \u001b[43m        \u001b[49m\u001b[38;5;28;43;01mif\u001b[39;49;00m\u001b[43m \u001b[49m\u001b[43mkey\u001b[49m\u001b[43m \u001b[49m\u001b[38;5;129;43;01min\u001b[39;49;00m\u001b[43m \u001b[49m\u001b[38;5;28;43mself\u001b[39;49m\u001b[38;5;241;43m.\u001b[39;49m\u001b[43m_model_mapping\u001b[49m\u001b[38;5;241;43m.\u001b[39;49m\u001b[43mkeys\u001b[49m\u001b[43m(\u001b[49m\u001b[43m)\u001b[49m\n\u001b[1;32m    784\u001b[0m \u001b[43m    \u001b[49m\u001b[43m]\u001b[49m\n\u001b[1;32m    785\u001b[0m     \u001b[38;5;28;01mreturn\u001b[39;00m mapping_keys \u001b[38;5;241m+\u001b[39m \u001b[38;5;28mlist\u001b[39m(\u001b[38;5;28mself\u001b[39m\u001b[38;5;241m.\u001b[39m_extra_content\u001b[38;5;241m.\u001b[39mkeys())\n",
      "File \u001b[0;32m~/codes/uf/MLops/ai-text-recognition/venv/lib/python3.11/site-packages/transformers/models/auto/auto_factory.py:781\u001b[0m, in \u001b[0;36m<listcomp>\u001b[0;34m(.0)\u001b[0m\n\u001b[1;32m    779\u001b[0m \u001b[38;5;28;01mdef\u001b[39;00m\u001b[38;5;250m \u001b[39m\u001b[38;5;21mkeys\u001b[39m(\u001b[38;5;28mself\u001b[39m):\n\u001b[1;32m    780\u001b[0m     mapping_keys \u001b[38;5;241m=\u001b[39m [\n\u001b[0;32m--> 781\u001b[0m         \u001b[38;5;28;43mself\u001b[39;49m\u001b[38;5;241;43m.\u001b[39;49m\u001b[43m_load_attr_from_module\u001b[49m\u001b[43m(\u001b[49m\u001b[43mkey\u001b[49m\u001b[43m,\u001b[49m\u001b[43m \u001b[49m\u001b[43mname\u001b[49m\u001b[43m)\u001b[49m\n\u001b[1;32m    782\u001b[0m         \u001b[38;5;28;01mfor\u001b[39;00m key, name \u001b[38;5;129;01min\u001b[39;00m \u001b[38;5;28mself\u001b[39m\u001b[38;5;241m.\u001b[39m_config_mapping\u001b[38;5;241m.\u001b[39mitems()\n\u001b[1;32m    783\u001b[0m         \u001b[38;5;28;01mif\u001b[39;00m key \u001b[38;5;129;01min\u001b[39;00m \u001b[38;5;28mself\u001b[39m\u001b[38;5;241m.\u001b[39m_model_mapping\u001b[38;5;241m.\u001b[39mkeys()\n\u001b[1;32m    784\u001b[0m     ]\n\u001b[1;32m    785\u001b[0m     \u001b[38;5;28;01mreturn\u001b[39;00m mapping_keys \u001b[38;5;241m+\u001b[39m \u001b[38;5;28mlist\u001b[39m(\u001b[38;5;28mself\u001b[39m\u001b[38;5;241m.\u001b[39m_extra_content\u001b[38;5;241m.\u001b[39mkeys())\n",
      "File \u001b[0;32m~/codes/uf/MLops/ai-text-recognition/venv/lib/python3.11/site-packages/transformers/models/auto/auto_factory.py:777\u001b[0m, in \u001b[0;36m_LazyAutoMapping._load_attr_from_module\u001b[0;34m(self, model_type, attr)\u001b[0m\n\u001b[1;32m    775\u001b[0m \u001b[38;5;28;01mif\u001b[39;00m module_name \u001b[38;5;129;01mnot\u001b[39;00m \u001b[38;5;129;01min\u001b[39;00m \u001b[38;5;28mself\u001b[39m\u001b[38;5;241m.\u001b[39m_modules:\n\u001b[1;32m    776\u001b[0m     \u001b[38;5;28mself\u001b[39m\u001b[38;5;241m.\u001b[39m_modules[module_name] \u001b[38;5;241m=\u001b[39m importlib\u001b[38;5;241m.\u001b[39mimport_module(\u001b[38;5;124mf\u001b[39m\u001b[38;5;124m\"\u001b[39m\u001b[38;5;124m.\u001b[39m\u001b[38;5;132;01m{\u001b[39;00mmodule_name\u001b[38;5;132;01m}\u001b[39;00m\u001b[38;5;124m\"\u001b[39m, \u001b[38;5;124m\"\u001b[39m\u001b[38;5;124mtransformers.models\u001b[39m\u001b[38;5;124m\"\u001b[39m)\n\u001b[0;32m--> 777\u001b[0m \u001b[38;5;28;01mreturn\u001b[39;00m \u001b[43mgetattribute_from_module\u001b[49m\u001b[43m(\u001b[49m\u001b[38;5;28;43mself\u001b[39;49m\u001b[38;5;241;43m.\u001b[39;49m\u001b[43m_modules\u001b[49m\u001b[43m[\u001b[49m\u001b[43mmodule_name\u001b[49m\u001b[43m]\u001b[49m\u001b[43m,\u001b[49m\u001b[43m \u001b[49m\u001b[43mattr\u001b[49m\u001b[43m)\u001b[49m\n",
      "File \u001b[0;32m~/codes/uf/MLops/ai-text-recognition/venv/lib/python3.11/site-packages/transformers/models/auto/auto_factory.py:693\u001b[0m, in \u001b[0;36mgetattribute_from_module\u001b[0;34m(module, attr)\u001b[0m\n\u001b[1;32m    691\u001b[0m \u001b[38;5;28;01mif\u001b[39;00m \u001b[38;5;28misinstance\u001b[39m(attr, \u001b[38;5;28mtuple\u001b[39m):\n\u001b[1;32m    692\u001b[0m     \u001b[38;5;28;01mreturn\u001b[39;00m \u001b[38;5;28mtuple\u001b[39m(getattribute_from_module(module, a) \u001b[38;5;28;01mfor\u001b[39;00m a \u001b[38;5;129;01min\u001b[39;00m attr)\n\u001b[0;32m--> 693\u001b[0m \u001b[38;5;28;01mif\u001b[39;00m \u001b[38;5;28mhasattr\u001b[39m(module, attr):\n\u001b[1;32m    694\u001b[0m     \u001b[38;5;28;01mreturn\u001b[39;00m \u001b[38;5;28mgetattr\u001b[39m(module, attr)\n\u001b[1;32m    695\u001b[0m \u001b[38;5;66;03m# Some of the mappings have entries model_type -> object of another model type. In that case we try to grab the\u001b[39;00m\n\u001b[1;32m    696\u001b[0m \u001b[38;5;66;03m# object at the top level.\u001b[39;00m\n",
      "File \u001b[0;32m~/codes/uf/MLops/ai-text-recognition/venv/lib/python3.11/site-packages/transformers/utils/import_utils.py:1805\u001b[0m, in \u001b[0;36m_LazyModule.__getattr__\u001b[0;34m(self, name)\u001b[0m\n\u001b[1;32m   1803\u001b[0m     value \u001b[38;5;241m=\u001b[39m Placeholder\n\u001b[1;32m   1804\u001b[0m \u001b[38;5;28;01melif\u001b[39;00m name \u001b[38;5;129;01min\u001b[39;00m \u001b[38;5;28mself\u001b[39m\u001b[38;5;241m.\u001b[39m_class_to_module\u001b[38;5;241m.\u001b[39mkeys():\n\u001b[0;32m-> 1805\u001b[0m     module \u001b[38;5;241m=\u001b[39m \u001b[38;5;28;43mself\u001b[39;49m\u001b[38;5;241;43m.\u001b[39;49m\u001b[43m_get_module\u001b[49m\u001b[43m(\u001b[49m\u001b[38;5;28;43mself\u001b[39;49m\u001b[38;5;241;43m.\u001b[39;49m\u001b[43m_class_to_module\u001b[49m\u001b[43m[\u001b[49m\u001b[43mname\u001b[49m\u001b[43m]\u001b[49m\u001b[43m)\u001b[49m\n\u001b[1;32m   1806\u001b[0m     value \u001b[38;5;241m=\u001b[39m \u001b[38;5;28mgetattr\u001b[39m(module, name)\n\u001b[1;32m   1807\u001b[0m \u001b[38;5;28;01melif\u001b[39;00m name \u001b[38;5;129;01min\u001b[39;00m \u001b[38;5;28mself\u001b[39m\u001b[38;5;241m.\u001b[39m_modules:\n",
      "File \u001b[0;32m~/codes/uf/MLops/ai-text-recognition/venv/lib/python3.11/site-packages/transformers/utils/import_utils.py:1817\u001b[0m, in \u001b[0;36m_LazyModule._get_module\u001b[0;34m(self, module_name)\u001b[0m\n\u001b[1;32m   1815\u001b[0m \u001b[38;5;28;01mdef\u001b[39;00m\u001b[38;5;250m \u001b[39m\u001b[38;5;21m_get_module\u001b[39m(\u001b[38;5;28mself\u001b[39m, module_name: \u001b[38;5;28mstr\u001b[39m):\n\u001b[1;32m   1816\u001b[0m     \u001b[38;5;28;01mtry\u001b[39;00m:\n\u001b[0;32m-> 1817\u001b[0m         \u001b[38;5;28;01mreturn\u001b[39;00m \u001b[43mimportlib\u001b[49m\u001b[38;5;241;43m.\u001b[39;49m\u001b[43mimport_module\u001b[49m\u001b[43m(\u001b[49m\u001b[38;5;124;43m\"\u001b[39;49m\u001b[38;5;124;43m.\u001b[39;49m\u001b[38;5;124;43m\"\u001b[39;49m\u001b[43m \u001b[49m\u001b[38;5;241;43m+\u001b[39;49m\u001b[43m \u001b[49m\u001b[43mmodule_name\u001b[49m\u001b[43m,\u001b[49m\u001b[43m \u001b[49m\u001b[38;5;28;43mself\u001b[39;49m\u001b[38;5;241;43m.\u001b[39;49m\u001b[38;5;18;43m__name__\u001b[39;49m\u001b[43m)\u001b[49m\n\u001b[1;32m   1818\u001b[0m     \u001b[38;5;28;01mexcept\u001b[39;00m \u001b[38;5;167;01mException\u001b[39;00m \u001b[38;5;28;01mas\u001b[39;00m e:\n\u001b[1;32m   1819\u001b[0m         \u001b[38;5;28;01mraise\u001b[39;00m \u001b[38;5;167;01mRuntimeError\u001b[39;00m(\n\u001b[1;32m   1820\u001b[0m             \u001b[38;5;124mf\u001b[39m\u001b[38;5;124m\"\u001b[39m\u001b[38;5;124mFailed to import \u001b[39m\u001b[38;5;132;01m{\u001b[39;00m\u001b[38;5;28mself\u001b[39m\u001b[38;5;241m.\u001b[39m\u001b[38;5;18m__name__\u001b[39m\u001b[38;5;132;01m}\u001b[39;00m\u001b[38;5;124m.\u001b[39m\u001b[38;5;132;01m{\u001b[39;00mmodule_name\u001b[38;5;132;01m}\u001b[39;00m\u001b[38;5;124m because of the following error (look up to see its\u001b[39m\u001b[38;5;124m\"\u001b[39m\n\u001b[1;32m   1821\u001b[0m             \u001b[38;5;124mf\u001b[39m\u001b[38;5;124m\"\u001b[39m\u001b[38;5;124m traceback):\u001b[39m\u001b[38;5;130;01m\\n\u001b[39;00m\u001b[38;5;132;01m{\u001b[39;00me\u001b[38;5;132;01m}\u001b[39;00m\u001b[38;5;124m\"\u001b[39m\n\u001b[1;32m   1822\u001b[0m         ) \u001b[38;5;28;01mfrom\u001b[39;00m\u001b[38;5;250m \u001b[39m\u001b[38;5;21;01me\u001b[39;00m\n",
      "File \u001b[0;32m/usr/lib/python3.11/importlib/__init__.py:126\u001b[0m, in \u001b[0;36mimport_module\u001b[0;34m(name, package)\u001b[0m\n\u001b[1;32m    124\u001b[0m             \u001b[38;5;28;01mbreak\u001b[39;00m\n\u001b[1;32m    125\u001b[0m         level \u001b[38;5;241m+\u001b[39m\u001b[38;5;241m=\u001b[39m \u001b[38;5;241m1\u001b[39m\n\u001b[0;32m--> 126\u001b[0m \u001b[38;5;28;01mreturn\u001b[39;00m \u001b[43m_bootstrap\u001b[49m\u001b[38;5;241;43m.\u001b[39;49m\u001b[43m_gcd_import\u001b[49m\u001b[43m(\u001b[49m\u001b[43mname\u001b[49m\u001b[43m[\u001b[49m\u001b[43mlevel\u001b[49m\u001b[43m:\u001b[49m\u001b[43m]\u001b[49m\u001b[43m,\u001b[49m\u001b[43m \u001b[49m\u001b[43mpackage\u001b[49m\u001b[43m,\u001b[49m\u001b[43m \u001b[49m\u001b[43mlevel\u001b[49m\u001b[43m)\u001b[49m\n",
      "File \u001b[0;32m<frozen importlib._bootstrap>:1206\u001b[0m, in \u001b[0;36m_gcd_import\u001b[0;34m(name, package, level)\u001b[0m\n",
      "File \u001b[0;32m<frozen importlib._bootstrap>:1175\u001b[0m, in \u001b[0;36m_find_and_load\u001b[0;34m(name, import_)\u001b[0m\n",
      "File \u001b[0;32m<frozen importlib._bootstrap>:165\u001b[0m, in \u001b[0;36m__init__\u001b[0;34m(self, name)\u001b[0m\n",
      "\u001b[0;31mKeyboardInterrupt\u001b[0m: "
     ]
    }
   ],
   "source": [
    "model_name = \"bert-base-uncased\"  # Modelo BERT pré-treinado\n",
    "tokenizer = AutoTokenizer.from_pretrained(model_name)\n",
    "model = AutoModel.from_pretrained(model_name)\n",
    "\n",
    "device = torch.device(\"cuda\" if torch.cuda.is_available() else \"cpu\")\n",
    "device = torch.device(\"cpu\")\n",
    "model.to(device)\n",
    "\n",
    "def generate_embeddings(texts, tokenizer, model, device):\n",
    "    embeddings = []\n",
    "    for text in texts:\n",
    "        inputs = tokenizer(text, return_tensors=\"pt\", truncation=True, padding=\"max_length\", max_length=128)\n",
    "        inputs = {key: value.to(device) for key, value in inputs.items()}\n",
    "        \n",
    "        with torch.no_grad():\n",
    "            outputs = model(**inputs)\n",
    "        \n",
    "        cls_embedding = outputs.last_hidden_state[:, 0, :]  # O CLS token está na posição 0\n",
    "        embeddings.append(cls_embedding.cpu().numpy())\n",
    "    \n",
    "    # Concatenar todos os embeddings em um array\n",
    "    return torch.cat(embeddings).numpy()\n",
    "\n",
    "# Aplicar a função ao DataFrame\n",
    "df_balanced['embeddings'] = generate_embeddings(df_balanced['clean_text'], tokenizer, model, device)\n",
    "\n",
    "# Exibir os resultados\n",
    "print(df_balanced[['clean_text', 'embeddings']])\n"
   ]
  },
  {
   "cell_type": "code",
   "execution_count": 15,
   "metadata": {},
   "outputs": [],
   "source": [
    "df_balanced.to_csv('../data/preprocessed/df_embedded.csv')"
   ]
  },
  {
   "cell_type": "markdown",
   "metadata": {},
   "source": [
    "### Weights and bias"
   ]
  },
  {
   "cell_type": "code",
   "execution_count": 17,
   "metadata": {},
   "outputs": [],
   "source": [
    "import wandb\n",
    "\n",
    "import params"
   ]
  },
  {
   "cell_type": "code",
   "execution_count": 18,
   "metadata": {},
   "outputs": [
    {
     "name": "stdout",
     "output_type": "stream",
     "text": [
      "\u001b[34m\u001b[1mwandb\u001b[0m: Currently logged in as: \u001b[33mpedro_miguel\u001b[0m (\u001b[33mpedro_miguel-universidade-federal-do-rio-grande-do-norte\u001b[0m). Use \u001b[1m`wandb login --relogin`\u001b[0m to force relogin\n"
     ]
    }
   ],
   "source": [
    "!wandb login"
   ]
  },
  {
   "cell_type": "code",
   "execution_count": 19,
   "metadata": {},
   "outputs": [
    {
     "name": "stderr",
     "output_type": "stream",
     "text": [
      "\u001b[34m\u001b[1mwandb\u001b[0m: Currently logged in as: \u001b[33mpedro_miguel\u001b[0m (\u001b[33mpedro_miguel-universidade-federal-do-rio-grande-do-norte\u001b[0m). Use \u001b[1m`wandb login --relogin`\u001b[0m to force relogin\n",
      "\u001b[34m\u001b[1mwandb\u001b[0m: Using wandb-core as the SDK backend.  Please refer to https://wandb.me/wandb-core for more information.\n"
     ]
    },
    {
     "data": {
      "text/html": [
       "Tracking run with wandb version 0.19.4"
      ],
      "text/plain": [
       "<IPython.core.display.HTML object>"
      ]
     },
     "metadata": {},
     "output_type": "display_data"
    },
    {
     "data": {
      "text/html": [
       "Run data is saved locally in <code>/home/carburauto/codes/uf/MLops/ai-text-recognition/notebooks/wandb/run-20250122_152827-am7cfog3</code>"
      ],
      "text/plain": [
       "<IPython.core.display.HTML object>"
      ]
     },
     "metadata": {},
     "output_type": "display_data"
    },
    {
     "data": {
      "text/html": [
       "Syncing run <strong><a href='https://wandb.ai/pedro_miguel-universidade-federal-do-rio-grande-do-norte/llm-detect/runs/am7cfog3' target=\"_blank\">exalted-disco-6</a></strong> to <a href='https://wandb.ai/pedro_miguel-universidade-federal-do-rio-grande-do-norte/llm-detect' target=\"_blank\">Weights & Biases</a> (<a href='https://wandb.me/developer-guide' target=\"_blank\">docs</a>)<br>"
      ],
      "text/plain": [
       "<IPython.core.display.HTML object>"
      ]
     },
     "metadata": {},
     "output_type": "display_data"
    },
    {
     "data": {
      "text/html": [
       " View project at <a href='https://wandb.ai/pedro_miguel-universidade-federal-do-rio-grande-do-norte/llm-detect' target=\"_blank\">https://wandb.ai/pedro_miguel-universidade-federal-do-rio-grande-do-norte/llm-detect</a>"
      ],
      "text/plain": [
       "<IPython.core.display.HTML object>"
      ]
     },
     "metadata": {},
     "output_type": "display_data"
    },
    {
     "data": {
      "text/html": [
       " View run at <a href='https://wandb.ai/pedro_miguel-universidade-federal-do-rio-grande-do-norte/llm-detect/runs/am7cfog3' target=\"_blank\">https://wandb.ai/pedro_miguel-universidade-federal-do-rio-grande-do-norte/llm-detect/runs/am7cfog3</a>"
      ],
      "text/plain": [
       "<IPython.core.display.HTML object>"
      ]
     },
     "metadata": {},
     "output_type": "display_data"
    },
    {
     "data": {
      "text/html": [
       "<button onClick=\"this.nextSibling.style.display='block';this.style.display='none';\">Display W&B run</button><iframe src='https://wandb.ai/pedro_miguel-universidade-federal-do-rio-grande-do-norte/llm-detect/runs/am7cfog3?jupyter=true' style='border:none;width:100%;height:420px;display:none;'></iframe>"
      ],
      "text/plain": [
       "<wandb.sdk.wandb_run.Run at 0x7fa24f9383d0>"
      ]
     },
     "execution_count": 19,
     "metadata": {},
     "output_type": "execute_result"
    }
   ],
   "source": [
    "wandb.init(project=params.WANDB_PROJECT)"
   ]
  },
  {
   "cell_type": "code",
   "execution_count": 20,
   "metadata": {},
   "outputs": [],
   "source": [
    "external_raw_data_artifact = wandb.Artifact(\"daigt_proper_train_dataset\", type=\"raw\")\n",
    "external_dataset_artifact = wandb.Artifact(\"drcat_data\", type=\"dataset\")"
   ]
  },
  {
   "cell_type": "code",
   "execution_count": 21,
   "metadata": {},
   "outputs": [
    {
     "ename": "ValueError",
     "evalue": "Path is not a file: '../data/raw/daigt-proper-train-dataset.zip'",
     "output_type": "error",
     "traceback": [
      "\u001b[0;31m---------------------------------------------------------------------------\u001b[0m",
      "\u001b[0;31mValueError\u001b[0m                                Traceback (most recent call last)",
      "Cell \u001b[0;32mIn[21], line 1\u001b[0m\n\u001b[0;32m----> 1\u001b[0m \u001b[43mexternal_raw_data_artifact\u001b[49m\u001b[38;5;241;43m.\u001b[39;49m\u001b[43madd_file\u001b[49m\u001b[43m(\u001b[49m\u001b[38;5;124;43m'\u001b[39;49m\u001b[38;5;124;43m../data/raw/daigt-proper-train-dataset.zip\u001b[39;49m\u001b[38;5;124;43m'\u001b[39;49m\u001b[43m)\u001b[49m\n\u001b[1;32m      3\u001b[0m \u001b[38;5;28;01mfor\u001b[39;00m i \u001b[38;5;129;01min\u001b[39;00m \u001b[38;5;28mrange\u001b[39m(\u001b[38;5;241m1\u001b[39m, \u001b[38;5;241m5\u001b[39m):\n\u001b[1;32m      4\u001b[0m     external_dataset_artifact\u001b[38;5;241m.\u001b[39madd_file(\u001b[38;5;124mf\u001b[39m\u001b[38;5;124m'\u001b[39m\u001b[38;5;124m../data/inter/train_drcat_0\u001b[39m\u001b[38;5;132;01m{\u001b[39;00mi\u001b[38;5;132;01m}\u001b[39;00m\u001b[38;5;124m.csv\u001b[39m\u001b[38;5;124m'\u001b[39m)\n",
      "File \u001b[0;32m~/codes/uf/MLops/ai-text-recognition/venv/lib/python3.11/site-packages/wandb/sdk/artifacts/_validators.py:115\u001b[0m, in \u001b[0;36mensure_not_finalized.<locals>.wrapper\u001b[0;34m(self, *args, **kwargs)\u001b[0m\n\u001b[1;32m    113\u001b[0m \u001b[38;5;28;01mif\u001b[39;00m \u001b[38;5;28mself\u001b[39m\u001b[38;5;241m.\u001b[39m_final:\n\u001b[1;32m    114\u001b[0m     \u001b[38;5;28;01mraise\u001b[39;00m ArtifactFinalizedError(fullname\u001b[38;5;241m=\u001b[39mmethod_fullname, obj\u001b[38;5;241m=\u001b[39m\u001b[38;5;28mself\u001b[39m)\n\u001b[0;32m--> 115\u001b[0m \u001b[38;5;28;01mreturn\u001b[39;00m \u001b[43mmethod\u001b[49m\u001b[43m(\u001b[49m\u001b[38;5;28;43mself\u001b[39;49m\u001b[43m,\u001b[49m\u001b[43m \u001b[49m\u001b[38;5;241;43m*\u001b[39;49m\u001b[43margs\u001b[49m\u001b[43m,\u001b[49m\u001b[43m \u001b[49m\u001b[38;5;241;43m*\u001b[39;49m\u001b[38;5;241;43m*\u001b[39;49m\u001b[43mkwargs\u001b[49m\u001b[43m)\u001b[49m\n",
      "File \u001b[0;32m~/codes/uf/MLops/ai-text-recognition/venv/lib/python3.11/site-packages/wandb/sdk/artifacts/artifact.py:1189\u001b[0m, in \u001b[0;36mArtifact.add_file\u001b[0;34m(self, local_path, name, is_tmp, skip_cache, policy, overwrite)\u001b[0m\n\u001b[1;32m   1166\u001b[0m \u001b[38;5;250m\u001b[39m\u001b[38;5;124;03m\"\"\"Add a local file to the artifact.\u001b[39;00m\n\u001b[1;32m   1167\u001b[0m \n\u001b[1;32m   1168\u001b[0m \u001b[38;5;124;03mArgs:\u001b[39;00m\n\u001b[0;32m   (...)\u001b[0m\n\u001b[1;32m   1186\u001b[0m \u001b[38;5;124;03m    ValueError: Policy must be \"mutable\" or \"immutable\"\u001b[39;00m\n\u001b[1;32m   1187\u001b[0m \u001b[38;5;124;03m\"\"\"\u001b[39;00m\n\u001b[1;32m   1188\u001b[0m \u001b[38;5;28;01mif\u001b[39;00m \u001b[38;5;129;01mnot\u001b[39;00m os\u001b[38;5;241m.\u001b[39mpath\u001b[38;5;241m.\u001b[39misfile(local_path):\n\u001b[0;32m-> 1189\u001b[0m     \u001b[38;5;28;01mraise\u001b[39;00m \u001b[38;5;167;01mValueError\u001b[39;00m(\u001b[38;5;124mf\u001b[39m\u001b[38;5;124m\"\u001b[39m\u001b[38;5;124mPath is not a file: \u001b[39m\u001b[38;5;132;01m{\u001b[39;00mlocal_path\u001b[38;5;132;01m!r}\u001b[39;00m\u001b[38;5;124m\"\u001b[39m)\n\u001b[1;32m   1191\u001b[0m name \u001b[38;5;241m=\u001b[39m LogicalPath(name \u001b[38;5;129;01mor\u001b[39;00m os\u001b[38;5;241m.\u001b[39mpath\u001b[38;5;241m.\u001b[39mbasename(local_path))\n\u001b[1;32m   1192\u001b[0m digest \u001b[38;5;241m=\u001b[39m md5_file_b64(local_path)\n",
      "\u001b[0;31mValueError\u001b[0m: Path is not a file: '../data/raw/daigt-proper-train-dataset.zip'"
     ]
    }
   ],
   "source": [
    "external_raw_data_artifact.add_file('../data/raw/daigt-proper-train-dataset.zip')\n",
    "\n",
    "for i in range(1, 5):\n",
    "    external_dataset_artifact.add_file(f'../data/inter/train_drcat_0{i}.csv')"
   ]
  },
  {
   "cell_type": "code",
   "execution_count": null,
   "metadata": {},
   "outputs": [],
   "source": [
    "wandb.log_artifact(external_raw_data_artifact)\n",
    "wandb.log_artifact(external_dataset_artifact)"
   ]
  },
  {
   "cell_type": "code",
   "execution_count": null,
   "metadata": {},
   "outputs": [],
   "source": [
    "table = wandb.Table(dataframe=df)\n",
    "wandb.log({\"Cleaned and merged data\": table})"
   ]
  },
  {
   "cell_type": "code",
   "execution_count": 19,
   "metadata": {},
   "outputs": [
    {
     "data": {
      "image/png": "[encoded data removed]",
      "text/plain": [
       "<Figure size 640x480 with 1 Axes>"
      ]
     },
     "metadata": {},
     "output_type": "display_data"
    }
   ],
   "source": [
    "data = {'Generated': 1375, 'Not Generated': 3}\n",
    "\n",
    "fig, ax = plt.subplots()\n",
    "plt.hist(df['label'], bins=2, color='#4c72b0', edgecolor='black', alpha=0.7)\n",
    "ax.set_title('Labels', fontsize=16, fontweight='bold')\n",
    "ax.set_xlabel('Valores', fontsize=12)\n",
    "ax.set_ylabel('Frequência', fontsize=12)\n",
    "ax.grid(True, linestyle='--', alpha=0.6)\n",
    "\n",
    "wandb.log({\"Merged data distribution\": wandb.Image(fig)})"
   ]
  },
  {
   "cell_type": "code",
   "execution_count": 20,
   "metadata": {},
   "outputs": [],
   "source": [
    "wandb.log({\n",
    "    \"Balanced data distribuition\": wandb.Html(\"\"\"\n",
    "        <h3>Merged banlanced data set analysis</h3>\n",
    "        <p> After the preprocessing, merging and the dropping of random samples of the dataset, it is\n",
    "        <strong>balanced an ready to be used for training the model,</strong> each label has now 19256 samples.\n",
    "        Next step is the model building</p>     \n",
    "\"\"\")\n",
    "})"
   ]
  },
  {
   "cell_type": "code",
   "execution_count": 21,
   "metadata": {},
   "outputs": [
    {
     "data": {
      "text/plain": [
       "<Artifact balanced_data>"
      ]
     },
     "execution_count": 21,
     "metadata": {},
     "output_type": "execute_result"
    }
   ],
   "source": [
    "balanced_data_artifact = wandb.Artifact(\"balanced_data\", type=\"dataset\")\n",
    "balanced_data_artifact.add_file(\"../data/preprocessed/balanced.csv\")\n",
    "\n",
    "wandb.log_artifact(balanced_data_artifact)"
   ]
  },
  {
   "cell_type": "code",
   "execution_count": 22,
   "metadata": {},
   "outputs": [
    {
     "data": {
      "text/plain": [
       "<Artifact embedded_df>"
      ]
     },
     "execution_count": 22,
     "metadata": {},
     "output_type": "execute_result"
    }
   ],
   "source": [
    "embedded_data_artifact = wandb.Artifact(\"embedded_df\", type=\"dataset\")\n",
    "embedded_data_artifact.add_file(\"../data/preprocessed/embedded.csv\")\n",
    "\n",
    "wandb.log_artifact(embedded_data_artifact)"
   ]
  },
  {
   "cell_type": "code",
   "execution_count": 23,
   "metadata": {},
   "outputs": [
    {
     "data": {
      "text/html": [],
      "text/plain": [
       "<IPython.core.display.HTML object>"
      ]
     },
     "metadata": {},
     "output_type": "display_data"
    },
    {
     "data": {
      "text/html": [
       " View run <strong style=\"color:#cdcd00\">exalted-disco-6</strong> at: <a href='https://wandb.ai/pedro_miguel-universidade-federal-do-rio-grande-do-norte/llm-detect/runs/am7cfog3' target=\"_blank\">https://wandb.ai/pedro_miguel-universidade-federal-do-rio-grande-do-norte/llm-detect/runs/am7cfog3</a><br> View project at: <a href='https://wandb.ai/pedro_miguel-universidade-federal-do-rio-grande-do-norte/llm-detect' target=\"_blank\">https://wandb.ai/pedro_miguel-universidade-federal-do-rio-grande-do-norte/llm-detect</a><br>Synced 5 W&B file(s), 0 media file(s), 0 artifact file(s) and 0 other file(s)"
      ],
      "text/plain": [
       "<IPython.core.display.HTML object>"
      ]
     },
     "metadata": {},
     "output_type": "display_data"
    },
    {
     "data": {
      "text/html": [
       "Find logs at: <code>./wandb/run-20250122_152827-am7cfog3/logs</code>"
      ],
      "text/plain": [
       "<IPython.core.display.HTML object>"
      ]
     },
     "metadata": {},
     "output_type": "display_data"
    }
   ],
   "source": [
    "wandb.finish()"
   ]
  }
 ],
 "metadata": {
  "kernelspec": {
   "display_name": "base",
   "language": "python",
   "name": "python3"
  },
  "language_info": {
   "codemirror_mode": {
    "name": "ipython",
    "version": 3
   },
   "file_extension": ".py",
   "mimetype": "text/x-python",
   "name": "python",
   "nbconvert_exporter": "python",
   "pygments_lexer": "ipython3",
   "version": "3.11.5"
  }
 },
 "nbformat": 4,
 "nbformat_minor": 2
}
