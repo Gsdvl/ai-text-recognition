{
 "cells": [
  {
   "cell_type": "markdown",
   "metadata": {},
   "source": [
    "# Preprocessing"
   ]
  },
  {
   "cell_type": "code",
   "execution_count": 1,
   "metadata": {},
   "outputs": [],
   "source": [
    "import pandas as pd\n",
    "import re\n",
    "import json\n",
    "from sklearn.pipeline import Pipeline\n",
    "from sklearn.preprocessing import FunctionTransformer\n",
    "import unicodedata\n",
    "import spacy\n",
    "from typing import List\n",
    "from sklearn.model_selection import train_test_split\n",
    "from sklearn.feature_extraction.text import TfidfVectorizer\n",
    "import matplotlib.pyplot as plt\n",
    "import numpy as np\n",
    "import torch\n",
    "import wandb\n",
    "from transformers import AutoTokenizer, AutoModel\n",
    "\n"
   ]
  },
  {
   "cell_type": "code",
   "execution_count": 2,
   "metadata": {},
   "outputs": [],
   "source": [
    "path = \"../data/inter/train_drcat_\""
   ]
  },
  {
   "cell_type": "code",
   "execution_count": 3,
   "metadata": {},
   "outputs": [],
   "source": [
    "drcat_01 = pd.read_csv(path + \"01.csv\")\n",
    "drcat_02 = pd.read_csv(path + \"02.csv\")\n",
    "drcat_03 = pd.read_csv(path + \"03.csv\")\n",
    "drcat_04 = pd.read_csv(path + \"04.csv\")"
   ]
  },
  {
   "cell_type": "code",
   "execution_count": 4,
   "metadata": {},
   "outputs": [
    {
     "data": {
      "text/html": [
       "<div>\n",
       "<style scoped>\n",
       "    .dataframe tbody tr th:only-of-type {\n",
       "        vertical-align: middle;\n",
       "    }\n",
       "\n",
       "    .dataframe tbody tr th {\n",
       "        vertical-align: top;\n",
       "    }\n",
       "\n",
       "    .dataframe thead th {\n",
       "        text-align: right;\n",
       "    }\n",
       "</style>\n",
       "<table border=\"1\" class=\"dataframe\">\n",
       "  <thead>\n",
       "    <tr style=\"text-align: right;\">\n",
       "      <th></th>\n",
       "      <th>text</th>\n",
       "      <th>label</th>\n",
       "      <th>source</th>\n",
       "      <th>fold</th>\n",
       "    </tr>\n",
       "  </thead>\n",
       "  <tbody>\n",
       "    <tr>\n",
       "      <th>0</th>\n",
       "      <td>There are alot reasons to keep our the despise...</td>\n",
       "      <td>0</td>\n",
       "      <td>persuade_corpus</td>\n",
       "      <td>2</td>\n",
       "    </tr>\n",
       "    <tr>\n",
       "      <th>1</th>\n",
       "      <td>Driving smart cars that drive by themself has ...</td>\n",
       "      <td>0</td>\n",
       "      <td>persuade_corpus</td>\n",
       "      <td>4</td>\n",
       "    </tr>\n",
       "    <tr>\n",
       "      <th>2</th>\n",
       "      <td>Dear Principal,\\n\\nI believe that students at ...</td>\n",
       "      <td>0</td>\n",
       "      <td>persuade_corpus</td>\n",
       "      <td>0</td>\n",
       "    </tr>\n",
       "    <tr>\n",
       "      <th>3</th>\n",
       "      <td>Dear Principal,\\n\\nCommunity service should no...</td>\n",
       "      <td>0</td>\n",
       "      <td>persuade_corpus</td>\n",
       "      <td>0</td>\n",
       "    </tr>\n",
       "    <tr>\n",
       "      <th>4</th>\n",
       "      <td>My argument for the development of the driverl...</td>\n",
       "      <td>0</td>\n",
       "      <td>persuade_corpus</td>\n",
       "      <td>3</td>\n",
       "    </tr>\n",
       "  </tbody>\n",
       "</table>\n",
       "</div>"
      ],
      "text/plain": [
       "                                                text  label           source  \\\n",
       "0  There are alot reasons to keep our the despise...      0  persuade_corpus   \n",
       "1  Driving smart cars that drive by themself has ...      0  persuade_corpus   \n",
       "2  Dear Principal,\\n\\nI believe that students at ...      0  persuade_corpus   \n",
       "3  Dear Principal,\\n\\nCommunity service should no...      0  persuade_corpus   \n",
       "4  My argument for the development of the driverl...      0  persuade_corpus   \n",
       "\n",
       "   fold  \n",
       "0     2  \n",
       "1     4  \n",
       "2     0  \n",
       "3     0  \n",
       "4     3  "
      ]
     },
     "execution_count": 4,
     "metadata": {},
     "output_type": "execute_result"
    }
   ],
   "source": [
    "drcat_01.head()"
   ]
  },
  {
   "cell_type": "code",
   "execution_count": 5,
   "metadata": {},
   "outputs": [
    {
     "name": "stdout",
     "output_type": "stream",
     "text": [
      "Collecting en-core-web-sm==3.8.0\n",
      "  Downloading https://github.com/explosion/spacy-models/releases/download/en_core_web_sm-3.8.0/en_core_web_sm-3.8.0-py3-none-any.whl (12.8 MB)\n",
      "     ---------------------------------------- 0.0/12.8 MB ? eta -:--:--\n",
      "     ---------------------------------------- 0.0/12.8 MB ? eta -:--:--\n",
      "     --------------------------------------- 0.0/12.8 MB 393.8 kB/s eta 0:00:33\n",
      "     - -------------------------------------- 0.4/12.8 MB 2.7 MB/s eta 0:00:05\n",
      "     --- ------------------------------------ 1.0/12.8 MB 5.2 MB/s eta 0:00:03\n",
      "     ----- ---------------------------------- 1.8/12.8 MB 7.7 MB/s eta 0:00:02\n",
      "     -------- ------------------------------- 2.9/12.8 MB 10.1 MB/s eta 0:00:01\n",
      "     ------------- -------------------------- 4.2/12.8 MB 12.8 MB/s eta 0:00:01\n",
      "     ------------------ --------------------- 5.9/12.8 MB 15.8 MB/s eta 0:00:01\n",
      "     -------------------------- ------------- 8.3/12.8 MB 19.7 MB/s eta 0:00:01\n",
      "     ------------------------------- ------- 10.5/12.8 MB 31.2 MB/s eta 0:00:01\n",
      "     ------------------------------- ------- 10.5/12.8 MB 31.2 MB/s eta 0:00:01\n",
      "     --------------------------------------  12.8/12.8 MB 36.4 MB/s eta 0:00:01\n",
      "     --------------------------------------  12.8/12.8 MB 36.4 MB/s eta 0:00:01\n",
      "     --------------------------------------- 12.8/12.8 MB 27.3 MB/s eta 0:00:00\n",
      "\u001b[38;5;2m✔ Download and installation successful\u001b[0m\n",
      "You can now load the package via spacy.load('en_core_web_sm')\n"
     ]
    }
   ],
   "source": [
    "!python -m spacy download en_core_web_sm\n"
   ]
  },
  {
   "cell_type": "code",
   "execution_count": 6,
   "metadata": {},
   "outputs": [],
   "source": [
    "def remove_excessive_spaces(text: str) -> str:\n",
    "    \"\"\"\n",
    "    This function removes excessive spaces from the text.\n",
    "\n",
    "    Args:\n",
    "        text (str): The input text.\n",
    "\n",
    "    Returns:\n",
    "        str: The text with excessive spaces removed.\n",
    "    \"\"\"\n",
    "    return re.sub(r'\\s+', ' ', text).strip() \n",
    "\n",
    "def remove_repeated_non_word_characters(text: str) -> str:\n",
    "    \"\"\"\n",
    "    This function removes repeated non-word characters from the text.\n",
    "\n",
    "    Args:\n",
    "        text (str): The input text.\n",
    "\n",
    "    Returns:\n",
    "        str: The text with repeated non-word characters removed.\n",
    "    \"\"\"\n",
    "    return re.sub(r'(\\W)\\1+', r'\\1', text).strip()\n",
    "\n",
    "def remove_first_line_from_text(text: str) -> str:\n",
    "    \"\"\"\n",
    "    This function removes the first line from the text.\n",
    "\n",
    "    Args:\n",
    "        text (str): The input text.\n",
    "\n",
    "    Returns:\n",
    "        str: The text with the first line removed.\n",
    "    \"\"\"\n",
    "    return re.sub(r'^.*\\n', '', text).strip()\n",
    "\n",
    "def remove_last_line_from_text(text: str) -> str:\n",
    "    \"\"\"\n",
    "    This function removes the last line from the text.\n",
    "\n",
    "    Args:\n",
    "        text (str): The input text.\n",
    "\n",
    "    Returns:\n",
    "        str: The text with the last line removed.\n",
    "    \"\"\"\n",
    "    return re.sub(r'\\n.*$', '', text).strip()\n",
    "\n",
    "def fix_isolated_commas_in_text(text: str) -> str:\n",
    "    \"\"\"\n",
    "    This function fixes isolated commas in the text.\n",
    "\n",
    "    Args:\n",
    "        text (str): The input text.\n",
    "\n",
    "    Returns:\n",
    "        str: The text with isolated commas fixed.\n",
    "    \"\"\"\n",
    "    text = re.sub(r' ([.,:;!?])', r'\\1', text)\n",
    "    return text.strip()\n",
    "\n",
    "def keep_words_longer_than(text: str, min_length: int = 2) -> str:\n",
    "    \"\"\"\n",
    "    This function keeps only the words in the text that are longer than a given length.\n",
    "\n",
    "    Args:\n",
    "        text (str): The input text.\n",
    "        min_length (int, optional): The minimum length of the words to keep. Defaults to 2.\n",
    "\n",
    "    Returns:\n",
    "        str: The text with only the words longer than the given length.\n",
    "    \"\"\"\n",
    "    return ' '.join([word for word in text.split() if len(word) > min_length])\n",
    "\n",
    "def keep_only_alphabet_characters(text: str) -> str:\n",
    "    \"\"\"\n",
    "    This function keeps only the alphabet characters in the text.\n",
    "\n",
    "    Args:\n",
    "        text (str): The input text.\n",
    "\n",
    "    Returns:\n",
    "        str: The text with only the alphabet characters.\n",
    "    \"\"\"\n",
    "    return re.sub(r'[^a-zA-Z]', ' ', text).strip()\n",
    "\n",
    "def remove_accents_from_text(text: str) -> str:\n",
    "    \"\"\"\n",
    "    This function removes accents from the text.\n",
    "\n",
    "    Args:\n",
    "        text (str): The input text.\n",
    "\n",
    "    Returns:\n",
    "        str: The text with accents removed.\n",
    "    \"\"\"\n",
    "    return unicodedata.normalize('NFKD', text).encode('ASCII', 'ignore').decode('ASCII')\n",
    "\n",
    "def lemmatize_text_with_spacy(text: str) -> str:\n",
    "    \"\"\"\n",
    "    This function lemmatizes the text using the Spacy library.\n",
    "\n",
    "    Args:\n",
    "        text (str): The input text.\n",
    "\n",
    "    Returns:\n",
    "        str: The lemmatized text.\n",
    "    \"\"\"\n",
    "    doc = nlp_spacy(text)\n",
    "    return ' '.join([token.lemma_ for token in doc])\n",
    "\n",
    "\n",
    "pipeline_clean_text = Pipeline([\n",
    "    ('remove_first_line_from_text', FunctionTransformer(remove_first_line_from_text)),\n",
    "    ('remove_last_line_from_text', FunctionTransformer(remove_last_line_from_text)),\n",
    "    ('remove_excessive_spaces', FunctionTransformer(remove_excessive_spaces)),\n",
    "    ('remove_repeated_non_word_characters', FunctionTransformer(remove_repeated_non_word_characters)),\n",
    "    ('fix_isolated_commas_in_text', FunctionTransformer(fix_isolated_commas_in_text)),\n",
    "])\n",
    "\n",
    "nlp_spacy = spacy.load('en_core_web_sm')"
   ]
  },
  {
   "cell_type": "code",
   "execution_count": 7,
   "metadata": {},
   "outputs": [],
   "source": [
    "drcat_01['clean_text'] = drcat_01['text'].apply(pipeline_clean_text.transform)\n",
    "drcat_02['clean_text'] = drcat_02['text'].apply(pipeline_clean_text.transform)\n",
    "drcat_03['clean_text'] = drcat_03['text'].apply(pipeline_clean_text.transform)\n",
    "drcat_04['clean_text'] = drcat_04['text'].apply(pipeline_clean_text.transform)"
   ]
  },
  {
   "cell_type": "code",
   "execution_count": 8,
   "metadata": {},
   "outputs": [],
   "source": [
    "df = pd.concat([drcat_01, drcat_02, drcat_03, drcat_04], axis=0, ignore_index=True)\n",
    "df = df.drop(columns=['essay_id','source','fold'])\n",
    "df = df.drop_duplicates()"
   ]
  },
  {
   "cell_type": "code",
   "execution_count": 9,
   "metadata": {},
   "outputs": [
    {
     "data": {
      "text/plain": [
       "Index(['text', 'label', 'clean_text', 'prompt'], dtype='object')"
      ]
     },
     "execution_count": 9,
     "metadata": {},
     "output_type": "execute_result"
    }
   ],
   "source": [
    "df.columns"
   ]
  },
  {
   "cell_type": "code",
   "execution_count": 10,
   "metadata": {},
   "outputs": [
    {
     "data": {
      "image/png": "[encoded data removed]",
      "text/plain": [
       "<Figure size 640x480 with 1 Axes>"
      ]
     },
     "metadata": {},
     "output_type": "display_data"
    },
    {
     "name": "stdout",
     "output_type": "stream",
     "text": [
      "label\n",
      "0    29792\n",
      "1    19256\n",
      "Name: count, dtype: int64\n"
     ]
    }
   ],
   "source": [
    "plt.hist(df['label'], bins=2, color='#4c72b0', edgecolor='black', alpha=0.7)\n",
    "plt.title('Labels', fontsize=16, fontweight='bold')\n",
    "plt.xlabel('Valores', fontsize=12)\n",
    "plt.ylabel('Frequência', fontsize=12)\n",
    "plt.grid(True, linestyle='--', alpha=0.6)\n",
    "plt.tight_layout()\n",
    "plt.show()\n",
    "\n",
    "print(df['label'].value_counts())"
   ]
  },
  {
   "cell_type": "code",
   "execution_count": 11,
   "metadata": {},
   "outputs": [
    {
     "name": "stdout",
     "output_type": "stream",
     "text": [
      "Contagem original dos rótulos:\n",
      "label\n",
      "0    29792\n",
      "1    19256\n",
      "Name: count, dtype: int64\n",
      "\n",
      "Contagem balanceada dos rótulos:\n",
      "label\n",
      "1    19256\n",
      "0    19256\n",
      "Name: count, dtype: int64\n"
     ]
    }
   ],
   "source": [
    "counts = df['label'].value_counts()\n",
    "print(\"Contagem original dos rótulos:\")\n",
    "print(counts)\n",
    "\n",
    "min_label_count = counts.min()\n",
    "\n",
    "df_minority = df[df['label'] == counts.idxmin()]\n",
    "df_majority = df[df['label'] == counts.idxmax()]\n",
    "\n",
    "\n",
    "df_majority_balanced = df_majority.sample(n=min_label_count, random_state=42)\n",
    "\n",
    "\n",
    "df_balanced = pd.concat([df_minority, df_majority_balanced], axis=0)\n",
    "\n",
    "print(\"\\nContagem balanceada dos rótulos:\")\n",
    "print(df_balanced['label'].value_counts())"
   ]
  },
  {
   "cell_type": "code",
   "execution_count": 12,
   "metadata": {},
   "outputs": [],
   "source": [
    "train_df, test_df = train_test_split(df, test_size=0.1, random_state=42)"
   ]
  },
  {
   "cell_type": "code",
   "execution_count": 26,
   "metadata": {},
   "outputs": [],
   "source": [
    "df_balanced.to_csv('../data/preprocessed/balanced.csv', index=False)\n",
    "train_df.to_csv('../data/preprocessed/train.csv', index=False)\n",
    "test_df.to_csv('../data/preprocessed/test.csv', index=False)"
   ]
  },
  {
   "cell_type": "markdown",
   "metadata": {},
   "source": [
    "### Weights and bias"
   ]
  },
  {
   "cell_type": "code",
   "execution_count": 14,
   "metadata": {},
   "outputs": [],
   "source": [
    "with open(\"../wandb.json\", \"r\") as f:\n",
    "    params = json.load(f)"
   ]
  },
  {
   "cell_type": "code",
   "execution_count": 15,
   "metadata": {},
   "outputs": [
    {
     "name": "stderr",
     "output_type": "stream",
     "text": [
      "wandb: Currently logged in as: pedro_miguel (pedro_miguel-universidade-federal-do-rio-grande-do-norte). Use `wandb login --relogin` to force relogin\n"
     ]
    }
   ],
   "source": [
    "!wandb login"
   ]
  },
  {
   "cell_type": "code",
   "execution_count": 16,
   "metadata": {},
   "outputs": [
    {
     "name": "stderr",
     "output_type": "stream",
     "text": [
      "wandb: Using wandb-core as the SDK backend.  Please refer to https://wandb.me/wandb-core for more information.\n",
      "wandb: Currently logged in as: pedro_miguel (pedro_miguel-universidade-federal-do-rio-grande-do-norte). Use `wandb login --relogin` to force relogin\n"
     ]
    },
    {
     "data": {
      "text/html": [
       "Tracking run with wandb version 0.18.7"
      ],
      "text/plain": [
       "<IPython.core.display.HTML object>"
      ]
     },
     "metadata": {},
     "output_type": "display_data"
    },
    {
     "data": {
      "text/html": [
       "Run data is saved locally in <code>e:\\Codes\\uf\\ml_ops\\DetectEssay\\ai-text-recognition\\notebooks\\wandb\\run-20250212_235915-o17r3cb5</code>"
      ],
      "text/plain": [
       "<IPython.core.display.HTML object>"
      ]
     },
     "metadata": {},
     "output_type": "display_data"
    },
    {
     "data": {
      "text/html": [
       "Syncing run <strong><a href='https://wandb.ai/pedro_miguel-universidade-federal-do-rio-grande-do-norte/llm-detect/runs/o17r3cb5' target=\"_blank\">splendid-pyramid-16</a></strong> to <a href='https://wandb.ai/pedro_miguel-universidade-federal-do-rio-grande-do-norte/llm-detect' target=\"_blank\">Weights & Biases</a> (<a href='https://wandb.me/developer-guide' target=\"_blank\">docs</a>)<br/>"
      ],
      "text/plain": [
       "<IPython.core.display.HTML object>"
      ]
     },
     "metadata": {},
     "output_type": "display_data"
    },
    {
     "data": {
      "text/html": [
       " View project at <a href='https://wandb.ai/pedro_miguel-universidade-federal-do-rio-grande-do-norte/llm-detect' target=\"_blank\">https://wandb.ai/pedro_miguel-universidade-federal-do-rio-grande-do-norte/llm-detect</a>"
      ],
      "text/plain": [
       "<IPython.core.display.HTML object>"
      ]
     },
     "metadata": {},
     "output_type": "display_data"
    },
    {
     "data": {
      "text/html": [
       " View run at <a href='https://wandb.ai/pedro_miguel-universidade-federal-do-rio-grande-do-norte/llm-detect/runs/o17r3cb5' target=\"_blank\">https://wandb.ai/pedro_miguel-universidade-federal-do-rio-grande-do-norte/llm-detect/runs/o17r3cb5</a>"
      ],
      "text/plain": [
       "<IPython.core.display.HTML object>"
      ]
     },
     "metadata": {},
     "output_type": "display_data"
    },
    {
     "data": {
      "text/html": [
       "<button onClick=\"this.nextSibling.style.display='block';this.style.display='none';\">Display W&B run</button><iframe src='https://wandb.ai/pedro_miguel-universidade-federal-do-rio-grande-do-norte/llm-detect/runs/o17r3cb5?jupyter=true' style='border:none;width:100%;height:420px;display:none;'></iframe>"
      ],
      "text/plain": [
       "<wandb.sdk.wandb_run.Run at 0x1f51325bed0>"
      ]
     },
     "execution_count": 16,
     "metadata": {},
     "output_type": "execute_result"
    }
   ],
   "source": [
    "wandb.init(project=params[\"WANDB_PROJECT\"])"
   ]
  },
  {
   "cell_type": "code",
   "execution_count": 17,
   "metadata": {},
   "outputs": [],
   "source": [
    "external_raw_data_artifact = wandb.Artifact(\"daigt_proper_train_dataset\", type=\"raw\")\n",
    "external_dataset_artifact = wandb.Artifact(\"drcat_data\", type=\"dataset\")"
   ]
  },
  {
   "cell_type": "code",
   "execution_count": 18,
   "metadata": {},
   "outputs": [],
   "source": [
    "external_raw_data_artifact.add_file('../data/raw/daigt-proper-train-dataset.zip')\n",
    "\n",
    "for i in range(1, 5):\n",
    "    external_dataset_artifact.add_file(f'../data/inter/train_drcat_0{i}.csv')"
   ]
  },
  {
   "cell_type": "code",
   "execution_count": 19,
   "metadata": {},
   "outputs": [
    {
     "data": {
      "text/plain": [
       "<Artifact drcat_data>"
      ]
     },
     "execution_count": 19,
     "metadata": {},
     "output_type": "execute_result"
    }
   ],
   "source": [
    "wandb.log_artifact(external_raw_data_artifact)\n",
    "wandb.log_artifact(external_dataset_artifact)"
   ]
  },
  {
   "cell_type": "code",
   "execution_count": 20,
   "metadata": {},
   "outputs": [],
   "source": [
    "table = wandb.Table(dataframe=df)\n",
    "wandb.log({\"Cleaned and merged data\": table})"
   ]
  },
  {
   "cell_type": "code",
   "execution_count": 21,
   "metadata": {},
   "outputs": [
    {
     "data": {
      "image/png": "[encoded data removed]",
      "text/plain": [
       "<Figure size 640x480 with 1 Axes>"
      ]
     },
     "metadata": {},
     "output_type": "display_data"
    }
   ],
   "source": [
    "data = {'Generated': 1375, 'Not Generated': 3}\n",
    "\n",
    "fig, ax = plt.subplots()\n",
    "plt.hist(df['label'], bins=2, color='#4c72b0', edgecolor='black', alpha=0.7)\n",
    "ax.set_title('Labels', fontsize=16, fontweight='bold')\n",
    "ax.set_xlabel('Valores', fontsize=12)\n",
    "ax.set_ylabel('Frequência', fontsize=12)\n",
    "ax.grid(True, linestyle='--', alpha=0.6)\n",
    "\n",
    "wandb.log({\"Merged data distribution\": wandb.Image(fig)})"
   ]
  },
  {
   "cell_type": "code",
   "execution_count": 22,
   "metadata": {},
   "outputs": [],
   "source": [
    "wandb.log({\n",
    "    \"Balanced data distribuition\": wandb.Html(\"\"\"\n",
    "        <h3>Merged banlanced data set analysis</h3>\n",
    "        <p> After the preprocessing, merging and the dropping of random samples of the dataset, it is\n",
    "        <strong>balanced an ready to be used for training the model,</strong> each label has now 19256 samples.\n",
    "        Next step is the model building</p>     \n",
    "\"\"\")\n",
    "})"
   ]
  },
  {
   "cell_type": "code",
   "execution_count": 23,
   "metadata": {},
   "outputs": [
    {
     "data": {
      "text/plain": [
       "<Artifact balanced_data>"
      ]
     },
     "execution_count": 23,
     "metadata": {},
     "output_type": "execute_result"
    }
   ],
   "source": [
    "balanced_data_artifact = wandb.Artifact(\"balanced_data\", type=\"dataset\")\n",
    "balanced_data_artifact.add_file(\"../data/preprocessed/balanced.csv\")\n",
    "\n",
    "wandb.log_artifact(balanced_data_artifact)"
   ]
  },
  {
   "cell_type": "code",
   "execution_count": 25,
   "metadata": {},
   "outputs": [
    {
     "data": {
      "application/vnd.jupyter.widget-view+json": {
       "model_id": "283d4a79b8094cefaefb5bb495963ad7",
       "version_major": 2,
       "version_minor": 0
      },
      "text/plain": [
       "VBox(children=(Label(value='75.352 MB of 373.020 MB uploaded\\r'), FloatProgress(value=0.20200508172564222, max…"
      ]
     },
     "metadata": {},
     "output_type": "display_data"
    },
    {
     "data": {
      "text/html": [
       " View run <strong style=\"color:#cdcd00\">splendid-pyramid-16</strong> at: <a href='https://wandb.ai/pedro_miguel-universidade-federal-do-rio-grande-do-norte/llm-detect/runs/o17r3cb5' target=\"_blank\">https://wandb.ai/pedro_miguel-universidade-federal-do-rio-grande-do-norte/llm-detect/runs/o17r3cb5</a><br/> View project at: <a href='https://wandb.ai/pedro_miguel-universidade-federal-do-rio-grande-do-norte/llm-detect' target=\"_blank\">https://wandb.ai/pedro_miguel-universidade-federal-do-rio-grande-do-norte/llm-detect</a><br/>Synced 4 W&B file(s), 0 media file(s), 7 artifact file(s) and 3 other file(s)"
      ],
      "text/plain": [
       "<IPython.core.display.HTML object>"
      ]
     },
     "metadata": {},
     "output_type": "display_data"
    },
    {
     "data": {
      "text/html": [
       "Find logs at: <code>.\\wandb\\run-20250212_235915-o17r3cb5\\logs</code>"
      ],
      "text/plain": [
       "<IPython.core.display.HTML object>"
      ]
     },
     "metadata": {},
     "output_type": "display_data"
    }
   ],
   "source": [
    "wandb.finish()"
   ]
  }
 ],
 "metadata": {
  "kernelspec": {
   "display_name": "base",
   "language": "python",
   "name": "python3"
  },
  "language_info": {
   "codemirror_mode": {
    "name": "ipython",
    "version": 3
   },
   "file_extension": ".py",
   "mimetype": "text/x-python",
   "name": "python",
   "nbconvert_exporter": "python",
   "pygments_lexer": "ipython3",
   "version": "3.11.5"
  }
 },
 "nbformat": 4,
 "nbformat_minor": 2
}
