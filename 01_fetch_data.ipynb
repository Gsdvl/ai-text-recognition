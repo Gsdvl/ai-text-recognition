{
 "cells": [
  {
   "cell_type": "code",
   "execution_count": 4,
   "metadata": {},
   "outputs": [
    {
     "name": "stdout",
     "output_type": "stream",
     "text": [
      "Requirement already satisfied: gdown in /home/gabs/miniconda3/envs/atr/lib/python3.10/site-packages (from -r requirements.txt (line 1)) (5.2.0)\n",
      "Requirement already satisfied: numpy in /home/gabs/.local/lib/python3.10/site-packages (from -r requirements.txt (line 2)) (2.0.2)\n",
      "Requirement already satisfied: pandas in /home/gabs/.local/lib/python3.10/site-packages (from -r requirements.txt (line 3)) (2.2.3)\n",
      "Requirement already satisfied: matplotlib in /home/gabs/.local/lib/python3.10/site-packages (from -r requirements.txt (line 4)) (3.9.3)\n",
      "Requirement already satisfied: wandb in /home/gabs/.local/lib/python3.10/site-packages (from -r requirements.txt (line 5)) (0.19.1)\n",
      "Collecting kaggle (from -r requirements.txt (line 6))\n",
      "  Downloading kaggle-1.6.17.tar.gz (82 kB)\n",
      "  Preparing metadata (setup.py) ... \u001b[?25ldone\n",
      "\u001b[?25hRequirement already satisfied: beautifulsoup4 in /home/gabs/miniconda3/envs/atr/lib/python3.10/site-packages (from gdown->-r requirements.txt (line 1)) (4.12.3)\n",
      "Requirement already satisfied: filelock in /home/gabs/miniconda3/envs/atr/lib/python3.10/site-packages (from gdown->-r requirements.txt (line 1)) (3.16.1)\n",
      "Requirement already satisfied: requests[socks] in /home/gabs/miniconda3/envs/atr/lib/python3.10/site-packages (from gdown->-r requirements.txt (line 1)) (2.32.3)\n",
      "Requirement already satisfied: tqdm in /home/gabs/.local/lib/python3.10/site-packages (from gdown->-r requirements.txt (line 1)) (4.66.5)\n",
      "Requirement already satisfied: python-dateutil>=2.8.2 in /home/gabs/.local/lib/python3.10/site-packages (from pandas->-r requirements.txt (line 3)) (2.9.0.post0)\n",
      "Requirement already satisfied: pytz>=2020.1 in /home/gabs/.local/lib/python3.10/site-packages (from pandas->-r requirements.txt (line 3)) (2024.2)\n",
      "Requirement already satisfied: tzdata>=2022.7 in /home/gabs/.local/lib/python3.10/site-packages (from pandas->-r requirements.txt (line 3)) (2024.2)\n",
      "Requirement already satisfied: contourpy>=1.0.1 in /home/gabs/.local/lib/python3.10/site-packages (from matplotlib->-r requirements.txt (line 4)) (1.0.5)\n",
      "Requirement already satisfied: cycler>=0.10 in /home/gabs/.local/lib/python3.10/site-packages (from matplotlib->-r requirements.txt (line 4)) (0.11.0)\n",
      "Requirement already satisfied: fonttools>=4.22.0 in /home/gabs/.local/lib/python3.10/site-packages (from matplotlib->-r requirements.txt (line 4)) (4.37.3)\n",
      "Requirement already satisfied: kiwisolver>=1.3.1 in /home/gabs/.local/lib/python3.10/site-packages (from matplotlib->-r requirements.txt (line 4)) (1.4.4)\n",
      "Requirement already satisfied: packaging>=20.0 in /home/gabs/.local/lib/python3.10/site-packages (from matplotlib->-r requirements.txt (line 4)) (24.1)\n",
      "Requirement already satisfied: pillow>=8 in /home/gabs/miniconda3/envs/atr/lib/python3.10/site-packages (from matplotlib->-r requirements.txt (line 4)) (11.1.0)\n",
      "Requirement already satisfied: pyparsing>=2.3.1 in /home/gabs/miniconda3/envs/atr/lib/python3.10/site-packages (from matplotlib->-r requirements.txt (line 4)) (3.2.1)\n",
      "Requirement already satisfied: click!=8.0.0,>=7.1 in /home/gabs/miniconda3/envs/atr/lib/python3.10/site-packages (from wandb->-r requirements.txt (line 5)) (8.1.8)\n",
      "Requirement already satisfied: docker-pycreds>=0.4.0 in /home/gabs/.local/lib/python3.10/site-packages (from wandb->-r requirements.txt (line 5)) (0.4.0)\n",
      "Requirement already satisfied: gitpython!=3.1.29,>=1.0.0 in /home/gabs/.local/lib/python3.10/site-packages (from wandb->-r requirements.txt (line 5)) (3.1.43)\n",
      "Requirement already satisfied: platformdirs in /home/gabs/.local/lib/python3.10/site-packages (from wandb->-r requirements.txt (line 5)) (4.3.6)\n",
      "Requirement already satisfied: protobuf!=4.21.0,!=5.28.0,<6,>=3.19.0 in /home/gabs/.local/lib/python3.10/site-packages (from wandb->-r requirements.txt (line 5)) (5.29.1)\n",
      "Requirement already satisfied: psutil>=5.0.0 in /home/gabs/miniconda3/envs/atr/lib/python3.10/site-packages (from wandb->-r requirements.txt (line 5)) (5.9.0)\n",
      "Requirement already satisfied: pydantic<3,>=2.6 in /home/gabs/.local/lib/python3.10/site-packages (from wandb->-r requirements.txt (line 5)) (2.9.2)\n",
      "Requirement already satisfied: pyyaml in /home/gabs/miniconda3/envs/atr/lib/python3.10/site-packages (from wandb->-r requirements.txt (line 5)) (6.0.2)\n",
      "Requirement already satisfied: sentry-sdk>=2.0.0 in /home/gabs/.local/lib/python3.10/site-packages (from wandb->-r requirements.txt (line 5)) (2.19.1)\n",
      "Requirement already satisfied: setproctitle in /home/gabs/miniconda3/envs/atr/lib/python3.10/site-packages (from wandb->-r requirements.txt (line 5)) (1.3.4)\n",
      "Requirement already satisfied: setuptools in /home/gabs/miniconda3/envs/atr/lib/python3.10/site-packages (from wandb->-r requirements.txt (line 5)) (75.1.0)\n",
      "Requirement already satisfied: typing-extensions<5,>=4.4 in /home/gabs/.local/lib/python3.10/site-packages (from wandb->-r requirements.txt (line 5)) (4.12.2)\n",
      "Requirement already satisfied: six>=1.10 in /home/gabs/.local/lib/python3.10/site-packages (from kaggle->-r requirements.txt (line 6)) (1.16.0)\n",
      "Requirement already satisfied: certifi>=2023.7.22 in /home/gabs/miniconda3/envs/atr/lib/python3.10/site-packages (from kaggle->-r requirements.txt (line 6)) (2024.12.14)\n",
      "Collecting python-slugify (from kaggle->-r requirements.txt (line 6))\n",
      "  Downloading python_slugify-8.0.4-py2.py3-none-any.whl.metadata (8.5 kB)\n",
      "Requirement already satisfied: urllib3 in /home/gabs/miniconda3/envs/atr/lib/python3.10/site-packages (from kaggle->-r requirements.txt (line 6)) (2.3.0)\n",
      "Collecting bleach (from kaggle->-r requirements.txt (line 6))\n",
      "  Downloading bleach-6.2.0-py3-none-any.whl.metadata (30 kB)\n",
      "Requirement already satisfied: gitdb<5,>=4.0.1 in /home/gabs/.local/lib/python3.10/site-packages (from gitpython!=3.1.29,>=1.0.0->wandb->-r requirements.txt (line 5)) (4.0.11)\n",
      "Requirement already satisfied: annotated-types>=0.6.0 in /home/gabs/.local/lib/python3.10/site-packages (from pydantic<3,>=2.6->wandb->-r requirements.txt (line 5)) (0.7.0)\n",
      "Requirement already satisfied: pydantic-core==2.23.4 in /home/gabs/.local/lib/python3.10/site-packages (from pydantic<3,>=2.6->wandb->-r requirements.txt (line 5)) (2.23.4)\n",
      "Requirement already satisfied: charset-normalizer<4,>=2 in /home/gabs/miniconda3/envs/atr/lib/python3.10/site-packages (from requests[socks]->gdown->-r requirements.txt (line 1)) (3.4.1)\n",
      "Requirement already satisfied: idna<4,>=2.5 in /home/gabs/miniconda3/envs/atr/lib/python3.10/site-packages (from requests[socks]->gdown->-r requirements.txt (line 1)) (3.10)\n",
      "Requirement already satisfied: soupsieve>1.2 in /home/gabs/miniconda3/envs/atr/lib/python3.10/site-packages (from beautifulsoup4->gdown->-r requirements.txt (line 1)) (2.6)\n",
      "Collecting webencodings (from bleach->kaggle->-r requirements.txt (line 6))\n",
      "  Downloading webencodings-0.5.1-py2.py3-none-any.whl.metadata (2.1 kB)\n",
      "Collecting text-unidecode>=1.3 (from python-slugify->kaggle->-r requirements.txt (line 6))\n",
      "  Downloading text_unidecode-1.3-py2.py3-none-any.whl.metadata (2.4 kB)\n",
      "Requirement already satisfied: PySocks!=1.5.7,>=1.5.6 in /home/gabs/miniconda3/envs/atr/lib/python3.10/site-packages (from requests[socks]->gdown->-r requirements.txt (line 1)) (1.7.1)\n",
      "Requirement already satisfied: smmap<6,>=3.0.1 in /home/gabs/.local/lib/python3.10/site-packages (from gitdb<5,>=4.0.1->gitpython!=3.1.29,>=1.0.0->wandb->-r requirements.txt (line 5)) (5.0.1)\n",
      "Downloading bleach-6.2.0-py3-none-any.whl (163 kB)\n",
      "Downloading python_slugify-8.0.4-py2.py3-none-any.whl (10 kB)\n",
      "Downloading text_unidecode-1.3-py2.py3-none-any.whl (78 kB)\n",
      "Downloading webencodings-0.5.1-py2.py3-none-any.whl (11 kB)\n",
      "Building wheels for collected packages: kaggle\n",
      "  Building wheel for kaggle (setup.py) ... \u001b[?25ldone\n",
      "\u001b[?25h  Created wheel for kaggle: filename=kaggle-1.6.17-py3-none-any.whl size=105786 sha256=52230163612864961669e091ff7b7562277fbb61cf2a61f0100b96e59fabbda1\n",
      "  Stored in directory: /home/gabs/.cache/pip/wheels/9f/af/22/bf406f913dc7506a485e60dce8143741abd0a92a19337d83a3\n",
      "Successfully built kaggle\n",
      "Installing collected packages: webencodings, text-unidecode, python-slugify, bleach, kaggle\n",
      "Successfully installed bleach-6.2.0 kaggle-1.6.17 python-slugify-8.0.4 text-unidecode-1.3 webencodings-0.5.1\n",
      "Note: you may need to restart the kernel to use updated packages.\n"
     ]
    }
   ],
   "source": [
    "%pip install -r requirements.txt"
   ]
  },
  {
   "cell_type": "code",
   "execution_count": 5,
   "metadata": {},
   "outputs": [
    {
     "name": "stdout",
     "output_type": "stream",
     "text": [
      "Downloading llm-detect-ai-generated-text.zip to /home/gabs/Documentos/EstudosProgramacao/DataScience/DeepLearning/ai-text-recognition\n",
      " 72%|███████████████████████████▍          | 1.00M/1.38M [00:00<00:00, 1.38MB/s]\n",
      "100%|██████████████████████████████████████| 1.38M/1.38M [00:00<00:00, 1.81MB/s]\n"
     ]
    }
   ],
   "source": [
    "!kaggle competitions download -c llm-detect-ai-generated-text\n"
   ]
  },
  {
   "cell_type": "code",
   "execution_count": 6,
   "metadata": {},
   "outputs": [
    {
     "name": "stdout",
     "output_type": "stream",
     "text": [
      "Archive:  llm-detect-ai-generated-text.zip\n",
      "  inflating: llm-detect-data/sample_submission.csv  \n",
      "  inflating: llm-detect-data/test_essays.csv  \n",
      "  inflating: llm-detect-data/train_essays.csv  \n",
      "  inflating: llm-detect-data/train_prompts.csv  \n"
     ]
    }
   ],
   "source": [
    "!unzip llm-detect-ai-generated-text.zip -d llm-detect-data\n"
   ]
  }
 ],
 "metadata": {
  "kernelspec": {
   "display_name": "atr",
   "language": "python",
   "name": "python3"
  },
  "language_info": {
   "codemirror_mode": {
    "name": "ipython",
    "version": 3
   },
   "file_extension": ".py",
   "mimetype": "text/x-python",
   "name": "python",
   "nbconvert_exporter": "python",
   "pygments_lexer": "ipython3",
   "version": "3.10.16"
  }
 },
 "nbformat": 4,
 "nbformat_minor": 2
}
